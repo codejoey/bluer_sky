{
  "cells": [
    {
      "cell_type": "code",
      "execution_count": 5,
      "metadata": {
        "colab": {
          "base_uri": "https://localhost:8080/"
        },
        "id": "hNlxCpHRW747",
        "outputId": "966281fd-6c4a-4c66-87a7-68186330c8fc"
      },
      "outputs": [
        {
          "name": "stdout",
          "output_type": "stream",
          "text": [
            "Requirement already satisfied: atproto in /Users/tanzeela/opt/anaconda3/envs/bluesky-hack/lib/python3.10/site-packages (0.0.43)\n",
            "Requirement already satisfied: click<9,>=8.1.3 in /Users/tanzeela/opt/anaconda3/envs/bluesky-hack/lib/python3.10/site-packages (from atproto) (8.1.7)\n",
            "Requirement already satisfied: cryptography<43,>=41.0.7 in /Users/tanzeela/opt/anaconda3/envs/bluesky-hack/lib/python3.10/site-packages (from atproto) (42.0.5)\n",
            "Requirement already satisfied: dnspython<3,>=2.3.0 in /Users/tanzeela/opt/anaconda3/envs/bluesky-hack/lib/python3.10/site-packages (from atproto) (2.6.1)\n",
            "Requirement already satisfied: httpx<0.26.0,>=0.24.0 in /Users/tanzeela/opt/anaconda3/envs/bluesky-hack/lib/python3.10/site-packages (from atproto) (0.25.2)\n",
            "Requirement already satisfied: libipld<2.0.0,>=1.1.0 in /Users/tanzeela/opt/anaconda3/envs/bluesky-hack/lib/python3.10/site-packages (from atproto) (1.1.1)\n",
            "Requirement already satisfied: pydantic<3.0,>=2.0 in /Users/tanzeela/opt/anaconda3/envs/bluesky-hack/lib/python3.10/site-packages (from atproto) (2.6.2)\n",
            "Requirement already satisfied: typing-extensions<5,>=4.6.1 in /Users/tanzeela/opt/anaconda3/envs/bluesky-hack/lib/python3.10/site-packages (from atproto) (4.9.0)\n",
            "Requirement already satisfied: websockets<13,>=11.0.3 in /Users/tanzeela/opt/anaconda3/envs/bluesky-hack/lib/python3.10/site-packages (from atproto) (12.0)\n",
            "Requirement already satisfied: cffi>=1.12 in /Users/tanzeela/opt/anaconda3/envs/bluesky-hack/lib/python3.10/site-packages (from cryptography<43,>=41.0.7->atproto) (1.16.0)\n",
            "Requirement already satisfied: anyio in /Users/tanzeela/opt/anaconda3/envs/bluesky-hack/lib/python3.10/site-packages (from httpx<0.26.0,>=0.24.0->atproto) (4.3.0)\n",
            "Requirement already satisfied: certifi in /Users/tanzeela/opt/anaconda3/envs/bluesky-hack/lib/python3.10/site-packages (from httpx<0.26.0,>=0.24.0->atproto) (2024.2.2)\n",
            "Requirement already satisfied: httpcore==1.* in /Users/tanzeela/opt/anaconda3/envs/bluesky-hack/lib/python3.10/site-packages (from httpx<0.26.0,>=0.24.0->atproto) (1.0.4)\n",
            "Requirement already satisfied: idna in /Users/tanzeela/opt/anaconda3/envs/bluesky-hack/lib/python3.10/site-packages (from httpx<0.26.0,>=0.24.0->atproto) (3.6)\n",
            "Requirement already satisfied: sniffio in /Users/tanzeela/opt/anaconda3/envs/bluesky-hack/lib/python3.10/site-packages (from httpx<0.26.0,>=0.24.0->atproto) (1.3.0)\n",
            "Requirement already satisfied: h11<0.15,>=0.13 in /Users/tanzeela/opt/anaconda3/envs/bluesky-hack/lib/python3.10/site-packages (from httpcore==1.*->httpx<0.26.0,>=0.24.0->atproto) (0.14.0)\n",
            "Requirement already satisfied: annotated-types>=0.4.0 in /Users/tanzeela/opt/anaconda3/envs/bluesky-hack/lib/python3.10/site-packages (from pydantic<3.0,>=2.0->atproto) (0.6.0)\n",
            "Requirement already satisfied: pydantic-core==2.16.3 in /Users/tanzeela/opt/anaconda3/envs/bluesky-hack/lib/python3.10/site-packages (from pydantic<3.0,>=2.0->atproto) (2.16.3)\n",
            "Requirement already satisfied: pycparser in /Users/tanzeela/opt/anaconda3/envs/bluesky-hack/lib/python3.10/site-packages (from cffi>=1.12->cryptography<43,>=41.0.7->atproto) (2.21)\n",
            "Requirement already satisfied: exceptiongroup>=1.0.2 in /Users/tanzeela/opt/anaconda3/envs/bluesky-hack/lib/python3.10/site-packages (from anyio->httpx<0.26.0,>=0.24.0->atproto) (1.2.0)\n",
            "Collecting pandas\n",
            "  Downloading pandas-2.2.1-cp310-cp310-macosx_10_9_x86_64.whl.metadata (19 kB)\n",
            "Collecting numpy<2,>=1.22.4 (from pandas)\n",
            "  Downloading numpy-1.26.4-cp310-cp310-macosx_10_9_x86_64.whl.metadata (61 kB)\n",
            "\u001b[2K     \u001b[38;2;114;156;31m━━━━━━━━━━━━━━━━━━━━━━━━━━━━━━━━━━━━━━━━\u001b[0m \u001b[32m61.1/61.1 kB\u001b[0m \u001b[31m3.2 MB/s\u001b[0m eta \u001b[36m0:00:00\u001b[0m\n",
            "\u001b[?25hRequirement already satisfied: python-dateutil>=2.8.2 in /Users/tanzeela/opt/anaconda3/envs/bluesky-hack/lib/python3.10/site-packages (from pandas) (2.8.2)\n",
            "Collecting pytz>=2020.1 (from pandas)\n",
            "  Downloading pytz-2024.1-py2.py3-none-any.whl.metadata (22 kB)\n",
            "Collecting tzdata>=2022.7 (from pandas)\n",
            "  Downloading tzdata-2024.1-py2.py3-none-any.whl.metadata (1.4 kB)\n",
            "Requirement already satisfied: six>=1.5 in /Users/tanzeela/opt/anaconda3/envs/bluesky-hack/lib/python3.10/site-packages (from python-dateutil>=2.8.2->pandas) (1.16.0)\n",
            "Downloading pandas-2.2.1-cp310-cp310-macosx_10_9_x86_64.whl (12.5 MB)\n",
            "\u001b[2K   \u001b[38;2;114;156;31m━━━━━━━━━━━━━━━━━━━━━━━━━━━━━━━━━━━━━━━━\u001b[0m \u001b[32m12.5/12.5 MB\u001b[0m \u001b[31m23.9 MB/s\u001b[0m eta \u001b[36m0:00:00\u001b[0m[36m0:00:01\u001b[0mm eta \u001b[36m0:00:01\u001b[0m\n",
            "\u001b[?25hDownloading numpy-1.26.4-cp310-cp310-macosx_10_9_x86_64.whl (20.6 MB)\n",
            "\u001b[2K   \u001b[38;2;114;156;31m━━━━━━━━━━━━━━━━━━━━━━━━━━━━━━━━━━━━━━━━\u001b[0m \u001b[32m20.6/20.6 MB\u001b[0m \u001b[31m27.5 MB/s\u001b[0m eta \u001b[36m0:00:00\u001b[0mm eta \u001b[36m0:00:01\u001b[0m0:01\u001b[0m:01\u001b[0m\n",
            "\u001b[?25hDownloading pytz-2024.1-py2.py3-none-any.whl (505 kB)\n",
            "\u001b[2K   \u001b[38;2;114;156;31m━━━━━━━━━━━━━━━━━━━━━━━━━━━━━━━━━━━━━━━━\u001b[0m \u001b[32m505.5/505.5 kB\u001b[0m \u001b[31m30.4 MB/s\u001b[0m eta \u001b[36m0:00:00\u001b[0m\n",
            "\u001b[?25hDownloading tzdata-2024.1-py2.py3-none-any.whl (345 kB)\n",
            "\u001b[2K   \u001b[38;2;114;156;31m━━━━━━━━━━━━━━━━━━━━━━━━━━━━━━━━━━━━━━━━\u001b[0m \u001b[32m345.4/345.4 kB\u001b[0m \u001b[31m23.1 MB/s\u001b[0m eta \u001b[36m0:00:00\u001b[0m\n",
            "\u001b[?25hInstalling collected packages: pytz, tzdata, numpy, pandas\n",
            "Successfully installed numpy-1.26.4 pandas-2.2.1 pytz-2024.1 tzdata-2024.1\n"
          ]
        }
      ],
      "source": [
        "!pip install atproto\n",
        "!pip install pandas"
      ]
    },
    {
      "cell_type": "code",
      "execution_count": 2,
      "metadata": {
        "colab": {
          "base_uri": "https://localhost:8080/"
        },
        "id": "yo0KYBXXXIJ7",
        "outputId": "27ffbd4a-674b-4cc9-c713-5c44fb149b9d"
      },
      "outputs": [
        {
          "data": {
            "text/plain": [
              "ProfileViewDetailed(did='did:plc:qxbfwbmvt4tu35wfpo3557c7', handle='abdelasworld.bsky.social', avatar=None, banner=None, description=None, display_name='', followers_count=1, follows_count=0, indexed_at='2024-02-25T12:32:03.947Z', labels=[], posts_count=4, viewer=ViewerState(blocked_by=False, blocking=None, blocking_by_list=None, followed_by=None, following=None, muted=False, muted_by_list=None, py_type='app.bsky.actor.defs#viewerState'), py_type='app.bsky.actor.defs#profileViewDetailed')"
            ]
          },
          "execution_count": 2,
          "metadata": {},
          "output_type": "execute_result"
        }
      ],
      "source": [
        "from atproto import Client\n",
        "\n",
        "client = Client(base_url='https://bsky.social')\n",
        "client.login('abdelasworld.bsky.social', 'xyhBi3-xacvuh-kuhxyf')"
      ]
    },
    {
      "cell_type": "code",
      "execution_count": 3,
      "metadata": {
        "id": "jWrm5YQ5X8Mm"
      },
      "outputs": [],
      "source": [
        "post = client.send_post('Hello world! I posted this via the Python SDK.')"
      ]
    },
    {
      "cell_type": "code",
      "execution_count": 4,
      "metadata": {
        "colab": {
          "base_uri": "https://localhost:8080/"
        },
        "id": "1ezIRlETz4OZ",
        "outputId": "864b03ea-c73a-4593-fc65-5facb6288c51"
      },
      "outputs": [
        {
          "name": "stdout",
          "output_type": "stream",
          "text": [
            "Collecting replicate\n",
            "  Downloading replicate-0.24.0-py3-none-any.whl.metadata (23 kB)\n",
            "Requirement already satisfied: httpx<1,>=0.21.0 in /Users/tanzeela/opt/anaconda3/envs/bluesky-hack/lib/python3.10/site-packages (from replicate) (0.25.2)\n",
            "Requirement already satisfied: packaging in /Users/tanzeela/opt/anaconda3/envs/bluesky-hack/lib/python3.10/site-packages (from replicate) (23.2)\n",
            "Requirement already satisfied: pydantic>1 in /Users/tanzeela/opt/anaconda3/envs/bluesky-hack/lib/python3.10/site-packages (from replicate) (2.6.2)\n",
            "Requirement already satisfied: typing-extensions>=4.5.0 in /Users/tanzeela/opt/anaconda3/envs/bluesky-hack/lib/python3.10/site-packages (from replicate) (4.9.0)\n",
            "Requirement already satisfied: anyio in /Users/tanzeela/opt/anaconda3/envs/bluesky-hack/lib/python3.10/site-packages (from httpx<1,>=0.21.0->replicate) (4.3.0)\n",
            "Requirement already satisfied: certifi in /Users/tanzeela/opt/anaconda3/envs/bluesky-hack/lib/python3.10/site-packages (from httpx<1,>=0.21.0->replicate) (2024.2.2)\n",
            "Requirement already satisfied: httpcore==1.* in /Users/tanzeela/opt/anaconda3/envs/bluesky-hack/lib/python3.10/site-packages (from httpx<1,>=0.21.0->replicate) (1.0.4)\n",
            "Requirement already satisfied: idna in /Users/tanzeela/opt/anaconda3/envs/bluesky-hack/lib/python3.10/site-packages (from httpx<1,>=0.21.0->replicate) (3.6)\n",
            "Requirement already satisfied: sniffio in /Users/tanzeela/opt/anaconda3/envs/bluesky-hack/lib/python3.10/site-packages (from httpx<1,>=0.21.0->replicate) (1.3.0)\n",
            "Requirement already satisfied: h11<0.15,>=0.13 in /Users/tanzeela/opt/anaconda3/envs/bluesky-hack/lib/python3.10/site-packages (from httpcore==1.*->httpx<1,>=0.21.0->replicate) (0.14.0)\n",
            "Requirement already satisfied: annotated-types>=0.4.0 in /Users/tanzeela/opt/anaconda3/envs/bluesky-hack/lib/python3.10/site-packages (from pydantic>1->replicate) (0.6.0)\n",
            "Requirement already satisfied: pydantic-core==2.16.3 in /Users/tanzeela/opt/anaconda3/envs/bluesky-hack/lib/python3.10/site-packages (from pydantic>1->replicate) (2.16.3)\n",
            "Requirement already satisfied: exceptiongroup>=1.0.2 in /Users/tanzeela/opt/anaconda3/envs/bluesky-hack/lib/python3.10/site-packages (from anyio->httpx<1,>=0.21.0->replicate) (1.2.0)\n",
            "Downloading replicate-0.24.0-py3-none-any.whl (37 kB)\n",
            "Installing collected packages: replicate\n",
            "Successfully installed replicate-0.24.0\n",
            "env: REPLICATE_API_TOKEN=r8_6hSEKVXY9LDrZjkMAYWYxKER1mArxbK1TzLIb  # Set your API token\n"
          ]
        }
      ],
      "source": [
        "!pip install replicate  # Install the Replicate package if you haven't already\n",
        "%env REPLICATE_API_TOKEN=r8_6hSEKVXY9LDrZjkMAYWYxKER1mArxbK1TzLIb  # Set your API token\n"
      ]
    },
    {
      "cell_type": "code",
      "execution_count": 5,
      "metadata": {
        "colab": {
          "base_uri": "https://localhost:8080/"
        },
        "id": "mOpcxStT0V_2",
        "outputId": "8051191c-3383-4773-840e-8f20ef1bf450"
      },
      "outputs": [],
      "source": [
        "# get a token: https://replicate.com/account\n",
        "from getpass import getpass\n",
        "import os\n",
        "\n",
        "REPLICATE_API_TOKEN = getpass()\n",
        "os.environ[\"REPLICATE_API_TOKEN\"] = REPLICATE_API_TOKEN"
      ]
    },
    {
      "cell_type": "code",
      "execution_count": null,
      "metadata": {
        "colab": {
          "base_uri": "https://localhost:8080/",
          "height": 316
        },
        "id": "NYk3-4Cj0b3e",
        "outputId": "d5a5ab67-9312-46f0-c5d0-c2077180b5cf"
      },
      "outputs": [
        {
          "ename": "ReplicateError",
          "evalue": "You did not pass an authentication token",
          "output_type": "error",
          "traceback": [
            "\u001b[0;31m---------------------------------------------------------------------------\u001b[0m",
            "\u001b[0;31mReplicateError\u001b[0m                            Traceback (most recent call last)",
            "\u001b[0;32m<ipython-input-28-dc96923330e0>\u001b[0m in \u001b[0;36m<cell line: 3>\u001b[0;34m()\u001b[0m\n\u001b[1;32m      1\u001b[0m \u001b[0;32mimport\u001b[0m \u001b[0mreplicate\u001b[0m\u001b[0;34m\u001b[0m\u001b[0;34m\u001b[0m\u001b[0m\n\u001b[1;32m      2\u001b[0m \u001b[0;34m\u001b[0m\u001b[0m\n\u001b[0;32m----> 3\u001b[0;31m output = replicate.run(\n\u001b[0m\u001b[1;32m      4\u001b[0m   \u001b[0;34m\"stability-ai/sdxl:39ed52f2a78e934b3ba6e2a89f5b1c712de7dfea535525255b1aa35c5565e08b\"\u001b[0m\u001b[0;34m,\u001b[0m\u001b[0;34m\u001b[0m\u001b[0;34m\u001b[0m\u001b[0m\n\u001b[1;32m      5\u001b[0m   \u001b[0minput\u001b[0m\u001b[0;34m=\u001b[0m\u001b[0;34m{\u001b[0m\u001b[0;34m\"prompt\"\u001b[0m\u001b[0;34m:\u001b[0m \u001b[0;34m\"an iguana on the beach, pointillism\"\u001b[0m\u001b[0;34m}\u001b[0m\u001b[0;34m\u001b[0m\u001b[0;34m\u001b[0m\u001b[0m\n",
            "\u001b[0;32m/usr/local/lib/python3.10/dist-packages/replicate/client.py\u001b[0m in \u001b[0;36mrun\u001b[0;34m(self, ref, input, **params)\u001b[0m\n\u001b[1;32m    155\u001b[0m         \"\"\"\n\u001b[1;32m    156\u001b[0m \u001b[0;34m\u001b[0m\u001b[0m\n\u001b[0;32m--> 157\u001b[0;31m         \u001b[0;32mreturn\u001b[0m \u001b[0mrun\u001b[0m\u001b[0;34m(\u001b[0m\u001b[0mself\u001b[0m\u001b[0;34m,\u001b[0m \u001b[0mref\u001b[0m\u001b[0;34m,\u001b[0m \u001b[0minput\u001b[0m\u001b[0;34m,\u001b[0m \u001b[0;34m**\u001b[0m\u001b[0mparams\u001b[0m\u001b[0;34m)\u001b[0m\u001b[0;34m\u001b[0m\u001b[0;34m\u001b[0m\u001b[0m\n\u001b[0m\u001b[1;32m    158\u001b[0m \u001b[0;34m\u001b[0m\u001b[0m\n\u001b[1;32m    159\u001b[0m     async def async_run(\n",
            "\u001b[0;32m/usr/local/lib/python3.10/dist-packages/replicate/run.py\u001b[0m in \u001b[0;36mrun\u001b[0;34m(client, ref, input, **params)\u001b[0m\n\u001b[1;32m     38\u001b[0m \u001b[0;34m\u001b[0m\u001b[0m\n\u001b[1;32m     39\u001b[0m     \u001b[0;32mif\u001b[0m \u001b[0mversion_id\u001b[0m \u001b[0;32mis\u001b[0m \u001b[0;32mnot\u001b[0m \u001b[0;32mNone\u001b[0m\u001b[0;34m:\u001b[0m\u001b[0;34m\u001b[0m\u001b[0;34m\u001b[0m\u001b[0m\n\u001b[0;32m---> 40\u001b[0;31m         prediction = client.predictions.create(\n\u001b[0m\u001b[1;32m     41\u001b[0m             \u001b[0mversion\u001b[0m\u001b[0;34m=\u001b[0m\u001b[0mversion_id\u001b[0m\u001b[0;34m,\u001b[0m \u001b[0minput\u001b[0m\u001b[0;34m=\u001b[0m\u001b[0minput\u001b[0m \u001b[0;32mor\u001b[0m \u001b[0;34m{\u001b[0m\u001b[0;34m}\u001b[0m\u001b[0;34m,\u001b[0m \u001b[0;34m**\u001b[0m\u001b[0mparams\u001b[0m\u001b[0;34m\u001b[0m\u001b[0;34m\u001b[0m\u001b[0m\n\u001b[1;32m     42\u001b[0m         )\n",
            "\u001b[0;32m/usr/local/lib/python3.10/dist-packages/replicate/prediction.py\u001b[0m in \u001b[0;36mcreate\u001b[0;34m(self, version, input, **params)\u001b[0m\n\u001b[1;32m    371\u001b[0m             \u001b[0;34m**\u001b[0m\u001b[0mparams\u001b[0m\u001b[0;34m,\u001b[0m\u001b[0;34m\u001b[0m\u001b[0;34m\u001b[0m\u001b[0m\n\u001b[1;32m    372\u001b[0m         )\n\u001b[0;32m--> 373\u001b[0;31m         resp = self._client._request(\n\u001b[0m\u001b[1;32m    374\u001b[0m             \u001b[0;34m\"POST\"\u001b[0m\u001b[0;34m,\u001b[0m\u001b[0;34m\u001b[0m\u001b[0;34m\u001b[0m\u001b[0m\n\u001b[1;32m    375\u001b[0m             \u001b[0;34m\"/v1/predictions\"\u001b[0m\u001b[0;34m,\u001b[0m\u001b[0;34m\u001b[0m\u001b[0;34m\u001b[0m\u001b[0m\n",
            "\u001b[0;32m/usr/local/lib/python3.10/dist-packages/replicate/client.py\u001b[0m in \u001b[0;36m_request\u001b[0;34m(self, method, path, **kwargs)\u001b[0m\n\u001b[1;32m     85\u001b[0m     \u001b[0;32mdef\u001b[0m \u001b[0m_request\u001b[0m\u001b[0;34m(\u001b[0m\u001b[0mself\u001b[0m\u001b[0;34m,\u001b[0m \u001b[0mmethod\u001b[0m\u001b[0;34m:\u001b[0m \u001b[0mstr\u001b[0m\u001b[0;34m,\u001b[0m \u001b[0mpath\u001b[0m\u001b[0;34m:\u001b[0m \u001b[0mstr\u001b[0m\u001b[0;34m,\u001b[0m \u001b[0;34m**\u001b[0m\u001b[0mkwargs\u001b[0m\u001b[0;34m)\u001b[0m \u001b[0;34m->\u001b[0m \u001b[0mhttpx\u001b[0m\u001b[0;34m.\u001b[0m\u001b[0mResponse\u001b[0m\u001b[0;34m:\u001b[0m\u001b[0;34m\u001b[0m\u001b[0;34m\u001b[0m\u001b[0m\n\u001b[1;32m     86\u001b[0m         \u001b[0mresp\u001b[0m \u001b[0;34m=\u001b[0m \u001b[0mself\u001b[0m\u001b[0;34m.\u001b[0m\u001b[0m_client\u001b[0m\u001b[0;34m.\u001b[0m\u001b[0mrequest\u001b[0m\u001b[0;34m(\u001b[0m\u001b[0mmethod\u001b[0m\u001b[0;34m,\u001b[0m \u001b[0mpath\u001b[0m\u001b[0;34m,\u001b[0m \u001b[0;34m**\u001b[0m\u001b[0mkwargs\u001b[0m\u001b[0;34m)\u001b[0m\u001b[0;34m\u001b[0m\u001b[0;34m\u001b[0m\u001b[0m\n\u001b[0;32m---> 87\u001b[0;31m         \u001b[0m_raise_for_status\u001b[0m\u001b[0;34m(\u001b[0m\u001b[0mresp\u001b[0m\u001b[0;34m)\u001b[0m\u001b[0;34m\u001b[0m\u001b[0;34m\u001b[0m\u001b[0m\n\u001b[0m\u001b[1;32m     88\u001b[0m \u001b[0;34m\u001b[0m\u001b[0m\n\u001b[1;32m     89\u001b[0m         \u001b[0;32mreturn\u001b[0m \u001b[0mresp\u001b[0m\u001b[0;34m\u001b[0m\u001b[0;34m\u001b[0m\u001b[0m\n",
            "\u001b[0;32m/usr/local/lib/python3.10/dist-packages/replicate/client.py\u001b[0m in \u001b[0;36m_raise_for_status\u001b[0;34m(resp)\u001b[0m\n\u001b[1;32m    366\u001b[0m \u001b[0;32mdef\u001b[0m \u001b[0m_raise_for_status\u001b[0m\u001b[0;34m(\u001b[0m\u001b[0mresp\u001b[0m\u001b[0;34m:\u001b[0m \u001b[0mhttpx\u001b[0m\u001b[0;34m.\u001b[0m\u001b[0mResponse\u001b[0m\u001b[0;34m)\u001b[0m \u001b[0;34m->\u001b[0m \u001b[0;32mNone\u001b[0m\u001b[0;34m:\u001b[0m\u001b[0;34m\u001b[0m\u001b[0;34m\u001b[0m\u001b[0m\n\u001b[1;32m    367\u001b[0m     \u001b[0;32mif\u001b[0m \u001b[0;36m400\u001b[0m \u001b[0;34m<=\u001b[0m \u001b[0mresp\u001b[0m\u001b[0;34m.\u001b[0m\u001b[0mstatus_code\u001b[0m \u001b[0;34m<\u001b[0m \u001b[0;36m600\u001b[0m\u001b[0;34m:\u001b[0m\u001b[0;34m\u001b[0m\u001b[0;34m\u001b[0m\u001b[0m\n\u001b[0;32m--> 368\u001b[0;31m         \u001b[0;32mraise\u001b[0m \u001b[0mReplicateError\u001b[0m\u001b[0;34m(\u001b[0m\u001b[0mresp\u001b[0m\u001b[0;34m.\u001b[0m\u001b[0mjson\u001b[0m\u001b[0;34m(\u001b[0m\u001b[0;34m)\u001b[0m\u001b[0;34m[\u001b[0m\u001b[0;34m\"detail\"\u001b[0m\u001b[0;34m]\u001b[0m\u001b[0;34m)\u001b[0m\u001b[0;34m\u001b[0m\u001b[0;34m\u001b[0m\u001b[0m\n\u001b[0m",
            "\u001b[0;31mReplicateError\u001b[0m: You did not pass an authentication token"
          ]
        }
      ],
      "source": [
        "import replicate\n",
        "\n",
        "output = replicate.run(\n",
        "  \"stability-ai/sdxl:39ed52f2a78e934b3ba6e2a89f5b1c712de7dfea535525255b1aa35c5565e08b\",\n",
        "  input={\"prompt\": \"an iguana on the beach, pointillism\"}\n",
        ")\n",
        "\n",
        "output"
      ]
    },
    {
      "cell_type": "code",
      "execution_count": 6,
      "metadata": {
        "id": "FnwkPTzV6ZHt"
      },
      "outputs": [
        {
          "name": "stdout",
          "output_type": "stream",
          "text": [
            "                                                 uri  \\\n",
            "0  at://did:plc:eg336dt7kyike5xkyed3iwcv/app.bsky...   \n",
            "1  at://did:plc:eg336dt7kyike5xkyed3iwcv/app.bsky...   \n",
            "2  at://did:plc:eg336dt7kyike5xkyed3iwcv/app.bsky...   \n",
            "3  at://did:plc:eg336dt7kyike5xkyed3iwcv/app.bsky...   \n",
            "4  at://did:plc:eg336dt7kyike5xkyed3iwcv/app.bsky...   \n",
            "\n",
            "                                did                created_at  \\\n",
            "0  did:plc:eg336dt7kyike5xkyed3iwcv  2024-02-25T03:03:05.501Z   \n",
            "1  did:plc:eg336dt7kyike5xkyed3iwcv  2024-02-25T03:01:36.007Z   \n",
            "2  did:plc:eg336dt7kyike5xkyed3iwcv  2024-02-25T02:54:02.884Z   \n",
            "3  did:plc:eg336dt7kyike5xkyed3iwcv  2024-02-25T02:53:41.918Z   \n",
            "4  did:plc:eg336dt7kyike5xkyed3iwcv  2024-02-21T02:46:53.686Z   \n",
            "\n",
            "                                            root_uri  \\\n",
            "0  at://did:plc:ywczrtwaregzylsuuhzxk2t3/app.bsky...   \n",
            "1  at://did:plc:eg336dt7kyike5xkyed3iwcv/app.bsky...   \n",
            "2  at://did:plc:eg336dt7kyike5xkyed3iwcv/app.bsky...   \n",
            "3                                                NaN   \n",
            "4                                                NaN   \n",
            "\n",
            "                                          parent_uri  subject_uri  card_link  \\\n",
            "0  at://did:plc:ywczrtwaregzylsuuhzxk2t3/app.bsky...          NaN        NaN   \n",
            "1  at://did:plc:trmy2fomvi2zadtpioz44vml/app.bsky...          NaN        NaN   \n",
            "2  at://did:plc:eg336dt7kyike5xkyed3iwcv/app.bsky...          NaN        NaN   \n",
            "3                                                NaN          NaN        NaN   \n",
            "4                                                NaN          NaN        NaN   \n",
            "\n",
            "   like_count  reply_count  repost_count labels  \\\n",
            "0           5            2             0     []   \n",
            "1           3            0             0     []   \n",
            "2           4            0             0     []   \n",
            "3          67            8             3     []   \n",
            "4         229            7            43     []   \n",
            "\n",
            "                                                text  \n",
            "0  That’s been my experience too, though you’ll f...  \n",
            "1                                        Good policy  \n",
            "2                                         🍄📷 📸🎞️🌱🌿 📷  \n",
            "3                            Here is a nice mushroom  \n",
            "4  Sorry I’m late boss there was a circle of mush...  \n"
          ]
        }
      ],
      "source": [
        "# tanz\n",
        "import pandas as pd\n",
        "\n",
        "# Replace 'your_delimiter' with your CSV file's delimiter, e.g., ',', '\\t', ';'\n",
        "df = pd.read_csv('data/sampled_posts.csv', delimiter=',')\n",
        "print(df.head())"
      ]
    },
    {
      "cell_type": "markdown",
      "metadata": {
        "id": "fjraoR_q5ZoQ"
      },
      "source": [
        "Embeddings"
      ]
    },
    {
      "cell_type": "code",
      "execution_count": null,
      "metadata": {
        "id": "jFhcgFNH6aru"
      },
      "outputs": [],
      "source": []
    },
    {
      "cell_type": "markdown",
      "metadata": {
        "id": "GvOMt5br5alh"
      },
      "source": [
        "Model (input: emgeddings of the user , users that they follow, users that follow who the user follows)"
      ]
    },
    {
      "cell_type": "code",
      "execution_count": null,
      "metadata": {
        "id": "KPP_3zBa6bVV"
      },
      "outputs": [],
      "source": []
    }
  ],
  "metadata": {
    "colab": {
      "provenance": []
    },
    "kernelspec": {
      "display_name": "Python 3",
      "name": "python3"
    },
    "language_info": {
      "codemirror_mode": {
        "name": "ipython",
        "version": 3
      },
      "file_extension": ".py",
      "mimetype": "text/x-python",
      "name": "python",
      "nbconvert_exporter": "python",
      "pygments_lexer": "ipython3",
      "version": "3.10.13"
    }
  },
  "nbformat": 4,
  "nbformat_minor": 0
}

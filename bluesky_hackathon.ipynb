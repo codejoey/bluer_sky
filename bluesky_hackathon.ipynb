{
  "cells": [
    {
      "cell_type": "markdown",
      "metadata": {},
      "source": []
    },
    {
      "cell_type": "code",
      "execution_count": 20,
      "metadata": {},
      "outputs": [
        {
          "ename": "SyntaxError",
          "evalue": "invalid syntax (2224174985.py, line 1)",
          "output_type": "error",
          "traceback": [
            "\u001b[0;36m  Cell \u001b[0;32mIn[20], line 1\u001b[0;36m\u001b[0m\n\u001b[0;31m    from legacy import vector_stores.generativeai.genai_extension\u001b[0m\n\u001b[0m                                    ^\u001b[0m\n\u001b[0;31mSyntaxError\u001b[0m\u001b[0;31m:\u001b[0m invalid syntax\n"
          ]
        }
      ],
      "source": [
        "# from legacy import vector_stores.generativeai.genai_extension\n",
        "#llama-index-legacy/llama_index/legacy/vector_stores/google/genai_extension\n",
        "\n",
        "# import generat\n",
        "#import llama_index.core.vector_stores.google.generativeai.genai_extension as genaix\n"
      ]
    },
    {
      "cell_type": "markdown",
      "metadata": {},
      "source": []
    },
    {
      "cell_type": "code",
      "execution_count": 7,
      "metadata": {
        "colab": {
          "base_uri": "https://localhost:8080/"
        },
        "id": "hNlxCpHRW747",
        "outputId": "966281fd-6c4a-4c66-87a7-68186330c8fc"
      },
      "outputs": [
        {
          "name": "stdout",
          "output_type": "stream",
          "text": [
            "Requirement already satisfied: atproto in /Users/tanzeela/opt/anaconda3/envs/bluesky-hack/lib/python3.10/site-packages (0.0.43)\n",
            "Requirement already satisfied: click<9,>=8.1.3 in /Users/tanzeela/opt/anaconda3/envs/bluesky-hack/lib/python3.10/site-packages (from atproto) (8.1.7)\n",
            "Requirement already satisfied: cryptography<43,>=41.0.7 in /Users/tanzeela/opt/anaconda3/envs/bluesky-hack/lib/python3.10/site-packages (from atproto) (42.0.5)\n",
            "Requirement already satisfied: dnspython<3,>=2.3.0 in /Users/tanzeela/opt/anaconda3/envs/bluesky-hack/lib/python3.10/site-packages (from atproto) (2.6.1)\n",
            "Requirement already satisfied: httpx<0.26.0,>=0.24.0 in /Users/tanzeela/opt/anaconda3/envs/bluesky-hack/lib/python3.10/site-packages (from atproto) (0.25.2)\n",
            "Requirement already satisfied: libipld<2.0.0,>=1.1.0 in /Users/tanzeela/opt/anaconda3/envs/bluesky-hack/lib/python3.10/site-packages (from atproto) (1.1.1)\n",
            "Requirement already satisfied: pydantic<3.0,>=2.0 in /Users/tanzeela/opt/anaconda3/envs/bluesky-hack/lib/python3.10/site-packages (from atproto) (2.6.2)\n",
            "Requirement already satisfied: typing-extensions<5,>=4.6.1 in /Users/tanzeela/opt/anaconda3/envs/bluesky-hack/lib/python3.10/site-packages (from atproto) (4.9.0)\n",
            "Requirement already satisfied: websockets<13,>=11.0.3 in /Users/tanzeela/opt/anaconda3/envs/bluesky-hack/lib/python3.10/site-packages (from atproto) (12.0)\n",
            "Requirement already satisfied: cffi>=1.12 in /Users/tanzeela/opt/anaconda3/envs/bluesky-hack/lib/python3.10/site-packages (from cryptography<43,>=41.0.7->atproto) (1.16.0)\n",
            "Requirement already satisfied: anyio in /Users/tanzeela/opt/anaconda3/envs/bluesky-hack/lib/python3.10/site-packages (from httpx<0.26.0,>=0.24.0->atproto) (4.3.0)\n",
            "Requirement already satisfied: certifi in /Users/tanzeela/opt/anaconda3/envs/bluesky-hack/lib/python3.10/site-packages (from httpx<0.26.0,>=0.24.0->atproto) (2024.2.2)\n",
            "Requirement already satisfied: httpcore==1.* in /Users/tanzeela/opt/anaconda3/envs/bluesky-hack/lib/python3.10/site-packages (from httpx<0.26.0,>=0.24.0->atproto) (1.0.4)\n",
            "Requirement already satisfied: idna in /Users/tanzeela/opt/anaconda3/envs/bluesky-hack/lib/python3.10/site-packages (from httpx<0.26.0,>=0.24.0->atproto) (3.6)\n",
            "Requirement already satisfied: sniffio in /Users/tanzeela/opt/anaconda3/envs/bluesky-hack/lib/python3.10/site-packages (from httpx<0.26.0,>=0.24.0->atproto) (1.3.0)\n",
            "Requirement already satisfied: h11<0.15,>=0.13 in /Users/tanzeela/opt/anaconda3/envs/bluesky-hack/lib/python3.10/site-packages (from httpcore==1.*->httpx<0.26.0,>=0.24.0->atproto) (0.14.0)\n",
            "Requirement already satisfied: annotated-types>=0.4.0 in /Users/tanzeela/opt/anaconda3/envs/bluesky-hack/lib/python3.10/site-packages (from pydantic<3.0,>=2.0->atproto) (0.6.0)\n",
            "Requirement already satisfied: pydantic-core==2.16.3 in /Users/tanzeela/opt/anaconda3/envs/bluesky-hack/lib/python3.10/site-packages (from pydantic<3.0,>=2.0->atproto) (2.16.3)\n",
            "Requirement already satisfied: pycparser in /Users/tanzeela/opt/anaconda3/envs/bluesky-hack/lib/python3.10/site-packages (from cffi>=1.12->cryptography<43,>=41.0.7->atproto) (2.21)\n",
            "Requirement already satisfied: exceptiongroup>=1.0.2 in /Users/tanzeela/opt/anaconda3/envs/bluesky-hack/lib/python3.10/site-packages (from anyio->httpx<0.26.0,>=0.24.0->atproto) (1.2.0)\n",
            "Requirement already satisfied: pandas in /Users/tanzeela/opt/anaconda3/envs/bluesky-hack/lib/python3.10/site-packages (2.2.1)\n",
            "Requirement already satisfied: numpy<2,>=1.22.4 in /Users/tanzeela/opt/anaconda3/envs/bluesky-hack/lib/python3.10/site-packages (from pandas) (1.26.4)\n",
            "Requirement already satisfied: python-dateutil>=2.8.2 in /Users/tanzeela/opt/anaconda3/envs/bluesky-hack/lib/python3.10/site-packages (from pandas) (2.8.2)\n",
            "Requirement already satisfied: pytz>=2020.1 in /Users/tanzeela/opt/anaconda3/envs/bluesky-hack/lib/python3.10/site-packages (from pandas) (2024.1)\n",
            "Requirement already satisfied: tzdata>=2022.7 in /Users/tanzeela/opt/anaconda3/envs/bluesky-hack/lib/python3.10/site-packages (from pandas) (2024.1)\n",
            "Requirement already satisfied: six>=1.5 in /Users/tanzeela/opt/anaconda3/envs/bluesky-hack/lib/python3.10/site-packages (from python-dateutil>=2.8.2->pandas) (1.16.0)\n",
            "Collecting sentence-transformers\n",
            "  Downloading sentence_transformers-2.4.0-py3-none-any.whl.metadata (11 kB)\n",
            "Collecting transformers<5.0.0,>=4.32.0 (from sentence-transformers)\n",
            "  Downloading transformers-4.38.1-py3-none-any.whl.metadata (131 kB)\n",
            "\u001b[2K     \u001b[38;2;114;156;31m━━━━━━━━━━━━━━━━━━━━━━━━━━━━━━━━━━━━━━━\u001b[0m \u001b[32m131.1/131.1 kB\u001b[0m \u001b[31m2.3 MB/s\u001b[0m eta \u001b[36m0:00:00\u001b[0m[31m3.1 MB/s\u001b[0m eta \u001b[36m0:00:01\u001b[0m\n",
            "\u001b[?25hCollecting tqdm (from sentence-transformers)\n",
            "  Downloading tqdm-4.66.2-py3-none-any.whl.metadata (57 kB)\n",
            "\u001b[2K     \u001b[38;2;114;156;31m━━━━━━━━━━━━━━━━━━━━━━━━━━━━━━━━━━━━━━━━\u001b[0m \u001b[32m57.6/57.6 kB\u001b[0m \u001b[31m7.9 MB/s\u001b[0m eta \u001b[36m0:00:00\u001b[0m\n",
            "\u001b[?25hCollecting torch>=1.11.0 (from sentence-transformers)\n",
            "  Downloading torch-2.2.1-cp310-none-macosx_10_9_x86_64.whl.metadata (25 kB)\n",
            "Requirement already satisfied: numpy in /Users/tanzeela/opt/anaconda3/envs/bluesky-hack/lib/python3.10/site-packages (from sentence-transformers) (1.26.4)\n",
            "Collecting scikit-learn (from sentence-transformers)\n",
            "  Downloading scikit_learn-1.4.1.post1-cp310-cp310-macosx_10_9_x86_64.whl.metadata (11 kB)\n",
            "Collecting scipy (from sentence-transformers)\n",
            "  Downloading scipy-1.12.0-cp310-cp310-macosx_10_9_x86_64.whl.metadata (60 kB)\n",
            "\u001b[2K     \u001b[38;2;114;156;31m━━━━━━━━━━━━━━━━━━━━━━━━━━━━━━━━━━━━━━━━\u001b[0m \u001b[32m60.4/60.4 kB\u001b[0m \u001b[31m7.8 MB/s\u001b[0m eta \u001b[36m0:00:00\u001b[0m\n",
            "\u001b[?25hCollecting huggingface-hub>=0.15.1 (from sentence-transformers)\n",
            "  Downloading huggingface_hub-0.20.3-py3-none-any.whl.metadata (12 kB)\n",
            "Collecting Pillow (from sentence-transformers)\n",
            "  Downloading pillow-10.2.0-cp310-cp310-macosx_10_10_x86_64.whl.metadata (9.7 kB)\n",
            "Collecting filelock (from huggingface-hub>=0.15.1->sentence-transformers)\n",
            "  Using cached filelock-3.13.1-py3-none-any.whl.metadata (2.8 kB)\n",
            "Collecting fsspec>=2023.5.0 (from huggingface-hub>=0.15.1->sentence-transformers)\n",
            "  Downloading fsspec-2024.2.0-py3-none-any.whl.metadata (6.8 kB)\n",
            "Collecting requests (from huggingface-hub>=0.15.1->sentence-transformers)\n",
            "  Using cached requests-2.31.0-py3-none-any.whl.metadata (4.6 kB)\n",
            "Collecting pyyaml>=5.1 (from huggingface-hub>=0.15.1->sentence-transformers)\n",
            "  Using cached PyYAML-6.0.1-cp310-cp310-macosx_10_9_x86_64.whl.metadata (2.1 kB)\n",
            "Requirement already satisfied: typing-extensions>=3.7.4.3 in /Users/tanzeela/opt/anaconda3/envs/bluesky-hack/lib/python3.10/site-packages (from huggingface-hub>=0.15.1->sentence-transformers) (4.9.0)\n",
            "Requirement already satisfied: packaging>=20.9 in /Users/tanzeela/opt/anaconda3/envs/bluesky-hack/lib/python3.10/site-packages (from huggingface-hub>=0.15.1->sentence-transformers) (23.2)\n",
            "Collecting sympy (from torch>=1.11.0->sentence-transformers)\n",
            "  Downloading sympy-1.12-py3-none-any.whl.metadata (12 kB)\n",
            "Collecting networkx (from torch>=1.11.0->sentence-transformers)\n",
            "  Downloading networkx-3.2.1-py3-none-any.whl.metadata (5.2 kB)\n",
            "Collecting jinja2 (from torch>=1.11.0->sentence-transformers)\n",
            "  Downloading Jinja2-3.1.3-py3-none-any.whl.metadata (3.3 kB)\n",
            "Collecting regex!=2019.12.17 (from transformers<5.0.0,>=4.32.0->sentence-transformers)\n",
            "  Downloading regex-2023.12.25-cp310-cp310-macosx_10_9_x86_64.whl.metadata (40 kB)\n",
            "\u001b[2K     \u001b[38;2;114;156;31m━━━━━━━━━━━━━━━━━━━━━━━━━━━━━━━━━━━━━━━━\u001b[0m \u001b[32m40.9/40.9 kB\u001b[0m \u001b[31m4.9 MB/s\u001b[0m eta \u001b[36m0:00:00\u001b[0m\n",
            "\u001b[?25hCollecting tokenizers<0.19,>=0.14 (from transformers<5.0.0,>=4.32.0->sentence-transformers)\n",
            "  Downloading tokenizers-0.15.2-cp310-cp310-macosx_10_12_x86_64.whl.metadata (6.7 kB)\n",
            "Collecting safetensors>=0.4.1 (from transformers<5.0.0,>=4.32.0->sentence-transformers)\n",
            "  Downloading safetensors-0.4.2-cp310-cp310-macosx_10_12_x86_64.whl.metadata (3.8 kB)\n",
            "Collecting joblib>=1.2.0 (from scikit-learn->sentence-transformers)\n",
            "  Downloading joblib-1.3.2-py3-none-any.whl.metadata (5.4 kB)\n",
            "Collecting threadpoolctl>=2.0.0 (from scikit-learn->sentence-transformers)\n",
            "  Downloading threadpoolctl-3.3.0-py3-none-any.whl.metadata (13 kB)\n",
            "Collecting MarkupSafe>=2.0 (from jinja2->torch>=1.11.0->sentence-transformers)\n",
            "  Downloading MarkupSafe-2.1.5-cp310-cp310-macosx_10_9_x86_64.whl.metadata (3.0 kB)\n",
            "Collecting charset-normalizer<4,>=2 (from requests->huggingface-hub>=0.15.1->sentence-transformers)\n",
            "  Using cached charset_normalizer-3.3.2-cp310-cp310-macosx_10_9_x86_64.whl.metadata (33 kB)\n",
            "Requirement already satisfied: idna<4,>=2.5 in /Users/tanzeela/opt/anaconda3/envs/bluesky-hack/lib/python3.10/site-packages (from requests->huggingface-hub>=0.15.1->sentence-transformers) (3.6)\n",
            "Collecting urllib3<3,>=1.21.1 (from requests->huggingface-hub>=0.15.1->sentence-transformers)\n",
            "  Downloading urllib3-2.2.1-py3-none-any.whl.metadata (6.4 kB)\n",
            "Requirement already satisfied: certifi>=2017.4.17 in /Users/tanzeela/opt/anaconda3/envs/bluesky-hack/lib/python3.10/site-packages (from requests->huggingface-hub>=0.15.1->sentence-transformers) (2024.2.2)\n",
            "Collecting mpmath>=0.19 (from sympy->torch>=1.11.0->sentence-transformers)\n",
            "  Downloading mpmath-1.3.0-py3-none-any.whl.metadata (8.6 kB)\n",
            "Downloading sentence_transformers-2.4.0-py3-none-any.whl (149 kB)\n",
            "\u001b[2K   \u001b[38;2;114;156;31m━━━━━━━━━━━━━━━━━━━━━━━━━━━━━━━━━━━━━━━━\u001b[0m \u001b[32m149.5/149.5 kB\u001b[0m \u001b[31m13.2 MB/s\u001b[0m eta \u001b[36m0:00:00\u001b[0m\n",
            "\u001b[?25hDownloading huggingface_hub-0.20.3-py3-none-any.whl (330 kB)\n",
            "\u001b[2K   \u001b[38;2;114;156;31m━━━━━━━━━━━━━━━━━━━━━━━━━━━━━━━━━━━━━━━━\u001b[0m \u001b[32m330.1/330.1 kB\u001b[0m \u001b[31m16.0 MB/s\u001b[0m eta \u001b[36m0:00:00\u001b[0m\n",
            "\u001b[?25hDownloading torch-2.2.1-cp310-none-macosx_10_9_x86_64.whl (150.8 MB)\n",
            "\u001b[2K   \u001b[38;2;114;156;31m━━━━━━━━━━━━━━━━━━━━━━━━━━━━━━━━━━━━━━━━\u001b[0m \u001b[32m150.8/150.8 MB\u001b[0m \u001b[31m15.3 MB/s\u001b[0m eta \u001b[36m0:00:00\u001b[0mm eta \u001b[36m0:00:01\u001b[0m[36m0:00:01\u001b[0m\n",
            "\u001b[?25hDownloading tqdm-4.66.2-py3-none-any.whl (78 kB)\n",
            "\u001b[2K   \u001b[38;2;114;156;31m━━━━━━━━━━━━━━━━━━━━━━━━━━━━━━━━━━━━━━━━\u001b[0m \u001b[32m78.3/78.3 kB\u001b[0m \u001b[31m4.7 MB/s\u001b[0m eta \u001b[36m0:00:00\u001b[0m\n",
            "\u001b[?25hDownloading transformers-4.38.1-py3-none-any.whl (8.5 MB)\n",
            "\u001b[2K   \u001b[38;2;114;156;31m━━━━━━━━━━━━━━━━━━━━━━━━━━━━━━━━━━━━━━━━\u001b[0m \u001b[32m8.5/8.5 MB\u001b[0m \u001b[31m23.1 MB/s\u001b[0m eta \u001b[36m0:00:00\u001b[0m[36m0:00:01\u001b[0mm eta \u001b[36m0:00:01\u001b[0m\n",
            "\u001b[?25hDownloading pillow-10.2.0-cp310-cp310-macosx_10_10_x86_64.whl (3.5 MB)\n",
            "\u001b[2K   \u001b[38;2;114;156;31m━━━━━━━━━━━━━━━━━━━━━━━━━━━━━━━━━━━━━━━━\u001b[0m \u001b[32m3.5/3.5 MB\u001b[0m \u001b[31m28.7 MB/s\u001b[0m eta \u001b[36m0:00:00\u001b[0mm eta \u001b[36m0:00:01\u001b[0m0:01\u001b[0m\n",
            "\u001b[?25hDownloading scikit_learn-1.4.1.post1-cp310-cp310-macosx_10_9_x86_64.whl (11.6 MB)\n",
            "\u001b[2K   \u001b[38;2;114;156;31m━━━━━━━━━━━━━━━━━━━━━━━━━━━━━━━━━━━━━━━━\u001b[0m \u001b[32m11.6/11.6 MB\u001b[0m \u001b[31m24.9 MB/s\u001b[0m eta \u001b[36m0:00:00\u001b[0mm eta \u001b[36m0:00:01\u001b[0m[36m0:00:01\u001b[0m\n",
            "\u001b[?25hDownloading scipy-1.12.0-cp310-cp310-macosx_10_9_x86_64.whl (38.9 MB)\n",
            "\u001b[2K   \u001b[38;2;114;156;31m━━━━━━━━━━━━━━━━━━━━━━━━━━━━━━━━━━━━━━━━\u001b[0m \u001b[32m38.9/38.9 MB\u001b[0m \u001b[31m23.6 MB/s\u001b[0m eta \u001b[36m0:00:00\u001b[0mm eta \u001b[36m0:00:01\u001b[0m0:01\u001b[0m:01\u001b[0m\n",
            "\u001b[?25hDownloading fsspec-2024.2.0-py3-none-any.whl (170 kB)\n",
            "\u001b[2K   \u001b[38;2;114;156;31m━━━━━━━━━━━━━━━━━━━━━━━━━━━━━━━━━━━━━━━━\u001b[0m \u001b[32m170.9/170.9 kB\u001b[0m \u001b[31m12.2 MB/s\u001b[0m eta \u001b[36m0:00:00\u001b[0m\n",
            "\u001b[?25hDownloading joblib-1.3.2-py3-none-any.whl (302 kB)\n",
            "\u001b[2K   \u001b[38;2;114;156;31m━━━━━━━━━━━━━━━━━━━━━━━━━━━━━━━━━━━━━━━━\u001b[0m \u001b[32m302.2/302.2 kB\u001b[0m \u001b[31m23.7 MB/s\u001b[0m eta \u001b[36m0:00:00\u001b[0m\n",
            "\u001b[?25hUsing cached PyYAML-6.0.1-cp310-cp310-macosx_10_9_x86_64.whl (189 kB)\n",
            "Downloading regex-2023.12.25-cp310-cp310-macosx_10_9_x86_64.whl (296 kB)\n",
            "\u001b[2K   \u001b[38;2;114;156;31m━━━━━━━━━━━━━━━━━━━━━━━━━━━━━━━━━━━━━━━━\u001b[0m \u001b[32m296.4/296.4 kB\u001b[0m \u001b[31m22.8 MB/s\u001b[0m eta \u001b[36m0:00:00\u001b[0m\n",
            "\u001b[?25hDownloading safetensors-0.4.2-cp310-cp310-macosx_10_12_x86_64.whl (426 kB)\n",
            "\u001b[2K   \u001b[38;2;114;156;31m━━━━━━━━━━━━━━━━━━━━━━━━━━━━━━━━━━━━━━━━\u001b[0m \u001b[32m426.3/426.3 kB\u001b[0m \u001b[31m29.5 MB/s\u001b[0m eta \u001b[36m0:00:00\u001b[0m\n",
            "\u001b[?25hDownloading threadpoolctl-3.3.0-py3-none-any.whl (17 kB)\n",
            "Downloading tokenizers-0.15.2-cp310-cp310-macosx_10_12_x86_64.whl (2.6 MB)\n",
            "\u001b[2K   \u001b[38;2;114;156;31m━━━━━━━━━━━━━━━━━━━━━━━━━━━━━━━━━━━━━━━━\u001b[0m \u001b[32m2.6/2.6 MB\u001b[0m \u001b[31m13.6 MB/s\u001b[0m eta \u001b[36m0:00:00\u001b[0m31m12.9 MB/s\u001b[0m eta \u001b[36m0:00:01\u001b[0m\n",
            "\u001b[?25hUsing cached filelock-3.13.1-py3-none-any.whl (11 kB)\n",
            "Downloading Jinja2-3.1.3-py3-none-any.whl (133 kB)\n",
            "\u001b[2K   \u001b[38;2;114;156;31m━━━━━━━━━━━━━━━━━━━━━━━━━━━━━━━━━━━━━━━━\u001b[0m \u001b[32m133.2/133.2 kB\u001b[0m \u001b[31m20.5 MB/s\u001b[0m eta \u001b[36m0:00:00\u001b[0m\n",
            "\u001b[?25hDownloading networkx-3.2.1-py3-none-any.whl (1.6 MB)\n",
            "\u001b[2K   \u001b[38;2;114;156;31m━━━━━━━━━━━━━━━━━━━━━━━━━━━━━━━━━━━━━━━━\u001b[0m \u001b[32m1.6/1.6 MB\u001b[0m \u001b[31m32.1 MB/s\u001b[0m eta \u001b[36m0:00:00\u001b[0m MB/s\u001b[0m eta \u001b[36m0:00:01\u001b[0m\n",
            "\u001b[?25hUsing cached requests-2.31.0-py3-none-any.whl (62 kB)\n",
            "Using cached sympy-1.12-py3-none-any.whl (5.7 MB)\n",
            "Using cached charset_normalizer-3.3.2-cp310-cp310-macosx_10_9_x86_64.whl (122 kB)\n",
            "Downloading MarkupSafe-2.1.5-cp310-cp310-macosx_10_9_x86_64.whl (14 kB)\n",
            "Using cached mpmath-1.3.0-py3-none-any.whl (536 kB)\n",
            "Downloading urllib3-2.2.1-py3-none-any.whl (121 kB)\n",
            "\u001b[2K   \u001b[38;2;114;156;31m━━━━━━━━━━━━━━━━━━━━━━━━━━━━━━━━━━━━━━━━\u001b[0m \u001b[32m121.1/121.1 kB\u001b[0m \u001b[31m9.5 MB/s\u001b[0m eta \u001b[36m0:00:00\u001b[0m\n",
            "\u001b[?25hInstalling collected packages: mpmath, urllib3, tqdm, threadpoolctl, sympy, scipy, safetensors, regex, pyyaml, Pillow, networkx, MarkupSafe, joblib, fsspec, filelock, charset-normalizer, scikit-learn, requests, jinja2, torch, huggingface-hub, tokenizers, transformers, sentence-transformers\n",
            "Successfully installed MarkupSafe-2.1.5 Pillow-10.2.0 charset-normalizer-3.3.2 filelock-3.13.1 fsspec-2024.2.0 huggingface-hub-0.20.3 jinja2-3.1.3 joblib-1.3.2 mpmath-1.3.0 networkx-3.2.1 pyyaml-6.0.1 regex-2023.12.25 requests-2.31.0 safetensors-0.4.2 scikit-learn-1.4.1.post1 scipy-1.12.0 sentence-transformers-2.4.0 sympy-1.12 threadpoolctl-3.3.0 tokenizers-0.15.2 torch-2.2.1 tqdm-4.66.2 transformers-4.38.1 urllib3-2.2.1\n"
          ]
        }
      ],
      "source": [
        "!pip install atproto\n",
        "!pip install pandas\n",
        "!pip install sentence-transformers"
      ]
    },
    {
      "cell_type": "code",
      "execution_count": 2,
      "metadata": {
        "colab": {
          "base_uri": "https://localhost:8080/"
        },
        "id": "yo0KYBXXXIJ7",
        "outputId": "27ffbd4a-674b-4cc9-c713-5c44fb149b9d"
      },
      "outputs": [
        {
          "data": {
            "text/plain": [
              "ProfileViewDetailed(did='did:plc:qxbfwbmvt4tu35wfpo3557c7', handle='abdelasworld.bsky.social', avatar=None, banner=None, description=None, display_name='', followers_count=1, follows_count=0, indexed_at='2024-02-25T12:32:03.947Z', labels=[], posts_count=4, viewer=ViewerState(blocked_by=False, blocking=None, blocking_by_list=None, followed_by=None, following=None, muted=False, muted_by_list=None, py_type='app.bsky.actor.defs#viewerState'), py_type='app.bsky.actor.defs#profileViewDetailed')"
            ]
          },
          "execution_count": 2,
          "metadata": {},
          "output_type": "execute_result"
        }
      ],
      "source": [
        "from atproto import Client\n",
        "\n",
        "client = Client(base_url='https://bsky.social')\n",
        "client.login('abdelasworld.bsky.social', 'xyhBi3-xacvuh-kuhxyf')"
      ]
    },
    {
      "cell_type": "code",
      "execution_count": 3,
      "metadata": {
        "id": "jWrm5YQ5X8Mm"
      },
      "outputs": [],
      "source": [
        "post = client.send_post('Hello world! I posted this via the Python SDK.')"
      ]
    },
    {
      "cell_type": "code",
      "execution_count": 4,
      "metadata": {
        "colab": {
          "base_uri": "https://localhost:8080/"
        },
        "id": "1ezIRlETz4OZ",
        "outputId": "864b03ea-c73a-4593-fc65-5facb6288c51"
      },
      "outputs": [
        {
          "name": "stdout",
          "output_type": "stream",
          "text": [
            "Collecting replicate\n",
            "  Downloading replicate-0.24.0-py3-none-any.whl.metadata (23 kB)\n",
            "Requirement already satisfied: httpx<1,>=0.21.0 in /Users/tanzeela/opt/anaconda3/envs/bluesky-hack/lib/python3.10/site-packages (from replicate) (0.25.2)\n",
            "Requirement already satisfied: packaging in /Users/tanzeela/opt/anaconda3/envs/bluesky-hack/lib/python3.10/site-packages (from replicate) (23.2)\n",
            "Requirement already satisfied: pydantic>1 in /Users/tanzeela/opt/anaconda3/envs/bluesky-hack/lib/python3.10/site-packages (from replicate) (2.6.2)\n",
            "Requirement already satisfied: typing-extensions>=4.5.0 in /Users/tanzeela/opt/anaconda3/envs/bluesky-hack/lib/python3.10/site-packages (from replicate) (4.9.0)\n",
            "Requirement already satisfied: anyio in /Users/tanzeela/opt/anaconda3/envs/bluesky-hack/lib/python3.10/site-packages (from httpx<1,>=0.21.0->replicate) (4.3.0)\n",
            "Requirement already satisfied: certifi in /Users/tanzeela/opt/anaconda3/envs/bluesky-hack/lib/python3.10/site-packages (from httpx<1,>=0.21.0->replicate) (2024.2.2)\n",
            "Requirement already satisfied: httpcore==1.* in /Users/tanzeela/opt/anaconda3/envs/bluesky-hack/lib/python3.10/site-packages (from httpx<1,>=0.21.0->replicate) (1.0.4)\n",
            "Requirement already satisfied: idna in /Users/tanzeela/opt/anaconda3/envs/bluesky-hack/lib/python3.10/site-packages (from httpx<1,>=0.21.0->replicate) (3.6)\n",
            "Requirement already satisfied: sniffio in /Users/tanzeela/opt/anaconda3/envs/bluesky-hack/lib/python3.10/site-packages (from httpx<1,>=0.21.0->replicate) (1.3.0)\n",
            "Requirement already satisfied: h11<0.15,>=0.13 in /Users/tanzeela/opt/anaconda3/envs/bluesky-hack/lib/python3.10/site-packages (from httpcore==1.*->httpx<1,>=0.21.0->replicate) (0.14.0)\n",
            "Requirement already satisfied: annotated-types>=0.4.0 in /Users/tanzeela/opt/anaconda3/envs/bluesky-hack/lib/python3.10/site-packages (from pydantic>1->replicate) (0.6.0)\n",
            "Requirement already satisfied: pydantic-core==2.16.3 in /Users/tanzeela/opt/anaconda3/envs/bluesky-hack/lib/python3.10/site-packages (from pydantic>1->replicate) (2.16.3)\n",
            "Requirement already satisfied: exceptiongroup>=1.0.2 in /Users/tanzeela/opt/anaconda3/envs/bluesky-hack/lib/python3.10/site-packages (from anyio->httpx<1,>=0.21.0->replicate) (1.2.0)\n",
            "Downloading replicate-0.24.0-py3-none-any.whl (37 kB)\n",
            "Installing collected packages: replicate\n",
            "Successfully installed replicate-0.24.0\n",
            "env: REPLICATE_API_TOKEN=r8_6hSEKVXY9LDrZjkMAYWYxKER1mArxbK1TzLIb  # Set your API token\n"
          ]
        }
      ],
      "source": [
        "!pip install replicate  # Install the Replicate package if you haven't already\n",
        "%env REPLICATE_API_TOKEN=r8_6hSEKVXY9LDrZjkMAYWYxKER1mArxbK1TzLIb  # Set your API token\n"
      ]
    },
    {
      "cell_type": "code",
      "execution_count": 5,
      "metadata": {
        "colab": {
          "base_uri": "https://localhost:8080/"
        },
        "id": "mOpcxStT0V_2",
        "outputId": "8051191c-3383-4773-840e-8f20ef1bf450"
      },
      "outputs": [],
      "source": [
        "# get a token: https://replicate.com/account\n",
        "from getpass import getpass\n",
        "import os\n",
        "\n",
        "REPLICATE_API_TOKEN = getpass()\n",
        "os.environ[\"REPLICATE_API_TOKEN\"] = REPLICATE_API_TOKEN"
      ]
    },
    {
      "cell_type": "code",
      "execution_count": null,
      "metadata": {
        "colab": {
          "base_uri": "https://localhost:8080/",
          "height": 316
        },
        "id": "NYk3-4Cj0b3e",
        "outputId": "d5a5ab67-9312-46f0-c5d0-c2077180b5cf"
      },
      "outputs": [
        {
          "ename": "ReplicateError",
          "evalue": "You did not pass an authentication token",
          "output_type": "error",
          "traceback": [
            "\u001b[0;31m---------------------------------------------------------------------------\u001b[0m",
            "\u001b[0;31mReplicateError\u001b[0m                            Traceback (most recent call last)",
            "\u001b[0;32m<ipython-input-28-dc96923330e0>\u001b[0m in \u001b[0;36m<cell line: 3>\u001b[0;34m()\u001b[0m\n\u001b[1;32m      1\u001b[0m \u001b[0;32mimport\u001b[0m \u001b[0mreplicate\u001b[0m\u001b[0;34m\u001b[0m\u001b[0;34m\u001b[0m\u001b[0m\n\u001b[1;32m      2\u001b[0m \u001b[0;34m\u001b[0m\u001b[0m\n\u001b[0;32m----> 3\u001b[0;31m output = replicate.run(\n\u001b[0m\u001b[1;32m      4\u001b[0m   \u001b[0;34m\"stability-ai/sdxl:39ed52f2a78e934b3ba6e2a89f5b1c712de7dfea535525255b1aa35c5565e08b\"\u001b[0m\u001b[0;34m,\u001b[0m\u001b[0;34m\u001b[0m\u001b[0;34m\u001b[0m\u001b[0m\n\u001b[1;32m      5\u001b[0m   \u001b[0minput\u001b[0m\u001b[0;34m=\u001b[0m\u001b[0;34m{\u001b[0m\u001b[0;34m\"prompt\"\u001b[0m\u001b[0;34m:\u001b[0m \u001b[0;34m\"an iguana on the beach, pointillism\"\u001b[0m\u001b[0;34m}\u001b[0m\u001b[0;34m\u001b[0m\u001b[0;34m\u001b[0m\u001b[0m\n",
            "\u001b[0;32m/usr/local/lib/python3.10/dist-packages/replicate/client.py\u001b[0m in \u001b[0;36mrun\u001b[0;34m(self, ref, input, **params)\u001b[0m\n\u001b[1;32m    155\u001b[0m         \"\"\"\n\u001b[1;32m    156\u001b[0m \u001b[0;34m\u001b[0m\u001b[0m\n\u001b[0;32m--> 157\u001b[0;31m         \u001b[0;32mreturn\u001b[0m \u001b[0mrun\u001b[0m\u001b[0;34m(\u001b[0m\u001b[0mself\u001b[0m\u001b[0;34m,\u001b[0m \u001b[0mref\u001b[0m\u001b[0;34m,\u001b[0m \u001b[0minput\u001b[0m\u001b[0;34m,\u001b[0m \u001b[0;34m**\u001b[0m\u001b[0mparams\u001b[0m\u001b[0;34m)\u001b[0m\u001b[0;34m\u001b[0m\u001b[0;34m\u001b[0m\u001b[0m\n\u001b[0m\u001b[1;32m    158\u001b[0m \u001b[0;34m\u001b[0m\u001b[0m\n\u001b[1;32m    159\u001b[0m     async def async_run(\n",
            "\u001b[0;32m/usr/local/lib/python3.10/dist-packages/replicate/run.py\u001b[0m in \u001b[0;36mrun\u001b[0;34m(client, ref, input, **params)\u001b[0m\n\u001b[1;32m     38\u001b[0m \u001b[0;34m\u001b[0m\u001b[0m\n\u001b[1;32m     39\u001b[0m     \u001b[0;32mif\u001b[0m \u001b[0mversion_id\u001b[0m \u001b[0;32mis\u001b[0m \u001b[0;32mnot\u001b[0m \u001b[0;32mNone\u001b[0m\u001b[0;34m:\u001b[0m\u001b[0;34m\u001b[0m\u001b[0;34m\u001b[0m\u001b[0m\n\u001b[0;32m---> 40\u001b[0;31m         prediction = client.predictions.create(\n\u001b[0m\u001b[1;32m     41\u001b[0m             \u001b[0mversion\u001b[0m\u001b[0;34m=\u001b[0m\u001b[0mversion_id\u001b[0m\u001b[0;34m,\u001b[0m \u001b[0minput\u001b[0m\u001b[0;34m=\u001b[0m\u001b[0minput\u001b[0m \u001b[0;32mor\u001b[0m \u001b[0;34m{\u001b[0m\u001b[0;34m}\u001b[0m\u001b[0;34m,\u001b[0m \u001b[0;34m**\u001b[0m\u001b[0mparams\u001b[0m\u001b[0;34m\u001b[0m\u001b[0;34m\u001b[0m\u001b[0m\n\u001b[1;32m     42\u001b[0m         )\n",
            "\u001b[0;32m/usr/local/lib/python3.10/dist-packages/replicate/prediction.py\u001b[0m in \u001b[0;36mcreate\u001b[0;34m(self, version, input, **params)\u001b[0m\n\u001b[1;32m    371\u001b[0m             \u001b[0;34m**\u001b[0m\u001b[0mparams\u001b[0m\u001b[0;34m,\u001b[0m\u001b[0;34m\u001b[0m\u001b[0;34m\u001b[0m\u001b[0m\n\u001b[1;32m    372\u001b[0m         )\n\u001b[0;32m--> 373\u001b[0;31m         resp = self._client._request(\n\u001b[0m\u001b[1;32m    374\u001b[0m             \u001b[0;34m\"POST\"\u001b[0m\u001b[0;34m,\u001b[0m\u001b[0;34m\u001b[0m\u001b[0;34m\u001b[0m\u001b[0m\n\u001b[1;32m    375\u001b[0m             \u001b[0;34m\"/v1/predictions\"\u001b[0m\u001b[0;34m,\u001b[0m\u001b[0;34m\u001b[0m\u001b[0;34m\u001b[0m\u001b[0m\n",
            "\u001b[0;32m/usr/local/lib/python3.10/dist-packages/replicate/client.py\u001b[0m in \u001b[0;36m_request\u001b[0;34m(self, method, path, **kwargs)\u001b[0m\n\u001b[1;32m     85\u001b[0m     \u001b[0;32mdef\u001b[0m \u001b[0m_request\u001b[0m\u001b[0;34m(\u001b[0m\u001b[0mself\u001b[0m\u001b[0;34m,\u001b[0m \u001b[0mmethod\u001b[0m\u001b[0;34m:\u001b[0m \u001b[0mstr\u001b[0m\u001b[0;34m,\u001b[0m \u001b[0mpath\u001b[0m\u001b[0;34m:\u001b[0m \u001b[0mstr\u001b[0m\u001b[0;34m,\u001b[0m \u001b[0;34m**\u001b[0m\u001b[0mkwargs\u001b[0m\u001b[0;34m)\u001b[0m \u001b[0;34m->\u001b[0m \u001b[0mhttpx\u001b[0m\u001b[0;34m.\u001b[0m\u001b[0mResponse\u001b[0m\u001b[0;34m:\u001b[0m\u001b[0;34m\u001b[0m\u001b[0;34m\u001b[0m\u001b[0m\n\u001b[1;32m     86\u001b[0m         \u001b[0mresp\u001b[0m \u001b[0;34m=\u001b[0m \u001b[0mself\u001b[0m\u001b[0;34m.\u001b[0m\u001b[0m_client\u001b[0m\u001b[0;34m.\u001b[0m\u001b[0mrequest\u001b[0m\u001b[0;34m(\u001b[0m\u001b[0mmethod\u001b[0m\u001b[0;34m,\u001b[0m \u001b[0mpath\u001b[0m\u001b[0;34m,\u001b[0m \u001b[0;34m**\u001b[0m\u001b[0mkwargs\u001b[0m\u001b[0;34m)\u001b[0m\u001b[0;34m\u001b[0m\u001b[0;34m\u001b[0m\u001b[0m\n\u001b[0;32m---> 87\u001b[0;31m         \u001b[0m_raise_for_status\u001b[0m\u001b[0;34m(\u001b[0m\u001b[0mresp\u001b[0m\u001b[0;34m)\u001b[0m\u001b[0;34m\u001b[0m\u001b[0;34m\u001b[0m\u001b[0m\n\u001b[0m\u001b[1;32m     88\u001b[0m \u001b[0;34m\u001b[0m\u001b[0m\n\u001b[1;32m     89\u001b[0m         \u001b[0;32mreturn\u001b[0m \u001b[0mresp\u001b[0m\u001b[0;34m\u001b[0m\u001b[0;34m\u001b[0m\u001b[0m\n",
            "\u001b[0;32m/usr/local/lib/python3.10/dist-packages/replicate/client.py\u001b[0m in \u001b[0;36m_raise_for_status\u001b[0;34m(resp)\u001b[0m\n\u001b[1;32m    366\u001b[0m \u001b[0;32mdef\u001b[0m \u001b[0m_raise_for_status\u001b[0m\u001b[0;34m(\u001b[0m\u001b[0mresp\u001b[0m\u001b[0;34m:\u001b[0m \u001b[0mhttpx\u001b[0m\u001b[0;34m.\u001b[0m\u001b[0mResponse\u001b[0m\u001b[0;34m)\u001b[0m \u001b[0;34m->\u001b[0m \u001b[0;32mNone\u001b[0m\u001b[0;34m:\u001b[0m\u001b[0;34m\u001b[0m\u001b[0;34m\u001b[0m\u001b[0m\n\u001b[1;32m    367\u001b[0m     \u001b[0;32mif\u001b[0m \u001b[0;36m400\u001b[0m \u001b[0;34m<=\u001b[0m \u001b[0mresp\u001b[0m\u001b[0;34m.\u001b[0m\u001b[0mstatus_code\u001b[0m \u001b[0;34m<\u001b[0m \u001b[0;36m600\u001b[0m\u001b[0;34m:\u001b[0m\u001b[0;34m\u001b[0m\u001b[0;34m\u001b[0m\u001b[0m\n\u001b[0;32m--> 368\u001b[0;31m         \u001b[0;32mraise\u001b[0m \u001b[0mReplicateError\u001b[0m\u001b[0;34m(\u001b[0m\u001b[0mresp\u001b[0m\u001b[0;34m.\u001b[0m\u001b[0mjson\u001b[0m\u001b[0;34m(\u001b[0m\u001b[0;34m)\u001b[0m\u001b[0;34m[\u001b[0m\u001b[0;34m\"detail\"\u001b[0m\u001b[0;34m]\u001b[0m\u001b[0;34m)\u001b[0m\u001b[0;34m\u001b[0m\u001b[0;34m\u001b[0m\u001b[0m\n\u001b[0m",
            "\u001b[0;31mReplicateError\u001b[0m: You did not pass an authentication token"
          ]
        }
      ],
      "source": [
        "import replicate\n",
        "\n",
        "output = replicate.run(\n",
        "  \"stability-ai/sdxl:39ed52f2a78e934b3ba6e2a89f5b1c712de7dfea535525255b1aa35c5565e08b\",\n",
        "  input={\"prompt\": \"an iguana on the beach, pointillism\"}\n",
        ")\n",
        "\n",
        "output"
      ]
    },
    {
      "cell_type": "code",
      "execution_count": 6,
      "metadata": {
        "id": "FnwkPTzV6ZHt"
      },
      "outputs": [
        {
          "name": "stdout",
          "output_type": "stream",
          "text": [
            "                                                 uri  \\\n",
            "0  at://did:plc:eg336dt7kyike5xkyed3iwcv/app.bsky...   \n",
            "1  at://did:plc:eg336dt7kyike5xkyed3iwcv/app.bsky...   \n",
            "2  at://did:plc:eg336dt7kyike5xkyed3iwcv/app.bsky...   \n",
            "3  at://did:plc:eg336dt7kyike5xkyed3iwcv/app.bsky...   \n",
            "4  at://did:plc:eg336dt7kyike5xkyed3iwcv/app.bsky...   \n",
            "\n",
            "                                did                created_at  \\\n",
            "0  did:plc:eg336dt7kyike5xkyed3iwcv  2024-02-25T03:03:05.501Z   \n",
            "1  did:plc:eg336dt7kyike5xkyed3iwcv  2024-02-25T03:01:36.007Z   \n",
            "2  did:plc:eg336dt7kyike5xkyed3iwcv  2024-02-25T02:54:02.884Z   \n",
            "3  did:plc:eg336dt7kyike5xkyed3iwcv  2024-02-25T02:53:41.918Z   \n",
            "4  did:plc:eg336dt7kyike5xkyed3iwcv  2024-02-21T02:46:53.686Z   \n",
            "\n",
            "                                            root_uri  \\\n",
            "0  at://did:plc:ywczrtwaregzylsuuhzxk2t3/app.bsky...   \n",
            "1  at://did:plc:eg336dt7kyike5xkyed3iwcv/app.bsky...   \n",
            "2  at://did:plc:eg336dt7kyike5xkyed3iwcv/app.bsky...   \n",
            "3                                                NaN   \n",
            "4                                                NaN   \n",
            "\n",
            "                                          parent_uri  subject_uri  card_link  \\\n",
            "0  at://did:plc:ywczrtwaregzylsuuhzxk2t3/app.bsky...          NaN        NaN   \n",
            "1  at://did:plc:trmy2fomvi2zadtpioz44vml/app.bsky...          NaN        NaN   \n",
            "2  at://did:plc:eg336dt7kyike5xkyed3iwcv/app.bsky...          NaN        NaN   \n",
            "3                                                NaN          NaN        NaN   \n",
            "4                                                NaN          NaN        NaN   \n",
            "\n",
            "   like_count  reply_count  repost_count labels  \\\n",
            "0           5            2             0     []   \n",
            "1           3            0             0     []   \n",
            "2           4            0             0     []   \n",
            "3          67            8             3     []   \n",
            "4         229            7            43     []   \n",
            "\n",
            "                                                text  \n",
            "0  That’s been my experience too, though you’ll f...  \n",
            "1                                        Good policy  \n",
            "2                                         🍄📷 📸🎞️🌱🌿 📷  \n",
            "3                            Here is a nice mushroom  \n",
            "4  Sorry I’m late boss there was a circle of mush...  \n"
          ]
        }
      ],
      "source": [
        "# tanz\n",
        "import pandas as pd\n",
        "\n",
        "# Replace 'your_delimiter' with your CSV file's delimiter, e.g., ',', '\\t', ';'\n",
        "df = pd.read_csv('data/sampled_posts.csv', delimiter=',')\n",
        "print(df.head())"
      ]
    },
    {
      "cell_type": "code",
      "execution_count": 10,
      "metadata": {},
      "outputs": [
        {
          "name": "stdout",
          "output_type": "stream",
          "text": [
            "did:plc:eg336dt7kyike5xkyed3iwcv\n",
            "That’s been my experience too, though you’ll find them on other hardwoods often enough. Found some on black cherry this fall, that was a first\n"
          ]
        }
      ],
      "source": [
        "# Extract data\n",
        "\n",
        "dids = df[\"did\"].to_list()\n",
        "print(dids[0])\n",
        "sentences = df[\"text\"].to_list()\n",
        "print(sentences[0])"
      ]
    },
    {
      "cell_type": "markdown",
      "metadata": {
        "id": "fjraoR_q5ZoQ"
      },
      "source": [
        "Embeddings"
      ]
    },
    {
      "cell_type": "code",
      "execution_count": 11,
      "metadata": {
        "id": "jFhcgFNH6aru"
      },
      "outputs": [
        {
          "ename": "TypeError",
          "evalue": "'float' object is not subscriptable",
          "output_type": "error",
          "traceback": [
            "\u001b[0;31m---------------------------------------------------------------------------\u001b[0m",
            "\u001b[0;31mTypeError\u001b[0m                                 Traceback (most recent call last)",
            "Cell \u001b[0;32mIn[11], line 6\u001b[0m\n\u001b[1;32m      4\u001b[0m model \u001b[38;5;241m=\u001b[39m SentenceTransformer(\u001b[38;5;124m'\u001b[39m\u001b[38;5;124mall-MiniLM-L6-v2\u001b[39m\u001b[38;5;124m'\u001b[39m)\n\u001b[1;32m      5\u001b[0m \u001b[38;5;66;03m# Generate embeddings\u001b[39;00m\n\u001b[0;32m----> 6\u001b[0m embeddings \u001b[38;5;241m=\u001b[39m \u001b[43mmodel\u001b[49m\u001b[38;5;241;43m.\u001b[39;49m\u001b[43mencode\u001b[49m\u001b[43m(\u001b[49m\u001b[43msentences\u001b[49m\u001b[43m)\u001b[49m\n\u001b[1;32m      7\u001b[0m \u001b[38;5;66;03m# Assuming embeddings have been generated\u001b[39;00m\n\u001b[1;32m      8\u001b[0m \u001b[38;5;66;03m# Create a DataFrame to keep track of user IDs and their corresponding embeddings\u001b[39;00m\n\u001b[1;32m      9\u001b[0m df_embeddings \u001b[38;5;241m=\u001b[39m pd\u001b[38;5;241m.\u001b[39mDataFrame({\u001b[38;5;124m'\u001b[39m\u001b[38;5;124mdid\u001b[39m\u001b[38;5;124m'\u001b[39m: dids, \u001b[38;5;124m'\u001b[39m\u001b[38;5;124membedding\u001b[39m\u001b[38;5;124m'\u001b[39m: \u001b[38;5;28mlist\u001b[39m(embeddings)})\n",
            "File \u001b[0;32m~/opt/anaconda3/envs/bluesky-hack/lib/python3.10/site-packages/sentence_transformers/SentenceTransformer.py:345\u001b[0m, in \u001b[0;36mSentenceTransformer.encode\u001b[0;34m(self, sentences, prompt_name, prompt, batch_size, show_progress_bar, output_value, convert_to_numpy, convert_to_tensor, device, normalize_embeddings)\u001b[0m\n\u001b[1;32m    343\u001b[0m \u001b[38;5;28;01mfor\u001b[39;00m start_index \u001b[38;5;129;01min\u001b[39;00m trange(\u001b[38;5;241m0\u001b[39m, \u001b[38;5;28mlen\u001b[39m(sentences), batch_size, desc\u001b[38;5;241m=\u001b[39m\u001b[38;5;124m\"\u001b[39m\u001b[38;5;124mBatches\u001b[39m\u001b[38;5;124m\"\u001b[39m, disable\u001b[38;5;241m=\u001b[39m\u001b[38;5;129;01mnot\u001b[39;00m show_progress_bar):\n\u001b[1;32m    344\u001b[0m     sentences_batch \u001b[38;5;241m=\u001b[39m sentences_sorted[start_index : start_index \u001b[38;5;241m+\u001b[39m batch_size]\n\u001b[0;32m--> 345\u001b[0m     features \u001b[38;5;241m=\u001b[39m \u001b[38;5;28;43mself\u001b[39;49m\u001b[38;5;241;43m.\u001b[39;49m\u001b[43mtokenize\u001b[49m\u001b[43m(\u001b[49m\u001b[43msentences_batch\u001b[49m\u001b[43m)\u001b[49m\n\u001b[1;32m    346\u001b[0m     features \u001b[38;5;241m=\u001b[39m batch_to_device(features, device)\n\u001b[1;32m    347\u001b[0m     features\u001b[38;5;241m.\u001b[39mupdate(extra_features)\n",
            "File \u001b[0;32m~/opt/anaconda3/envs/bluesky-hack/lib/python3.10/site-packages/sentence_transformers/SentenceTransformer.py:553\u001b[0m, in \u001b[0;36mSentenceTransformer.tokenize\u001b[0;34m(self, texts)\u001b[0m\n\u001b[1;32m    549\u001b[0m \u001b[38;5;28;01mdef\u001b[39;00m \u001b[38;5;21mtokenize\u001b[39m(\u001b[38;5;28mself\u001b[39m, texts: Union[List[\u001b[38;5;28mstr\u001b[39m], List[Dict], List[Tuple[\u001b[38;5;28mstr\u001b[39m, \u001b[38;5;28mstr\u001b[39m]]]):\n\u001b[1;32m    550\u001b[0m \u001b[38;5;250m    \u001b[39m\u001b[38;5;124;03m\"\"\"\u001b[39;00m\n\u001b[1;32m    551\u001b[0m \u001b[38;5;124;03m    Tokenizes the texts\u001b[39;00m\n\u001b[1;32m    552\u001b[0m \u001b[38;5;124;03m    \"\"\"\u001b[39;00m\n\u001b[0;32m--> 553\u001b[0m     \u001b[38;5;28;01mreturn\u001b[39;00m \u001b[38;5;28;43mself\u001b[39;49m\u001b[38;5;241;43m.\u001b[39;49m\u001b[43m_first_module\u001b[49m\u001b[43m(\u001b[49m\u001b[43m)\u001b[49m\u001b[38;5;241;43m.\u001b[39;49m\u001b[43mtokenize\u001b[49m\u001b[43m(\u001b[49m\u001b[43mtexts\u001b[49m\u001b[43m)\u001b[49m\n",
            "File \u001b[0;32m~/opt/anaconda3/envs/bluesky-hack/lib/python3.10/site-packages/sentence_transformers/models/Transformer.py:134\u001b[0m, in \u001b[0;36mTransformer.tokenize\u001b[0;34m(self, texts)\u001b[0m\n\u001b[1;32m    132\u001b[0m batch1, batch2 \u001b[38;5;241m=\u001b[39m [], []\n\u001b[1;32m    133\u001b[0m \u001b[38;5;28;01mfor\u001b[39;00m text_tuple \u001b[38;5;129;01min\u001b[39;00m texts:\n\u001b[0;32m--> 134\u001b[0m     batch1\u001b[38;5;241m.\u001b[39mappend(\u001b[43mtext_tuple\u001b[49m\u001b[43m[\u001b[49m\u001b[38;5;241;43m0\u001b[39;49m\u001b[43m]\u001b[49m)\n\u001b[1;32m    135\u001b[0m     batch2\u001b[38;5;241m.\u001b[39mappend(text_tuple[\u001b[38;5;241m1\u001b[39m])\n\u001b[1;32m    136\u001b[0m to_tokenize \u001b[38;5;241m=\u001b[39m [batch1, batch2]\n",
            "\u001b[0;31mTypeError\u001b[0m: 'float' object is not subscriptable"
          ]
        }
      ],
      "source": [
        "# doesn't work\n",
        "\n",
        "from sentence_transformers import SentenceTransformer\n",
        "\n",
        "# Load a pre-trained model\n",
        "model = SentenceTransformer('all-MiniLM-L6-v2')\n",
        "# Generate embeddings\n",
        "embeddings = model.encode(sentences)\n",
        "# Assuming embeddings have been generated\n",
        "# Create a DataFrame to keep track of user IDs and their corresponding embeddings\n",
        "df_embeddings = pd.DataFrame({'did': dids, 'embedding': list(embeddings)})\n"
      ]
    },
    {
      "cell_type": "markdown",
      "metadata": {
        "id": "GvOMt5br5alh"
      },
      "source": [
        "Model (input: emgeddings of the user , users that they follow, users that follow who the user follows)"
      ]
    },
    {
      "cell_type": "markdown",
      "metadata": {},
      "source": [
        "Perform semantic search across user data Google Generative Language Semantic Retriever. link textsearch acroos data** we use this template: https://docs.llamaindex.ai/en/stable/examples/managed/GoogleDemo.html"
      ]
    },
    {
      "cell_type": "code",
      "execution_count": 14,
      "metadata": {
        "id": "KPP_3zBa6bVV"
      },
      "outputs": [
        {
          "name": "stderr",
          "output_type": "stream",
          "text": [
            "huggingface/tokenizers: The current process just got forked, after parallelism has already been used. Disabling parallelism to avoid deadlocks...\n",
            "To disable this warning, you can either:\n",
            "\t- Avoid using `tokenizers` before the fork if possible\n",
            "\t- Explicitly set the environment variable TOKENIZERS_PARALLELISM=(true | false)\n"
          ]
        },
        {
          "name": "stdout",
          "output_type": "stream",
          "text": [
            "Requirement already satisfied: llama-index-llms-gemini in /Users/tanzeela/opt/anaconda3/envs/bluesky-hack/lib/python3.10/site-packages (0.1.4)\n",
            "Requirement already satisfied: google-generativeai<0.4.0,>=0.3.2 in /Users/tanzeela/opt/anaconda3/envs/bluesky-hack/lib/python3.10/site-packages (from llama-index-llms-gemini) (0.3.2)\n",
            "Requirement already satisfied: llama-index-core<0.11.0,>=0.10.11.post1 in /Users/tanzeela/opt/anaconda3/envs/bluesky-hack/lib/python3.10/site-packages (from llama-index-llms-gemini) (0.10.12)\n",
            "Requirement already satisfied: pillow<11.0.0,>=10.2.0 in /Users/tanzeela/opt/anaconda3/envs/bluesky-hack/lib/python3.10/site-packages (from llama-index-llms-gemini) (10.2.0)\n",
            "Requirement already satisfied: google-ai-generativelanguage==0.4.0 in /Users/tanzeela/opt/anaconda3/envs/bluesky-hack/lib/python3.10/site-packages (from google-generativeai<0.4.0,>=0.3.2->llama-index-llms-gemini) (0.4.0)\n",
            "Requirement already satisfied: google-auth in /Users/tanzeela/opt/anaconda3/envs/bluesky-hack/lib/python3.10/site-packages (from google-generativeai<0.4.0,>=0.3.2->llama-index-llms-gemini) (2.28.1)\n",
            "Requirement already satisfied: google-api-core in /Users/tanzeela/opt/anaconda3/envs/bluesky-hack/lib/python3.10/site-packages (from google-generativeai<0.4.0,>=0.3.2->llama-index-llms-gemini) (2.17.1)\n",
            "Requirement already satisfied: typing-extensions in /Users/tanzeela/opt/anaconda3/envs/bluesky-hack/lib/python3.10/site-packages (from google-generativeai<0.4.0,>=0.3.2->llama-index-llms-gemini) (4.9.0)\n",
            "Requirement already satisfied: protobuf in /Users/tanzeela/opt/anaconda3/envs/bluesky-hack/lib/python3.10/site-packages (from google-generativeai<0.4.0,>=0.3.2->llama-index-llms-gemini) (4.25.3)\n",
            "Requirement already satisfied: tqdm in /Users/tanzeela/opt/anaconda3/envs/bluesky-hack/lib/python3.10/site-packages (from google-generativeai<0.4.0,>=0.3.2->llama-index-llms-gemini) (4.66.2)\n",
            "Requirement already satisfied: proto-plus<2.0.0dev,>=1.22.3 in /Users/tanzeela/opt/anaconda3/envs/bluesky-hack/lib/python3.10/site-packages (from google-ai-generativelanguage==0.4.0->google-generativeai<0.4.0,>=0.3.2->llama-index-llms-gemini) (1.23.0)\n",
            "Requirement already satisfied: PyYAML>=6.0.1 in /Users/tanzeela/opt/anaconda3/envs/bluesky-hack/lib/python3.10/site-packages (from llama-index-core<0.11.0,>=0.10.11.post1->llama-index-llms-gemini) (6.0.1)\n",
            "Requirement already satisfied: SQLAlchemy>=1.4.49 in /Users/tanzeela/opt/anaconda3/envs/bluesky-hack/lib/python3.10/site-packages (from SQLAlchemy[asyncio]>=1.4.49->llama-index-core<0.11.0,>=0.10.11.post1->llama-index-llms-gemini) (2.0.27)\n",
            "Requirement already satisfied: aiohttp<4.0.0,>=3.8.6 in /Users/tanzeela/opt/anaconda3/envs/bluesky-hack/lib/python3.10/site-packages (from llama-index-core<0.11.0,>=0.10.11.post1->llama-index-llms-gemini) (3.9.3)\n",
            "Requirement already satisfied: dataclasses-json in /Users/tanzeela/opt/anaconda3/envs/bluesky-hack/lib/python3.10/site-packages (from llama-index-core<0.11.0,>=0.10.11.post1->llama-index-llms-gemini) (0.6.4)\n",
            "Requirement already satisfied: deprecated>=1.2.9.3 in /Users/tanzeela/opt/anaconda3/envs/bluesky-hack/lib/python3.10/site-packages (from llama-index-core<0.11.0,>=0.10.11.post1->llama-index-llms-gemini) (1.2.14)\n",
            "Requirement already satisfied: dirtyjson<2.0.0,>=1.0.8 in /Users/tanzeela/opt/anaconda3/envs/bluesky-hack/lib/python3.10/site-packages (from llama-index-core<0.11.0,>=0.10.11.post1->llama-index-llms-gemini) (1.0.8)\n",
            "Requirement already satisfied: fsspec>=2023.5.0 in /Users/tanzeela/opt/anaconda3/envs/bluesky-hack/lib/python3.10/site-packages (from llama-index-core<0.11.0,>=0.10.11.post1->llama-index-llms-gemini) (2024.2.0)\n",
            "Requirement already satisfied: httpx in /Users/tanzeela/opt/anaconda3/envs/bluesky-hack/lib/python3.10/site-packages (from llama-index-core<0.11.0,>=0.10.11.post1->llama-index-llms-gemini) (0.25.2)\n",
            "Requirement already satisfied: llamaindex-py-client<0.2.0,>=0.1.13 in /Users/tanzeela/opt/anaconda3/envs/bluesky-hack/lib/python3.10/site-packages (from llama-index-core<0.11.0,>=0.10.11.post1->llama-index-llms-gemini) (0.1.13)\n",
            "Requirement already satisfied: nest-asyncio<2.0.0,>=1.5.8 in /Users/tanzeela/opt/anaconda3/envs/bluesky-hack/lib/python3.10/site-packages (from llama-index-core<0.11.0,>=0.10.11.post1->llama-index-llms-gemini) (1.6.0)\n",
            "Requirement already satisfied: networkx>=3.0 in /Users/tanzeela/opt/anaconda3/envs/bluesky-hack/lib/python3.10/site-packages (from llama-index-core<0.11.0,>=0.10.11.post1->llama-index-llms-gemini) (3.2.1)\n",
            "Requirement already satisfied: nltk<4.0.0,>=3.8.1 in /Users/tanzeela/opt/anaconda3/envs/bluesky-hack/lib/python3.10/site-packages (from llama-index-core<0.11.0,>=0.10.11.post1->llama-index-llms-gemini) (3.8.1)\n",
            "Requirement already satisfied: numpy in /Users/tanzeela/opt/anaconda3/envs/bluesky-hack/lib/python3.10/site-packages (from llama-index-core<0.11.0,>=0.10.11.post1->llama-index-llms-gemini) (1.26.4)\n",
            "Requirement already satisfied: openai>=1.1.0 in /Users/tanzeela/opt/anaconda3/envs/bluesky-hack/lib/python3.10/site-packages (from llama-index-core<0.11.0,>=0.10.11.post1->llama-index-llms-gemini) (1.12.0)\n",
            "Requirement already satisfied: pandas in /Users/tanzeela/opt/anaconda3/envs/bluesky-hack/lib/python3.10/site-packages (from llama-index-core<0.11.0,>=0.10.11.post1->llama-index-llms-gemini) (2.2.1)\n",
            "Requirement already satisfied: requests>=2.31.0 in /Users/tanzeela/opt/anaconda3/envs/bluesky-hack/lib/python3.10/site-packages (from llama-index-core<0.11.0,>=0.10.11.post1->llama-index-llms-gemini) (2.31.0)\n",
            "Requirement already satisfied: tenacity<9.0.0,>=8.2.0 in /Users/tanzeela/opt/anaconda3/envs/bluesky-hack/lib/python3.10/site-packages (from llama-index-core<0.11.0,>=0.10.11.post1->llama-index-llms-gemini) (8.2.3)\n",
            "Requirement already satisfied: tiktoken>=0.3.3 in /Users/tanzeela/opt/anaconda3/envs/bluesky-hack/lib/python3.10/site-packages (from llama-index-core<0.11.0,>=0.10.11.post1->llama-index-llms-gemini) (0.6.0)\n",
            "Requirement already satisfied: typing-inspect>=0.8.0 in /Users/tanzeela/opt/anaconda3/envs/bluesky-hack/lib/python3.10/site-packages (from llama-index-core<0.11.0,>=0.10.11.post1->llama-index-llms-gemini) (0.9.0)\n",
            "Requirement already satisfied: aiosignal>=1.1.2 in /Users/tanzeela/opt/anaconda3/envs/bluesky-hack/lib/python3.10/site-packages (from aiohttp<4.0.0,>=3.8.6->llama-index-core<0.11.0,>=0.10.11.post1->llama-index-llms-gemini) (1.3.1)\n",
            "Requirement already satisfied: attrs>=17.3.0 in /Users/tanzeela/opt/anaconda3/envs/bluesky-hack/lib/python3.10/site-packages (from aiohttp<4.0.0,>=3.8.6->llama-index-core<0.11.0,>=0.10.11.post1->llama-index-llms-gemini) (23.2.0)\n",
            "Requirement already satisfied: frozenlist>=1.1.1 in /Users/tanzeela/opt/anaconda3/envs/bluesky-hack/lib/python3.10/site-packages (from aiohttp<4.0.0,>=3.8.6->llama-index-core<0.11.0,>=0.10.11.post1->llama-index-llms-gemini) (1.4.1)\n",
            "Requirement already satisfied: multidict<7.0,>=4.5 in /Users/tanzeela/opt/anaconda3/envs/bluesky-hack/lib/python3.10/site-packages (from aiohttp<4.0.0,>=3.8.6->llama-index-core<0.11.0,>=0.10.11.post1->llama-index-llms-gemini) (6.0.5)\n",
            "Requirement already satisfied: yarl<2.0,>=1.0 in /Users/tanzeela/opt/anaconda3/envs/bluesky-hack/lib/python3.10/site-packages (from aiohttp<4.0.0,>=3.8.6->llama-index-core<0.11.0,>=0.10.11.post1->llama-index-llms-gemini) (1.9.4)\n",
            "Requirement already satisfied: async-timeout<5.0,>=4.0 in /Users/tanzeela/opt/anaconda3/envs/bluesky-hack/lib/python3.10/site-packages (from aiohttp<4.0.0,>=3.8.6->llama-index-core<0.11.0,>=0.10.11.post1->llama-index-llms-gemini) (4.0.3)\n",
            "Requirement already satisfied: wrapt<2,>=1.10 in /Users/tanzeela/opt/anaconda3/envs/bluesky-hack/lib/python3.10/site-packages (from deprecated>=1.2.9.3->llama-index-core<0.11.0,>=0.10.11.post1->llama-index-llms-gemini) (1.16.0)\n",
            "Requirement already satisfied: googleapis-common-protos<2.0.dev0,>=1.56.2 in /Users/tanzeela/opt/anaconda3/envs/bluesky-hack/lib/python3.10/site-packages (from google-api-core->google-generativeai<0.4.0,>=0.3.2->llama-index-llms-gemini) (1.62.0)\n",
            "Requirement already satisfied: cachetools<6.0,>=2.0.0 in /Users/tanzeela/opt/anaconda3/envs/bluesky-hack/lib/python3.10/site-packages (from google-auth->google-generativeai<0.4.0,>=0.3.2->llama-index-llms-gemini) (5.3.2)\n",
            "Requirement already satisfied: pyasn1-modules>=0.2.1 in /Users/tanzeela/opt/anaconda3/envs/bluesky-hack/lib/python3.10/site-packages (from google-auth->google-generativeai<0.4.0,>=0.3.2->llama-index-llms-gemini) (0.3.0)\n",
            "Requirement already satisfied: rsa<5,>=3.1.4 in /Users/tanzeela/opt/anaconda3/envs/bluesky-hack/lib/python3.10/site-packages (from google-auth->google-generativeai<0.4.0,>=0.3.2->llama-index-llms-gemini) (4.9)\n",
            "Requirement already satisfied: pydantic>=1.10 in /Users/tanzeela/opt/anaconda3/envs/bluesky-hack/lib/python3.10/site-packages (from llamaindex-py-client<0.2.0,>=0.1.13->llama-index-core<0.11.0,>=0.10.11.post1->llama-index-llms-gemini) (2.6.2)\n",
            "Requirement already satisfied: anyio in /Users/tanzeela/opt/anaconda3/envs/bluesky-hack/lib/python3.10/site-packages (from httpx->llama-index-core<0.11.0,>=0.10.11.post1->llama-index-llms-gemini) (4.3.0)\n",
            "Requirement already satisfied: certifi in /Users/tanzeela/opt/anaconda3/envs/bluesky-hack/lib/python3.10/site-packages (from httpx->llama-index-core<0.11.0,>=0.10.11.post1->llama-index-llms-gemini) (2024.2.2)\n",
            "Requirement already satisfied: httpcore==1.* in /Users/tanzeela/opt/anaconda3/envs/bluesky-hack/lib/python3.10/site-packages (from httpx->llama-index-core<0.11.0,>=0.10.11.post1->llama-index-llms-gemini) (1.0.4)\n",
            "Requirement already satisfied: idna in /Users/tanzeela/opt/anaconda3/envs/bluesky-hack/lib/python3.10/site-packages (from httpx->llama-index-core<0.11.0,>=0.10.11.post1->llama-index-llms-gemini) (3.6)\n",
            "Requirement already satisfied: sniffio in /Users/tanzeela/opt/anaconda3/envs/bluesky-hack/lib/python3.10/site-packages (from httpx->llama-index-core<0.11.0,>=0.10.11.post1->llama-index-llms-gemini) (1.3.0)\n",
            "Requirement already satisfied: h11<0.15,>=0.13 in /Users/tanzeela/opt/anaconda3/envs/bluesky-hack/lib/python3.10/site-packages (from httpcore==1.*->httpx->llama-index-core<0.11.0,>=0.10.11.post1->llama-index-llms-gemini) (0.14.0)\n",
            "Requirement already satisfied: click in /Users/tanzeela/opt/anaconda3/envs/bluesky-hack/lib/python3.10/site-packages (from nltk<4.0.0,>=3.8.1->llama-index-core<0.11.0,>=0.10.11.post1->llama-index-llms-gemini) (8.1.7)\n",
            "Requirement already satisfied: joblib in /Users/tanzeela/opt/anaconda3/envs/bluesky-hack/lib/python3.10/site-packages (from nltk<4.0.0,>=3.8.1->llama-index-core<0.11.0,>=0.10.11.post1->llama-index-llms-gemini) (1.3.2)\n",
            "Requirement already satisfied: regex>=2021.8.3 in /Users/tanzeela/opt/anaconda3/envs/bluesky-hack/lib/python3.10/site-packages (from nltk<4.0.0,>=3.8.1->llama-index-core<0.11.0,>=0.10.11.post1->llama-index-llms-gemini) (2023.12.25)\n",
            "Requirement already satisfied: distro<2,>=1.7.0 in /Users/tanzeela/opt/anaconda3/envs/bluesky-hack/lib/python3.10/site-packages (from openai>=1.1.0->llama-index-core<0.11.0,>=0.10.11.post1->llama-index-llms-gemini) (1.9.0)\n",
            "Requirement already satisfied: charset-normalizer<4,>=2 in /Users/tanzeela/opt/anaconda3/envs/bluesky-hack/lib/python3.10/site-packages (from requests>=2.31.0->llama-index-core<0.11.0,>=0.10.11.post1->llama-index-llms-gemini) (3.3.2)\n",
            "Requirement already satisfied: urllib3<3,>=1.21.1 in /Users/tanzeela/opt/anaconda3/envs/bluesky-hack/lib/python3.10/site-packages (from requests>=2.31.0->llama-index-core<0.11.0,>=0.10.11.post1->llama-index-llms-gemini) (2.2.1)\n",
            "Requirement already satisfied: greenlet!=0.4.17 in /Users/tanzeela/opt/anaconda3/envs/bluesky-hack/lib/python3.10/site-packages (from SQLAlchemy>=1.4.49->SQLAlchemy[asyncio]>=1.4.49->llama-index-core<0.11.0,>=0.10.11.post1->llama-index-llms-gemini) (3.0.3)\n",
            "Requirement already satisfied: mypy-extensions>=0.3.0 in /Users/tanzeela/opt/anaconda3/envs/bluesky-hack/lib/python3.10/site-packages (from typing-inspect>=0.8.0->llama-index-core<0.11.0,>=0.10.11.post1->llama-index-llms-gemini) (1.0.0)\n",
            "Requirement already satisfied: marshmallow<4.0.0,>=3.18.0 in /Users/tanzeela/opt/anaconda3/envs/bluesky-hack/lib/python3.10/site-packages (from dataclasses-json->llama-index-core<0.11.0,>=0.10.11.post1->llama-index-llms-gemini) (3.20.2)\n",
            "Requirement already satisfied: python-dateutil>=2.8.2 in /Users/tanzeela/opt/anaconda3/envs/bluesky-hack/lib/python3.10/site-packages (from pandas->llama-index-core<0.11.0,>=0.10.11.post1->llama-index-llms-gemini) (2.8.2)\n",
            "Requirement already satisfied: pytz>=2020.1 in /Users/tanzeela/opt/anaconda3/envs/bluesky-hack/lib/python3.10/site-packages (from pandas->llama-index-core<0.11.0,>=0.10.11.post1->llama-index-llms-gemini) (2024.1)\n",
            "Requirement already satisfied: tzdata>=2022.7 in /Users/tanzeela/opt/anaconda3/envs/bluesky-hack/lib/python3.10/site-packages (from pandas->llama-index-core<0.11.0,>=0.10.11.post1->llama-index-llms-gemini) (2024.1)\n",
            "Requirement already satisfied: exceptiongroup>=1.0.2 in /Users/tanzeela/opt/anaconda3/envs/bluesky-hack/lib/python3.10/site-packages (from anyio->httpx->llama-index-core<0.11.0,>=0.10.11.post1->llama-index-llms-gemini) (1.2.0)\n",
            "Requirement already satisfied: grpcio<2.0dev,>=1.33.2 in /Users/tanzeela/opt/anaconda3/envs/bluesky-hack/lib/python3.10/site-packages (from google-api-core[grpc]!=2.0.*,!=2.1.*,!=2.10.*,!=2.2.*,!=2.3.*,!=2.4.*,!=2.5.*,!=2.6.*,!=2.7.*,!=2.8.*,!=2.9.*,<3.0.0dev,>=1.34.0->google-ai-generativelanguage==0.4.0->google-generativeai<0.4.0,>=0.3.2->llama-index-llms-gemini) (1.62.0)\n",
            "Requirement already satisfied: grpcio-status<2.0.dev0,>=1.33.2 in /Users/tanzeela/opt/anaconda3/envs/bluesky-hack/lib/python3.10/site-packages (from google-api-core[grpc]!=2.0.*,!=2.1.*,!=2.10.*,!=2.2.*,!=2.3.*,!=2.4.*,!=2.5.*,!=2.6.*,!=2.7.*,!=2.8.*,!=2.9.*,<3.0.0dev,>=1.34.0->google-ai-generativelanguage==0.4.0->google-generativeai<0.4.0,>=0.3.2->llama-index-llms-gemini) (1.62.0)\n",
            "Requirement already satisfied: packaging>=17.0 in /Users/tanzeela/opt/anaconda3/envs/bluesky-hack/lib/python3.10/site-packages (from marshmallow<4.0.0,>=3.18.0->dataclasses-json->llama-index-core<0.11.0,>=0.10.11.post1->llama-index-llms-gemini) (23.2)\n",
            "Requirement already satisfied: pyasn1<0.6.0,>=0.4.6 in /Users/tanzeela/opt/anaconda3/envs/bluesky-hack/lib/python3.10/site-packages (from pyasn1-modules>=0.2.1->google-auth->google-generativeai<0.4.0,>=0.3.2->llama-index-llms-gemini) (0.5.1)\n",
            "Requirement already satisfied: annotated-types>=0.4.0 in /Users/tanzeela/opt/anaconda3/envs/bluesky-hack/lib/python3.10/site-packages (from pydantic>=1.10->llamaindex-py-client<0.2.0,>=0.1.13->llama-index-core<0.11.0,>=0.10.11.post1->llama-index-llms-gemini) (0.6.0)\n",
            "Requirement already satisfied: pydantic-core==2.16.3 in /Users/tanzeela/opt/anaconda3/envs/bluesky-hack/lib/python3.10/site-packages (from pydantic>=1.10->llamaindex-py-client<0.2.0,>=0.1.13->llama-index-core<0.11.0,>=0.10.11.post1->llama-index-llms-gemini) (2.16.3)\n",
            "Requirement already satisfied: six>=1.5 in /Users/tanzeela/opt/anaconda3/envs/bluesky-hack/lib/python3.10/site-packages (from python-dateutil>=2.8.2->pandas->llama-index-core<0.11.0,>=0.10.11.post1->llama-index-llms-gemini) (1.16.0)\n",
            "Note: you may need to restart the kernel to use updated packages.\n"
          ]
        },
        {
          "name": "stderr",
          "output_type": "stream",
          "text": [
            "huggingface/tokenizers: The current process just got forked, after parallelism has already been used. Disabling parallelism to avoid deadlocks...\n",
            "To disable this warning, you can either:\n",
            "\t- Avoid using `tokenizers` before the fork if possible\n",
            "\t- Explicitly set the environment variable TOKENIZERS_PARALLELISM=(true | false)\n"
          ]
        },
        {
          "name": "stdout",
          "output_type": "stream",
          "text": [
            "Requirement already satisfied: llama-index-vector-stores-google in /Users/tanzeela/opt/anaconda3/envs/bluesky-hack/lib/python3.10/site-packages (0.1.4)\n",
            "Requirement already satisfied: google-generativeai<0.4.0,>=0.3.2 in /Users/tanzeela/opt/anaconda3/envs/bluesky-hack/lib/python3.10/site-packages (from llama-index-vector-stores-google) (0.3.2)\n",
            "Requirement already satisfied: llama-index-core<0.11.0,>=0.10.11.post1 in /Users/tanzeela/opt/anaconda3/envs/bluesky-hack/lib/python3.10/site-packages (from llama-index-vector-stores-google) (0.10.12)\n",
            "Requirement already satisfied: google-ai-generativelanguage==0.4.0 in /Users/tanzeela/opt/anaconda3/envs/bluesky-hack/lib/python3.10/site-packages (from google-generativeai<0.4.0,>=0.3.2->llama-index-vector-stores-google) (0.4.0)\n",
            "Requirement already satisfied: google-auth in /Users/tanzeela/opt/anaconda3/envs/bluesky-hack/lib/python3.10/site-packages (from google-generativeai<0.4.0,>=0.3.2->llama-index-vector-stores-google) (2.28.1)\n",
            "Requirement already satisfied: google-api-core in /Users/tanzeela/opt/anaconda3/envs/bluesky-hack/lib/python3.10/site-packages (from google-generativeai<0.4.0,>=0.3.2->llama-index-vector-stores-google) (2.17.1)\n",
            "Requirement already satisfied: typing-extensions in /Users/tanzeela/opt/anaconda3/envs/bluesky-hack/lib/python3.10/site-packages (from google-generativeai<0.4.0,>=0.3.2->llama-index-vector-stores-google) (4.9.0)\n",
            "Requirement already satisfied: protobuf in /Users/tanzeela/opt/anaconda3/envs/bluesky-hack/lib/python3.10/site-packages (from google-generativeai<0.4.0,>=0.3.2->llama-index-vector-stores-google) (4.25.3)\n",
            "Requirement already satisfied: tqdm in /Users/tanzeela/opt/anaconda3/envs/bluesky-hack/lib/python3.10/site-packages (from google-generativeai<0.4.0,>=0.3.2->llama-index-vector-stores-google) (4.66.2)\n",
            "Requirement already satisfied: proto-plus<2.0.0dev,>=1.22.3 in /Users/tanzeela/opt/anaconda3/envs/bluesky-hack/lib/python3.10/site-packages (from google-ai-generativelanguage==0.4.0->google-generativeai<0.4.0,>=0.3.2->llama-index-vector-stores-google) (1.23.0)\n",
            "Requirement already satisfied: PyYAML>=6.0.1 in /Users/tanzeela/opt/anaconda3/envs/bluesky-hack/lib/python3.10/site-packages (from llama-index-core<0.11.0,>=0.10.11.post1->llama-index-vector-stores-google) (6.0.1)\n",
            "Requirement already satisfied: SQLAlchemy>=1.4.49 in /Users/tanzeela/opt/anaconda3/envs/bluesky-hack/lib/python3.10/site-packages (from SQLAlchemy[asyncio]>=1.4.49->llama-index-core<0.11.0,>=0.10.11.post1->llama-index-vector-stores-google) (2.0.27)\n",
            "Requirement already satisfied: aiohttp<4.0.0,>=3.8.6 in /Users/tanzeela/opt/anaconda3/envs/bluesky-hack/lib/python3.10/site-packages (from llama-index-core<0.11.0,>=0.10.11.post1->llama-index-vector-stores-google) (3.9.3)\n",
            "Requirement already satisfied: dataclasses-json in /Users/tanzeela/opt/anaconda3/envs/bluesky-hack/lib/python3.10/site-packages (from llama-index-core<0.11.0,>=0.10.11.post1->llama-index-vector-stores-google) (0.6.4)\n",
            "Requirement already satisfied: deprecated>=1.2.9.3 in /Users/tanzeela/opt/anaconda3/envs/bluesky-hack/lib/python3.10/site-packages (from llama-index-core<0.11.0,>=0.10.11.post1->llama-index-vector-stores-google) (1.2.14)\n",
            "Requirement already satisfied: dirtyjson<2.0.0,>=1.0.8 in /Users/tanzeela/opt/anaconda3/envs/bluesky-hack/lib/python3.10/site-packages (from llama-index-core<0.11.0,>=0.10.11.post1->llama-index-vector-stores-google) (1.0.8)\n",
            "Requirement already satisfied: fsspec>=2023.5.0 in /Users/tanzeela/opt/anaconda3/envs/bluesky-hack/lib/python3.10/site-packages (from llama-index-core<0.11.0,>=0.10.11.post1->llama-index-vector-stores-google) (2024.2.0)\n",
            "Requirement already satisfied: httpx in /Users/tanzeela/opt/anaconda3/envs/bluesky-hack/lib/python3.10/site-packages (from llama-index-core<0.11.0,>=0.10.11.post1->llama-index-vector-stores-google) (0.25.2)\n",
            "Requirement already satisfied: llamaindex-py-client<0.2.0,>=0.1.13 in /Users/tanzeela/opt/anaconda3/envs/bluesky-hack/lib/python3.10/site-packages (from llama-index-core<0.11.0,>=0.10.11.post1->llama-index-vector-stores-google) (0.1.13)\n",
            "Requirement already satisfied: nest-asyncio<2.0.0,>=1.5.8 in /Users/tanzeela/opt/anaconda3/envs/bluesky-hack/lib/python3.10/site-packages (from llama-index-core<0.11.0,>=0.10.11.post1->llama-index-vector-stores-google) (1.6.0)\n",
            "Requirement already satisfied: networkx>=3.0 in /Users/tanzeela/opt/anaconda3/envs/bluesky-hack/lib/python3.10/site-packages (from llama-index-core<0.11.0,>=0.10.11.post1->llama-index-vector-stores-google) (3.2.1)\n",
            "Requirement already satisfied: nltk<4.0.0,>=3.8.1 in /Users/tanzeela/opt/anaconda3/envs/bluesky-hack/lib/python3.10/site-packages (from llama-index-core<0.11.0,>=0.10.11.post1->llama-index-vector-stores-google) (3.8.1)\n",
            "Requirement already satisfied: numpy in /Users/tanzeela/opt/anaconda3/envs/bluesky-hack/lib/python3.10/site-packages (from llama-index-core<0.11.0,>=0.10.11.post1->llama-index-vector-stores-google) (1.26.4)\n",
            "Requirement already satisfied: openai>=1.1.0 in /Users/tanzeela/opt/anaconda3/envs/bluesky-hack/lib/python3.10/site-packages (from llama-index-core<0.11.0,>=0.10.11.post1->llama-index-vector-stores-google) (1.12.0)\n",
            "Requirement already satisfied: pandas in /Users/tanzeela/opt/anaconda3/envs/bluesky-hack/lib/python3.10/site-packages (from llama-index-core<0.11.0,>=0.10.11.post1->llama-index-vector-stores-google) (2.2.1)\n",
            "Requirement already satisfied: pillow>=9.0.0 in /Users/tanzeela/opt/anaconda3/envs/bluesky-hack/lib/python3.10/site-packages (from llama-index-core<0.11.0,>=0.10.11.post1->llama-index-vector-stores-google) (10.2.0)\n",
            "Requirement already satisfied: requests>=2.31.0 in /Users/tanzeela/opt/anaconda3/envs/bluesky-hack/lib/python3.10/site-packages (from llama-index-core<0.11.0,>=0.10.11.post1->llama-index-vector-stores-google) (2.31.0)\n",
            "Requirement already satisfied: tenacity<9.0.0,>=8.2.0 in /Users/tanzeela/opt/anaconda3/envs/bluesky-hack/lib/python3.10/site-packages (from llama-index-core<0.11.0,>=0.10.11.post1->llama-index-vector-stores-google) (8.2.3)\n",
            "Requirement already satisfied: tiktoken>=0.3.3 in /Users/tanzeela/opt/anaconda3/envs/bluesky-hack/lib/python3.10/site-packages (from llama-index-core<0.11.0,>=0.10.11.post1->llama-index-vector-stores-google) (0.6.0)\n",
            "Requirement already satisfied: typing-inspect>=0.8.0 in /Users/tanzeela/opt/anaconda3/envs/bluesky-hack/lib/python3.10/site-packages (from llama-index-core<0.11.0,>=0.10.11.post1->llama-index-vector-stores-google) (0.9.0)\n",
            "Requirement already satisfied: aiosignal>=1.1.2 in /Users/tanzeela/opt/anaconda3/envs/bluesky-hack/lib/python3.10/site-packages (from aiohttp<4.0.0,>=3.8.6->llama-index-core<0.11.0,>=0.10.11.post1->llama-index-vector-stores-google) (1.3.1)\n",
            "Requirement already satisfied: attrs>=17.3.0 in /Users/tanzeela/opt/anaconda3/envs/bluesky-hack/lib/python3.10/site-packages (from aiohttp<4.0.0,>=3.8.6->llama-index-core<0.11.0,>=0.10.11.post1->llama-index-vector-stores-google) (23.2.0)\n",
            "Requirement already satisfied: frozenlist>=1.1.1 in /Users/tanzeela/opt/anaconda3/envs/bluesky-hack/lib/python3.10/site-packages (from aiohttp<4.0.0,>=3.8.6->llama-index-core<0.11.0,>=0.10.11.post1->llama-index-vector-stores-google) (1.4.1)\n",
            "Requirement already satisfied: multidict<7.0,>=4.5 in /Users/tanzeela/opt/anaconda3/envs/bluesky-hack/lib/python3.10/site-packages (from aiohttp<4.0.0,>=3.8.6->llama-index-core<0.11.0,>=0.10.11.post1->llama-index-vector-stores-google) (6.0.5)\n",
            "Requirement already satisfied: yarl<2.0,>=1.0 in /Users/tanzeela/opt/anaconda3/envs/bluesky-hack/lib/python3.10/site-packages (from aiohttp<4.0.0,>=3.8.6->llama-index-core<0.11.0,>=0.10.11.post1->llama-index-vector-stores-google) (1.9.4)\n",
            "Requirement already satisfied: async-timeout<5.0,>=4.0 in /Users/tanzeela/opt/anaconda3/envs/bluesky-hack/lib/python3.10/site-packages (from aiohttp<4.0.0,>=3.8.6->llama-index-core<0.11.0,>=0.10.11.post1->llama-index-vector-stores-google) (4.0.3)\n",
            "Requirement already satisfied: wrapt<2,>=1.10 in /Users/tanzeela/opt/anaconda3/envs/bluesky-hack/lib/python3.10/site-packages (from deprecated>=1.2.9.3->llama-index-core<0.11.0,>=0.10.11.post1->llama-index-vector-stores-google) (1.16.0)\n",
            "Requirement already satisfied: googleapis-common-protos<2.0.dev0,>=1.56.2 in /Users/tanzeela/opt/anaconda3/envs/bluesky-hack/lib/python3.10/site-packages (from google-api-core->google-generativeai<0.4.0,>=0.3.2->llama-index-vector-stores-google) (1.62.0)\n",
            "Requirement already satisfied: cachetools<6.0,>=2.0.0 in /Users/tanzeela/opt/anaconda3/envs/bluesky-hack/lib/python3.10/site-packages (from google-auth->google-generativeai<0.4.0,>=0.3.2->llama-index-vector-stores-google) (5.3.2)\n",
            "Requirement already satisfied: pyasn1-modules>=0.2.1 in /Users/tanzeela/opt/anaconda3/envs/bluesky-hack/lib/python3.10/site-packages (from google-auth->google-generativeai<0.4.0,>=0.3.2->llama-index-vector-stores-google) (0.3.0)\n",
            "Requirement already satisfied: rsa<5,>=3.1.4 in /Users/tanzeela/opt/anaconda3/envs/bluesky-hack/lib/python3.10/site-packages (from google-auth->google-generativeai<0.4.0,>=0.3.2->llama-index-vector-stores-google) (4.9)\n",
            "Requirement already satisfied: pydantic>=1.10 in /Users/tanzeela/opt/anaconda3/envs/bluesky-hack/lib/python3.10/site-packages (from llamaindex-py-client<0.2.0,>=0.1.13->llama-index-core<0.11.0,>=0.10.11.post1->llama-index-vector-stores-google) (2.6.2)\n",
            "Requirement already satisfied: anyio in /Users/tanzeela/opt/anaconda3/envs/bluesky-hack/lib/python3.10/site-packages (from httpx->llama-index-core<0.11.0,>=0.10.11.post1->llama-index-vector-stores-google) (4.3.0)\n",
            "Requirement already satisfied: certifi in /Users/tanzeela/opt/anaconda3/envs/bluesky-hack/lib/python3.10/site-packages (from httpx->llama-index-core<0.11.0,>=0.10.11.post1->llama-index-vector-stores-google) (2024.2.2)\n",
            "Requirement already satisfied: httpcore==1.* in /Users/tanzeela/opt/anaconda3/envs/bluesky-hack/lib/python3.10/site-packages (from httpx->llama-index-core<0.11.0,>=0.10.11.post1->llama-index-vector-stores-google) (1.0.4)\n",
            "Requirement already satisfied: idna in /Users/tanzeela/opt/anaconda3/envs/bluesky-hack/lib/python3.10/site-packages (from httpx->llama-index-core<0.11.0,>=0.10.11.post1->llama-index-vector-stores-google) (3.6)\n",
            "Requirement already satisfied: sniffio in /Users/tanzeela/opt/anaconda3/envs/bluesky-hack/lib/python3.10/site-packages (from httpx->llama-index-core<0.11.0,>=0.10.11.post1->llama-index-vector-stores-google) (1.3.0)\n",
            "Requirement already satisfied: h11<0.15,>=0.13 in /Users/tanzeela/opt/anaconda3/envs/bluesky-hack/lib/python3.10/site-packages (from httpcore==1.*->httpx->llama-index-core<0.11.0,>=0.10.11.post1->llama-index-vector-stores-google) (0.14.0)\n",
            "Requirement already satisfied: click in /Users/tanzeela/opt/anaconda3/envs/bluesky-hack/lib/python3.10/site-packages (from nltk<4.0.0,>=3.8.1->llama-index-core<0.11.0,>=0.10.11.post1->llama-index-vector-stores-google) (8.1.7)\n",
            "Requirement already satisfied: joblib in /Users/tanzeela/opt/anaconda3/envs/bluesky-hack/lib/python3.10/site-packages (from nltk<4.0.0,>=3.8.1->llama-index-core<0.11.0,>=0.10.11.post1->llama-index-vector-stores-google) (1.3.2)\n",
            "Requirement already satisfied: regex>=2021.8.3 in /Users/tanzeela/opt/anaconda3/envs/bluesky-hack/lib/python3.10/site-packages (from nltk<4.0.0,>=3.8.1->llama-index-core<0.11.0,>=0.10.11.post1->llama-index-vector-stores-google) (2023.12.25)\n",
            "Requirement already satisfied: distro<2,>=1.7.0 in /Users/tanzeela/opt/anaconda3/envs/bluesky-hack/lib/python3.10/site-packages (from openai>=1.1.0->llama-index-core<0.11.0,>=0.10.11.post1->llama-index-vector-stores-google) (1.9.0)\n",
            "Requirement already satisfied: charset-normalizer<4,>=2 in /Users/tanzeela/opt/anaconda3/envs/bluesky-hack/lib/python3.10/site-packages (from requests>=2.31.0->llama-index-core<0.11.0,>=0.10.11.post1->llama-index-vector-stores-google) (3.3.2)\n",
            "Requirement already satisfied: urllib3<3,>=1.21.1 in /Users/tanzeela/opt/anaconda3/envs/bluesky-hack/lib/python3.10/site-packages (from requests>=2.31.0->llama-index-core<0.11.0,>=0.10.11.post1->llama-index-vector-stores-google) (2.2.1)\n",
            "Requirement already satisfied: greenlet!=0.4.17 in /Users/tanzeela/opt/anaconda3/envs/bluesky-hack/lib/python3.10/site-packages (from SQLAlchemy>=1.4.49->SQLAlchemy[asyncio]>=1.4.49->llama-index-core<0.11.0,>=0.10.11.post1->llama-index-vector-stores-google) (3.0.3)\n",
            "Requirement already satisfied: mypy-extensions>=0.3.0 in /Users/tanzeela/opt/anaconda3/envs/bluesky-hack/lib/python3.10/site-packages (from typing-inspect>=0.8.0->llama-index-core<0.11.0,>=0.10.11.post1->llama-index-vector-stores-google) (1.0.0)\n",
            "Requirement already satisfied: marshmallow<4.0.0,>=3.18.0 in /Users/tanzeela/opt/anaconda3/envs/bluesky-hack/lib/python3.10/site-packages (from dataclasses-json->llama-index-core<0.11.0,>=0.10.11.post1->llama-index-vector-stores-google) (3.20.2)\n",
            "Requirement already satisfied: python-dateutil>=2.8.2 in /Users/tanzeela/opt/anaconda3/envs/bluesky-hack/lib/python3.10/site-packages (from pandas->llama-index-core<0.11.0,>=0.10.11.post1->llama-index-vector-stores-google) (2.8.2)\n",
            "Requirement already satisfied: pytz>=2020.1 in /Users/tanzeela/opt/anaconda3/envs/bluesky-hack/lib/python3.10/site-packages (from pandas->llama-index-core<0.11.0,>=0.10.11.post1->llama-index-vector-stores-google) (2024.1)\n",
            "Requirement already satisfied: tzdata>=2022.7 in /Users/tanzeela/opt/anaconda3/envs/bluesky-hack/lib/python3.10/site-packages (from pandas->llama-index-core<0.11.0,>=0.10.11.post1->llama-index-vector-stores-google) (2024.1)\n",
            "Requirement already satisfied: exceptiongroup>=1.0.2 in /Users/tanzeela/opt/anaconda3/envs/bluesky-hack/lib/python3.10/site-packages (from anyio->httpx->llama-index-core<0.11.0,>=0.10.11.post1->llama-index-vector-stores-google) (1.2.0)\n",
            "Requirement already satisfied: grpcio<2.0dev,>=1.33.2 in /Users/tanzeela/opt/anaconda3/envs/bluesky-hack/lib/python3.10/site-packages (from google-api-core[grpc]!=2.0.*,!=2.1.*,!=2.10.*,!=2.2.*,!=2.3.*,!=2.4.*,!=2.5.*,!=2.6.*,!=2.7.*,!=2.8.*,!=2.9.*,<3.0.0dev,>=1.34.0->google-ai-generativelanguage==0.4.0->google-generativeai<0.4.0,>=0.3.2->llama-index-vector-stores-google) (1.62.0)\n",
            "Requirement already satisfied: grpcio-status<2.0.dev0,>=1.33.2 in /Users/tanzeela/opt/anaconda3/envs/bluesky-hack/lib/python3.10/site-packages (from google-api-core[grpc]!=2.0.*,!=2.1.*,!=2.10.*,!=2.2.*,!=2.3.*,!=2.4.*,!=2.5.*,!=2.6.*,!=2.7.*,!=2.8.*,!=2.9.*,<3.0.0dev,>=1.34.0->google-ai-generativelanguage==0.4.0->google-generativeai<0.4.0,>=0.3.2->llama-index-vector-stores-google) (1.62.0)\n",
            "Requirement already satisfied: packaging>=17.0 in /Users/tanzeela/opt/anaconda3/envs/bluesky-hack/lib/python3.10/site-packages (from marshmallow<4.0.0,>=3.18.0->dataclasses-json->llama-index-core<0.11.0,>=0.10.11.post1->llama-index-vector-stores-google) (23.2)\n",
            "Requirement already satisfied: pyasn1<0.6.0,>=0.4.6 in /Users/tanzeela/opt/anaconda3/envs/bluesky-hack/lib/python3.10/site-packages (from pyasn1-modules>=0.2.1->google-auth->google-generativeai<0.4.0,>=0.3.2->llama-index-vector-stores-google) (0.5.1)\n",
            "Requirement already satisfied: annotated-types>=0.4.0 in /Users/tanzeela/opt/anaconda3/envs/bluesky-hack/lib/python3.10/site-packages (from pydantic>=1.10->llamaindex-py-client<0.2.0,>=0.1.13->llama-index-core<0.11.0,>=0.10.11.post1->llama-index-vector-stores-google) (0.6.0)\n",
            "Requirement already satisfied: pydantic-core==2.16.3 in /Users/tanzeela/opt/anaconda3/envs/bluesky-hack/lib/python3.10/site-packages (from pydantic>=1.10->llamaindex-py-client<0.2.0,>=0.1.13->llama-index-core<0.11.0,>=0.10.11.post1->llama-index-vector-stores-google) (2.16.3)\n",
            "Requirement already satisfied: six>=1.5 in /Users/tanzeela/opt/anaconda3/envs/bluesky-hack/lib/python3.10/site-packages (from python-dateutil>=2.8.2->pandas->llama-index-core<0.11.0,>=0.10.11.post1->llama-index-vector-stores-google) (1.16.0)\n",
            "Note: you may need to restart the kernel to use updated packages.\n"
          ]
        },
        {
          "name": "stderr",
          "output_type": "stream",
          "text": [
            "huggingface/tokenizers: The current process just got forked, after parallelism has already been used. Disabling parallelism to avoid deadlocks...\n",
            "To disable this warning, you can either:\n",
            "\t- Avoid using `tokenizers` before the fork if possible\n",
            "\t- Explicitly set the environment variable TOKENIZERS_PARALLELISM=(true | false)\n"
          ]
        },
        {
          "name": "stdout",
          "output_type": "stream",
          "text": [
            "Requirement already satisfied: llama-index-indices-managed-google in /Users/tanzeela/opt/anaconda3/envs/bluesky-hack/lib/python3.10/site-packages (0.1.3)\n",
            "Requirement already satisfied: llama-index-core<0.11.0,>=0.10.11.post1 in /Users/tanzeela/opt/anaconda3/envs/bluesky-hack/lib/python3.10/site-packages (from llama-index-indices-managed-google) (0.10.12)\n",
            "Requirement already satisfied: llama-index-response-synthesizers-google<0.2.0,>=0.1.3 in /Users/tanzeela/opt/anaconda3/envs/bluesky-hack/lib/python3.10/site-packages (from llama-index-indices-managed-google) (0.1.3)\n",
            "Requirement already satisfied: llama-index-vector-stores-google<0.2.0,>=0.1.3 in /Users/tanzeela/opt/anaconda3/envs/bluesky-hack/lib/python3.10/site-packages (from llama-index-indices-managed-google) (0.1.4)\n",
            "Requirement already satisfied: PyYAML>=6.0.1 in /Users/tanzeela/opt/anaconda3/envs/bluesky-hack/lib/python3.10/site-packages (from llama-index-core<0.11.0,>=0.10.11.post1->llama-index-indices-managed-google) (6.0.1)\n",
            "Requirement already satisfied: SQLAlchemy>=1.4.49 in /Users/tanzeela/opt/anaconda3/envs/bluesky-hack/lib/python3.10/site-packages (from SQLAlchemy[asyncio]>=1.4.49->llama-index-core<0.11.0,>=0.10.11.post1->llama-index-indices-managed-google) (2.0.27)\n",
            "Requirement already satisfied: aiohttp<4.0.0,>=3.8.6 in /Users/tanzeela/opt/anaconda3/envs/bluesky-hack/lib/python3.10/site-packages (from llama-index-core<0.11.0,>=0.10.11.post1->llama-index-indices-managed-google) (3.9.3)\n",
            "Requirement already satisfied: dataclasses-json in /Users/tanzeela/opt/anaconda3/envs/bluesky-hack/lib/python3.10/site-packages (from llama-index-core<0.11.0,>=0.10.11.post1->llama-index-indices-managed-google) (0.6.4)\n",
            "Requirement already satisfied: deprecated>=1.2.9.3 in /Users/tanzeela/opt/anaconda3/envs/bluesky-hack/lib/python3.10/site-packages (from llama-index-core<0.11.0,>=0.10.11.post1->llama-index-indices-managed-google) (1.2.14)\n",
            "Requirement already satisfied: dirtyjson<2.0.0,>=1.0.8 in /Users/tanzeela/opt/anaconda3/envs/bluesky-hack/lib/python3.10/site-packages (from llama-index-core<0.11.0,>=0.10.11.post1->llama-index-indices-managed-google) (1.0.8)\n",
            "Requirement already satisfied: fsspec>=2023.5.0 in /Users/tanzeela/opt/anaconda3/envs/bluesky-hack/lib/python3.10/site-packages (from llama-index-core<0.11.0,>=0.10.11.post1->llama-index-indices-managed-google) (2024.2.0)\n",
            "Requirement already satisfied: httpx in /Users/tanzeela/opt/anaconda3/envs/bluesky-hack/lib/python3.10/site-packages (from llama-index-core<0.11.0,>=0.10.11.post1->llama-index-indices-managed-google) (0.25.2)\n",
            "Requirement already satisfied: llamaindex-py-client<0.2.0,>=0.1.13 in /Users/tanzeela/opt/anaconda3/envs/bluesky-hack/lib/python3.10/site-packages (from llama-index-core<0.11.0,>=0.10.11.post1->llama-index-indices-managed-google) (0.1.13)\n",
            "Requirement already satisfied: nest-asyncio<2.0.0,>=1.5.8 in /Users/tanzeela/opt/anaconda3/envs/bluesky-hack/lib/python3.10/site-packages (from llama-index-core<0.11.0,>=0.10.11.post1->llama-index-indices-managed-google) (1.6.0)\n",
            "Requirement already satisfied: networkx>=3.0 in /Users/tanzeela/opt/anaconda3/envs/bluesky-hack/lib/python3.10/site-packages (from llama-index-core<0.11.0,>=0.10.11.post1->llama-index-indices-managed-google) (3.2.1)\n",
            "Requirement already satisfied: nltk<4.0.0,>=3.8.1 in /Users/tanzeela/opt/anaconda3/envs/bluesky-hack/lib/python3.10/site-packages (from llama-index-core<0.11.0,>=0.10.11.post1->llama-index-indices-managed-google) (3.8.1)\n",
            "Requirement already satisfied: numpy in /Users/tanzeela/opt/anaconda3/envs/bluesky-hack/lib/python3.10/site-packages (from llama-index-core<0.11.0,>=0.10.11.post1->llama-index-indices-managed-google) (1.26.4)\n",
            "Requirement already satisfied: openai>=1.1.0 in /Users/tanzeela/opt/anaconda3/envs/bluesky-hack/lib/python3.10/site-packages (from llama-index-core<0.11.0,>=0.10.11.post1->llama-index-indices-managed-google) (1.12.0)\n",
            "Requirement already satisfied: pandas in /Users/tanzeela/opt/anaconda3/envs/bluesky-hack/lib/python3.10/site-packages (from llama-index-core<0.11.0,>=0.10.11.post1->llama-index-indices-managed-google) (2.2.1)\n",
            "Requirement already satisfied: pillow>=9.0.0 in /Users/tanzeela/opt/anaconda3/envs/bluesky-hack/lib/python3.10/site-packages (from llama-index-core<0.11.0,>=0.10.11.post1->llama-index-indices-managed-google) (10.2.0)\n",
            "Requirement already satisfied: requests>=2.31.0 in /Users/tanzeela/opt/anaconda3/envs/bluesky-hack/lib/python3.10/site-packages (from llama-index-core<0.11.0,>=0.10.11.post1->llama-index-indices-managed-google) (2.31.0)\n",
            "Requirement already satisfied: tenacity<9.0.0,>=8.2.0 in /Users/tanzeela/opt/anaconda3/envs/bluesky-hack/lib/python3.10/site-packages (from llama-index-core<0.11.0,>=0.10.11.post1->llama-index-indices-managed-google) (8.2.3)\n",
            "Requirement already satisfied: tiktoken>=0.3.3 in /Users/tanzeela/opt/anaconda3/envs/bluesky-hack/lib/python3.10/site-packages (from llama-index-core<0.11.0,>=0.10.11.post1->llama-index-indices-managed-google) (0.6.0)\n",
            "Requirement already satisfied: tqdm<5.0.0,>=4.66.1 in /Users/tanzeela/opt/anaconda3/envs/bluesky-hack/lib/python3.10/site-packages (from llama-index-core<0.11.0,>=0.10.11.post1->llama-index-indices-managed-google) (4.66.2)\n",
            "Requirement already satisfied: typing-extensions>=4.5.0 in /Users/tanzeela/opt/anaconda3/envs/bluesky-hack/lib/python3.10/site-packages (from llama-index-core<0.11.0,>=0.10.11.post1->llama-index-indices-managed-google) (4.9.0)\n",
            "Requirement already satisfied: typing-inspect>=0.8.0 in /Users/tanzeela/opt/anaconda3/envs/bluesky-hack/lib/python3.10/site-packages (from llama-index-core<0.11.0,>=0.10.11.post1->llama-index-indices-managed-google) (0.9.0)\n",
            "Requirement already satisfied: google-generativeai<0.4.0,>=0.3.2 in /Users/tanzeela/opt/anaconda3/envs/bluesky-hack/lib/python3.10/site-packages (from llama-index-vector-stores-google<0.2.0,>=0.1.3->llama-index-indices-managed-google) (0.3.2)\n",
            "Requirement already satisfied: aiosignal>=1.1.2 in /Users/tanzeela/opt/anaconda3/envs/bluesky-hack/lib/python3.10/site-packages (from aiohttp<4.0.0,>=3.8.6->llama-index-core<0.11.0,>=0.10.11.post1->llama-index-indices-managed-google) (1.3.1)\n",
            "Requirement already satisfied: attrs>=17.3.0 in /Users/tanzeela/opt/anaconda3/envs/bluesky-hack/lib/python3.10/site-packages (from aiohttp<4.0.0,>=3.8.6->llama-index-core<0.11.0,>=0.10.11.post1->llama-index-indices-managed-google) (23.2.0)\n",
            "Requirement already satisfied: frozenlist>=1.1.1 in /Users/tanzeela/opt/anaconda3/envs/bluesky-hack/lib/python3.10/site-packages (from aiohttp<4.0.0,>=3.8.6->llama-index-core<0.11.0,>=0.10.11.post1->llama-index-indices-managed-google) (1.4.1)\n",
            "Requirement already satisfied: multidict<7.0,>=4.5 in /Users/tanzeela/opt/anaconda3/envs/bluesky-hack/lib/python3.10/site-packages (from aiohttp<4.0.0,>=3.8.6->llama-index-core<0.11.0,>=0.10.11.post1->llama-index-indices-managed-google) (6.0.5)\n",
            "Requirement already satisfied: yarl<2.0,>=1.0 in /Users/tanzeela/opt/anaconda3/envs/bluesky-hack/lib/python3.10/site-packages (from aiohttp<4.0.0,>=3.8.6->llama-index-core<0.11.0,>=0.10.11.post1->llama-index-indices-managed-google) (1.9.4)\n",
            "Requirement already satisfied: async-timeout<5.0,>=4.0 in /Users/tanzeela/opt/anaconda3/envs/bluesky-hack/lib/python3.10/site-packages (from aiohttp<4.0.0,>=3.8.6->llama-index-core<0.11.0,>=0.10.11.post1->llama-index-indices-managed-google) (4.0.3)\n",
            "Requirement already satisfied: wrapt<2,>=1.10 in /Users/tanzeela/opt/anaconda3/envs/bluesky-hack/lib/python3.10/site-packages (from deprecated>=1.2.9.3->llama-index-core<0.11.0,>=0.10.11.post1->llama-index-indices-managed-google) (1.16.0)\n",
            "Requirement already satisfied: google-ai-generativelanguage==0.4.0 in /Users/tanzeela/opt/anaconda3/envs/bluesky-hack/lib/python3.10/site-packages (from google-generativeai<0.4.0,>=0.3.2->llama-index-vector-stores-google<0.2.0,>=0.1.3->llama-index-indices-managed-google) (0.4.0)\n",
            "Requirement already satisfied: google-auth in /Users/tanzeela/opt/anaconda3/envs/bluesky-hack/lib/python3.10/site-packages (from google-generativeai<0.4.0,>=0.3.2->llama-index-vector-stores-google<0.2.0,>=0.1.3->llama-index-indices-managed-google) (2.28.1)\n",
            "Requirement already satisfied: google-api-core in /Users/tanzeela/opt/anaconda3/envs/bluesky-hack/lib/python3.10/site-packages (from google-generativeai<0.4.0,>=0.3.2->llama-index-vector-stores-google<0.2.0,>=0.1.3->llama-index-indices-managed-google) (2.17.1)\n",
            "Requirement already satisfied: protobuf in /Users/tanzeela/opt/anaconda3/envs/bluesky-hack/lib/python3.10/site-packages (from google-generativeai<0.4.0,>=0.3.2->llama-index-vector-stores-google<0.2.0,>=0.1.3->llama-index-indices-managed-google) (4.25.3)\n",
            "Requirement already satisfied: proto-plus<2.0.0dev,>=1.22.3 in /Users/tanzeela/opt/anaconda3/envs/bluesky-hack/lib/python3.10/site-packages (from google-ai-generativelanguage==0.4.0->google-generativeai<0.4.0,>=0.3.2->llama-index-vector-stores-google<0.2.0,>=0.1.3->llama-index-indices-managed-google) (1.23.0)\n",
            "Requirement already satisfied: pydantic>=1.10 in /Users/tanzeela/opt/anaconda3/envs/bluesky-hack/lib/python3.10/site-packages (from llamaindex-py-client<0.2.0,>=0.1.13->llama-index-core<0.11.0,>=0.10.11.post1->llama-index-indices-managed-google) (2.6.2)\n",
            "Requirement already satisfied: anyio in /Users/tanzeela/opt/anaconda3/envs/bluesky-hack/lib/python3.10/site-packages (from httpx->llama-index-core<0.11.0,>=0.10.11.post1->llama-index-indices-managed-google) (4.3.0)\n",
            "Requirement already satisfied: certifi in /Users/tanzeela/opt/anaconda3/envs/bluesky-hack/lib/python3.10/site-packages (from httpx->llama-index-core<0.11.0,>=0.10.11.post1->llama-index-indices-managed-google) (2024.2.2)\n",
            "Requirement already satisfied: httpcore==1.* in /Users/tanzeela/opt/anaconda3/envs/bluesky-hack/lib/python3.10/site-packages (from httpx->llama-index-core<0.11.0,>=0.10.11.post1->llama-index-indices-managed-google) (1.0.4)\n",
            "Requirement already satisfied: idna in /Users/tanzeela/opt/anaconda3/envs/bluesky-hack/lib/python3.10/site-packages (from httpx->llama-index-core<0.11.0,>=0.10.11.post1->llama-index-indices-managed-google) (3.6)\n",
            "Requirement already satisfied: sniffio in /Users/tanzeela/opt/anaconda3/envs/bluesky-hack/lib/python3.10/site-packages (from httpx->llama-index-core<0.11.0,>=0.10.11.post1->llama-index-indices-managed-google) (1.3.0)\n",
            "Requirement already satisfied: h11<0.15,>=0.13 in /Users/tanzeela/opt/anaconda3/envs/bluesky-hack/lib/python3.10/site-packages (from httpcore==1.*->httpx->llama-index-core<0.11.0,>=0.10.11.post1->llama-index-indices-managed-google) (0.14.0)\n",
            "Requirement already satisfied: click in /Users/tanzeela/opt/anaconda3/envs/bluesky-hack/lib/python3.10/site-packages (from nltk<4.0.0,>=3.8.1->llama-index-core<0.11.0,>=0.10.11.post1->llama-index-indices-managed-google) (8.1.7)\n",
            "Requirement already satisfied: joblib in /Users/tanzeela/opt/anaconda3/envs/bluesky-hack/lib/python3.10/site-packages (from nltk<4.0.0,>=3.8.1->llama-index-core<0.11.0,>=0.10.11.post1->llama-index-indices-managed-google) (1.3.2)\n",
            "Requirement already satisfied: regex>=2021.8.3 in /Users/tanzeela/opt/anaconda3/envs/bluesky-hack/lib/python3.10/site-packages (from nltk<4.0.0,>=3.8.1->llama-index-core<0.11.0,>=0.10.11.post1->llama-index-indices-managed-google) (2023.12.25)\n",
            "Requirement already satisfied: distro<2,>=1.7.0 in /Users/tanzeela/opt/anaconda3/envs/bluesky-hack/lib/python3.10/site-packages (from openai>=1.1.0->llama-index-core<0.11.0,>=0.10.11.post1->llama-index-indices-managed-google) (1.9.0)\n",
            "Requirement already satisfied: charset-normalizer<4,>=2 in /Users/tanzeela/opt/anaconda3/envs/bluesky-hack/lib/python3.10/site-packages (from requests>=2.31.0->llama-index-core<0.11.0,>=0.10.11.post1->llama-index-indices-managed-google) (3.3.2)\n",
            "Requirement already satisfied: urllib3<3,>=1.21.1 in /Users/tanzeela/opt/anaconda3/envs/bluesky-hack/lib/python3.10/site-packages (from requests>=2.31.0->llama-index-core<0.11.0,>=0.10.11.post1->llama-index-indices-managed-google) (2.2.1)\n",
            "Requirement already satisfied: greenlet!=0.4.17 in /Users/tanzeela/opt/anaconda3/envs/bluesky-hack/lib/python3.10/site-packages (from SQLAlchemy>=1.4.49->SQLAlchemy[asyncio]>=1.4.49->llama-index-core<0.11.0,>=0.10.11.post1->llama-index-indices-managed-google) (3.0.3)\n",
            "Requirement already satisfied: mypy-extensions>=0.3.0 in /Users/tanzeela/opt/anaconda3/envs/bluesky-hack/lib/python3.10/site-packages (from typing-inspect>=0.8.0->llama-index-core<0.11.0,>=0.10.11.post1->llama-index-indices-managed-google) (1.0.0)\n",
            "Requirement already satisfied: marshmallow<4.0.0,>=3.18.0 in /Users/tanzeela/opt/anaconda3/envs/bluesky-hack/lib/python3.10/site-packages (from dataclasses-json->llama-index-core<0.11.0,>=0.10.11.post1->llama-index-indices-managed-google) (3.20.2)\n",
            "Requirement already satisfied: python-dateutil>=2.8.2 in /Users/tanzeela/opt/anaconda3/envs/bluesky-hack/lib/python3.10/site-packages (from pandas->llama-index-core<0.11.0,>=0.10.11.post1->llama-index-indices-managed-google) (2.8.2)\n",
            "Requirement already satisfied: pytz>=2020.1 in /Users/tanzeela/opt/anaconda3/envs/bluesky-hack/lib/python3.10/site-packages (from pandas->llama-index-core<0.11.0,>=0.10.11.post1->llama-index-indices-managed-google) (2024.1)\n",
            "Requirement already satisfied: tzdata>=2022.7 in /Users/tanzeela/opt/anaconda3/envs/bluesky-hack/lib/python3.10/site-packages (from pandas->llama-index-core<0.11.0,>=0.10.11.post1->llama-index-indices-managed-google) (2024.1)\n",
            "Requirement already satisfied: exceptiongroup>=1.0.2 in /Users/tanzeela/opt/anaconda3/envs/bluesky-hack/lib/python3.10/site-packages (from anyio->httpx->llama-index-core<0.11.0,>=0.10.11.post1->llama-index-indices-managed-google) (1.2.0)\n",
            "Requirement already satisfied: googleapis-common-protos<2.0.dev0,>=1.56.2 in /Users/tanzeela/opt/anaconda3/envs/bluesky-hack/lib/python3.10/site-packages (from google-api-core->google-generativeai<0.4.0,>=0.3.2->llama-index-vector-stores-google<0.2.0,>=0.1.3->llama-index-indices-managed-google) (1.62.0)\n",
            "Requirement already satisfied: cachetools<6.0,>=2.0.0 in /Users/tanzeela/opt/anaconda3/envs/bluesky-hack/lib/python3.10/site-packages (from google-auth->google-generativeai<0.4.0,>=0.3.2->llama-index-vector-stores-google<0.2.0,>=0.1.3->llama-index-indices-managed-google) (5.3.2)\n",
            "Requirement already satisfied: pyasn1-modules>=0.2.1 in /Users/tanzeela/opt/anaconda3/envs/bluesky-hack/lib/python3.10/site-packages (from google-auth->google-generativeai<0.4.0,>=0.3.2->llama-index-vector-stores-google<0.2.0,>=0.1.3->llama-index-indices-managed-google) (0.3.0)\n",
            "Requirement already satisfied: rsa<5,>=3.1.4 in /Users/tanzeela/opt/anaconda3/envs/bluesky-hack/lib/python3.10/site-packages (from google-auth->google-generativeai<0.4.0,>=0.3.2->llama-index-vector-stores-google<0.2.0,>=0.1.3->llama-index-indices-managed-google) (4.9)\n",
            "Requirement already satisfied: packaging>=17.0 in /Users/tanzeela/opt/anaconda3/envs/bluesky-hack/lib/python3.10/site-packages (from marshmallow<4.0.0,>=3.18.0->dataclasses-json->llama-index-core<0.11.0,>=0.10.11.post1->llama-index-indices-managed-google) (23.2)\n",
            "Requirement already satisfied: annotated-types>=0.4.0 in /Users/tanzeela/opt/anaconda3/envs/bluesky-hack/lib/python3.10/site-packages (from pydantic>=1.10->llamaindex-py-client<0.2.0,>=0.1.13->llama-index-core<0.11.0,>=0.10.11.post1->llama-index-indices-managed-google) (0.6.0)\n",
            "Requirement already satisfied: pydantic-core==2.16.3 in /Users/tanzeela/opt/anaconda3/envs/bluesky-hack/lib/python3.10/site-packages (from pydantic>=1.10->llamaindex-py-client<0.2.0,>=0.1.13->llama-index-core<0.11.0,>=0.10.11.post1->llama-index-indices-managed-google) (2.16.3)\n",
            "Requirement already satisfied: six>=1.5 in /Users/tanzeela/opt/anaconda3/envs/bluesky-hack/lib/python3.10/site-packages (from python-dateutil>=2.8.2->pandas->llama-index-core<0.11.0,>=0.10.11.post1->llama-index-indices-managed-google) (1.16.0)\n",
            "Requirement already satisfied: grpcio<2.0dev,>=1.33.2 in /Users/tanzeela/opt/anaconda3/envs/bluesky-hack/lib/python3.10/site-packages (from google-api-core[grpc]!=2.0.*,!=2.1.*,!=2.10.*,!=2.2.*,!=2.3.*,!=2.4.*,!=2.5.*,!=2.6.*,!=2.7.*,!=2.8.*,!=2.9.*,<3.0.0dev,>=1.34.0->google-ai-generativelanguage==0.4.0->google-generativeai<0.4.0,>=0.3.2->llama-index-vector-stores-google<0.2.0,>=0.1.3->llama-index-indices-managed-google) (1.62.0)\n",
            "Requirement already satisfied: grpcio-status<2.0.dev0,>=1.33.2 in /Users/tanzeela/opt/anaconda3/envs/bluesky-hack/lib/python3.10/site-packages (from google-api-core[grpc]!=2.0.*,!=2.1.*,!=2.10.*,!=2.2.*,!=2.3.*,!=2.4.*,!=2.5.*,!=2.6.*,!=2.7.*,!=2.8.*,!=2.9.*,<3.0.0dev,>=1.34.0->google-ai-generativelanguage==0.4.0->google-generativeai<0.4.0,>=0.3.2->llama-index-vector-stores-google<0.2.0,>=0.1.3->llama-index-indices-managed-google) (1.62.0)\n",
            "Requirement already satisfied: pyasn1<0.6.0,>=0.4.6 in /Users/tanzeela/opt/anaconda3/envs/bluesky-hack/lib/python3.10/site-packages (from pyasn1-modules>=0.2.1->google-auth->google-generativeai<0.4.0,>=0.3.2->llama-index-vector-stores-google<0.2.0,>=0.1.3->llama-index-indices-managed-google) (0.5.1)\n",
            "Note: you may need to restart the kernel to use updated packages.\n"
          ]
        },
        {
          "name": "stderr",
          "output_type": "stream",
          "text": [
            "huggingface/tokenizers: The current process just got forked, after parallelism has already been used. Disabling parallelism to avoid deadlocks...\n",
            "To disable this warning, you can either:\n",
            "\t- Avoid using `tokenizers` before the fork if possible\n",
            "\t- Explicitly set the environment variable TOKENIZERS_PARALLELISM=(true | false)\n"
          ]
        },
        {
          "name": "stdout",
          "output_type": "stream",
          "text": [
            "Requirement already satisfied: llama-index-response-synthesizers-google in /Users/tanzeela/opt/anaconda3/envs/bluesky-hack/lib/python3.10/site-packages (0.1.3)\n",
            "Requirement already satisfied: llama-index-core<0.11.0,>=0.10.11.post1 in /Users/tanzeela/opt/anaconda3/envs/bluesky-hack/lib/python3.10/site-packages (from llama-index-response-synthesizers-google) (0.10.12)\n",
            "Requirement already satisfied: llama-index-vector-stores-google<0.2.0,>=0.1.3 in /Users/tanzeela/opt/anaconda3/envs/bluesky-hack/lib/python3.10/site-packages (from llama-index-response-synthesizers-google) (0.1.4)\n",
            "Requirement already satisfied: PyYAML>=6.0.1 in /Users/tanzeela/opt/anaconda3/envs/bluesky-hack/lib/python3.10/site-packages (from llama-index-core<0.11.0,>=0.10.11.post1->llama-index-response-synthesizers-google) (6.0.1)\n",
            "Requirement already satisfied: SQLAlchemy>=1.4.49 in /Users/tanzeela/opt/anaconda3/envs/bluesky-hack/lib/python3.10/site-packages (from SQLAlchemy[asyncio]>=1.4.49->llama-index-core<0.11.0,>=0.10.11.post1->llama-index-response-synthesizers-google) (2.0.27)\n",
            "Requirement already satisfied: aiohttp<4.0.0,>=3.8.6 in /Users/tanzeela/opt/anaconda3/envs/bluesky-hack/lib/python3.10/site-packages (from llama-index-core<0.11.0,>=0.10.11.post1->llama-index-response-synthesizers-google) (3.9.3)\n",
            "Requirement already satisfied: dataclasses-json in /Users/tanzeela/opt/anaconda3/envs/bluesky-hack/lib/python3.10/site-packages (from llama-index-core<0.11.0,>=0.10.11.post1->llama-index-response-synthesizers-google) (0.6.4)\n",
            "Requirement already satisfied: deprecated>=1.2.9.3 in /Users/tanzeela/opt/anaconda3/envs/bluesky-hack/lib/python3.10/site-packages (from llama-index-core<0.11.0,>=0.10.11.post1->llama-index-response-synthesizers-google) (1.2.14)\n",
            "Requirement already satisfied: dirtyjson<2.0.0,>=1.0.8 in /Users/tanzeela/opt/anaconda3/envs/bluesky-hack/lib/python3.10/site-packages (from llama-index-core<0.11.0,>=0.10.11.post1->llama-index-response-synthesizers-google) (1.0.8)\n",
            "Requirement already satisfied: fsspec>=2023.5.0 in /Users/tanzeela/opt/anaconda3/envs/bluesky-hack/lib/python3.10/site-packages (from llama-index-core<0.11.0,>=0.10.11.post1->llama-index-response-synthesizers-google) (2024.2.0)\n",
            "Requirement already satisfied: httpx in /Users/tanzeela/opt/anaconda3/envs/bluesky-hack/lib/python3.10/site-packages (from llama-index-core<0.11.0,>=0.10.11.post1->llama-index-response-synthesizers-google) (0.25.2)\n",
            "Requirement already satisfied: llamaindex-py-client<0.2.0,>=0.1.13 in /Users/tanzeela/opt/anaconda3/envs/bluesky-hack/lib/python3.10/site-packages (from llama-index-core<0.11.0,>=0.10.11.post1->llama-index-response-synthesizers-google) (0.1.13)\n",
            "Requirement already satisfied: nest-asyncio<2.0.0,>=1.5.8 in /Users/tanzeela/opt/anaconda3/envs/bluesky-hack/lib/python3.10/site-packages (from llama-index-core<0.11.0,>=0.10.11.post1->llama-index-response-synthesizers-google) (1.6.0)\n",
            "Requirement already satisfied: networkx>=3.0 in /Users/tanzeela/opt/anaconda3/envs/bluesky-hack/lib/python3.10/site-packages (from llama-index-core<0.11.0,>=0.10.11.post1->llama-index-response-synthesizers-google) (3.2.1)\n",
            "Requirement already satisfied: nltk<4.0.0,>=3.8.1 in /Users/tanzeela/opt/anaconda3/envs/bluesky-hack/lib/python3.10/site-packages (from llama-index-core<0.11.0,>=0.10.11.post1->llama-index-response-synthesizers-google) (3.8.1)\n",
            "Requirement already satisfied: numpy in /Users/tanzeela/opt/anaconda3/envs/bluesky-hack/lib/python3.10/site-packages (from llama-index-core<0.11.0,>=0.10.11.post1->llama-index-response-synthesizers-google) (1.26.4)\n",
            "Requirement already satisfied: openai>=1.1.0 in /Users/tanzeela/opt/anaconda3/envs/bluesky-hack/lib/python3.10/site-packages (from llama-index-core<0.11.0,>=0.10.11.post1->llama-index-response-synthesizers-google) (1.12.0)\n",
            "Requirement already satisfied: pandas in /Users/tanzeela/opt/anaconda3/envs/bluesky-hack/lib/python3.10/site-packages (from llama-index-core<0.11.0,>=0.10.11.post1->llama-index-response-synthesizers-google) (2.2.1)\n",
            "Requirement already satisfied: pillow>=9.0.0 in /Users/tanzeela/opt/anaconda3/envs/bluesky-hack/lib/python3.10/site-packages (from llama-index-core<0.11.0,>=0.10.11.post1->llama-index-response-synthesizers-google) (10.2.0)\n",
            "Requirement already satisfied: requests>=2.31.0 in /Users/tanzeela/opt/anaconda3/envs/bluesky-hack/lib/python3.10/site-packages (from llama-index-core<0.11.0,>=0.10.11.post1->llama-index-response-synthesizers-google) (2.31.0)\n",
            "Requirement already satisfied: tenacity<9.0.0,>=8.2.0 in /Users/tanzeela/opt/anaconda3/envs/bluesky-hack/lib/python3.10/site-packages (from llama-index-core<0.11.0,>=0.10.11.post1->llama-index-response-synthesizers-google) (8.2.3)\n",
            "Requirement already satisfied: tiktoken>=0.3.3 in /Users/tanzeela/opt/anaconda3/envs/bluesky-hack/lib/python3.10/site-packages (from llama-index-core<0.11.0,>=0.10.11.post1->llama-index-response-synthesizers-google) (0.6.0)\n",
            "Requirement already satisfied: tqdm<5.0.0,>=4.66.1 in /Users/tanzeela/opt/anaconda3/envs/bluesky-hack/lib/python3.10/site-packages (from llama-index-core<0.11.0,>=0.10.11.post1->llama-index-response-synthesizers-google) (4.66.2)\n",
            "Requirement already satisfied: typing-extensions>=4.5.0 in /Users/tanzeela/opt/anaconda3/envs/bluesky-hack/lib/python3.10/site-packages (from llama-index-core<0.11.0,>=0.10.11.post1->llama-index-response-synthesizers-google) (4.9.0)\n",
            "Requirement already satisfied: typing-inspect>=0.8.0 in /Users/tanzeela/opt/anaconda3/envs/bluesky-hack/lib/python3.10/site-packages (from llama-index-core<0.11.0,>=0.10.11.post1->llama-index-response-synthesizers-google) (0.9.0)\n",
            "Requirement already satisfied: google-generativeai<0.4.0,>=0.3.2 in /Users/tanzeela/opt/anaconda3/envs/bluesky-hack/lib/python3.10/site-packages (from llama-index-vector-stores-google<0.2.0,>=0.1.3->llama-index-response-synthesizers-google) (0.3.2)\n",
            "Requirement already satisfied: aiosignal>=1.1.2 in /Users/tanzeela/opt/anaconda3/envs/bluesky-hack/lib/python3.10/site-packages (from aiohttp<4.0.0,>=3.8.6->llama-index-core<0.11.0,>=0.10.11.post1->llama-index-response-synthesizers-google) (1.3.1)\n",
            "Requirement already satisfied: attrs>=17.3.0 in /Users/tanzeela/opt/anaconda3/envs/bluesky-hack/lib/python3.10/site-packages (from aiohttp<4.0.0,>=3.8.6->llama-index-core<0.11.0,>=0.10.11.post1->llama-index-response-synthesizers-google) (23.2.0)\n",
            "Requirement already satisfied: frozenlist>=1.1.1 in /Users/tanzeela/opt/anaconda3/envs/bluesky-hack/lib/python3.10/site-packages (from aiohttp<4.0.0,>=3.8.6->llama-index-core<0.11.0,>=0.10.11.post1->llama-index-response-synthesizers-google) (1.4.1)\n",
            "Requirement already satisfied: multidict<7.0,>=4.5 in /Users/tanzeela/opt/anaconda3/envs/bluesky-hack/lib/python3.10/site-packages (from aiohttp<4.0.0,>=3.8.6->llama-index-core<0.11.0,>=0.10.11.post1->llama-index-response-synthesizers-google) (6.0.5)\n",
            "Requirement already satisfied: yarl<2.0,>=1.0 in /Users/tanzeela/opt/anaconda3/envs/bluesky-hack/lib/python3.10/site-packages (from aiohttp<4.0.0,>=3.8.6->llama-index-core<0.11.0,>=0.10.11.post1->llama-index-response-synthesizers-google) (1.9.4)\n",
            "Requirement already satisfied: async-timeout<5.0,>=4.0 in /Users/tanzeela/opt/anaconda3/envs/bluesky-hack/lib/python3.10/site-packages (from aiohttp<4.0.0,>=3.8.6->llama-index-core<0.11.0,>=0.10.11.post1->llama-index-response-synthesizers-google) (4.0.3)\n",
            "Requirement already satisfied: wrapt<2,>=1.10 in /Users/tanzeela/opt/anaconda3/envs/bluesky-hack/lib/python3.10/site-packages (from deprecated>=1.2.9.3->llama-index-core<0.11.0,>=0.10.11.post1->llama-index-response-synthesizers-google) (1.16.0)\n",
            "Requirement already satisfied: google-ai-generativelanguage==0.4.0 in /Users/tanzeela/opt/anaconda3/envs/bluesky-hack/lib/python3.10/site-packages (from google-generativeai<0.4.0,>=0.3.2->llama-index-vector-stores-google<0.2.0,>=0.1.3->llama-index-response-synthesizers-google) (0.4.0)\n",
            "Requirement already satisfied: google-auth in /Users/tanzeela/opt/anaconda3/envs/bluesky-hack/lib/python3.10/site-packages (from google-generativeai<0.4.0,>=0.3.2->llama-index-vector-stores-google<0.2.0,>=0.1.3->llama-index-response-synthesizers-google) (2.28.1)\n",
            "Requirement already satisfied: google-api-core in /Users/tanzeela/opt/anaconda3/envs/bluesky-hack/lib/python3.10/site-packages (from google-generativeai<0.4.0,>=0.3.2->llama-index-vector-stores-google<0.2.0,>=0.1.3->llama-index-response-synthesizers-google) (2.17.1)\n",
            "Requirement already satisfied: protobuf in /Users/tanzeela/opt/anaconda3/envs/bluesky-hack/lib/python3.10/site-packages (from google-generativeai<0.4.0,>=0.3.2->llama-index-vector-stores-google<0.2.0,>=0.1.3->llama-index-response-synthesizers-google) (4.25.3)\n",
            "Requirement already satisfied: proto-plus<2.0.0dev,>=1.22.3 in /Users/tanzeela/opt/anaconda3/envs/bluesky-hack/lib/python3.10/site-packages (from google-ai-generativelanguage==0.4.0->google-generativeai<0.4.0,>=0.3.2->llama-index-vector-stores-google<0.2.0,>=0.1.3->llama-index-response-synthesizers-google) (1.23.0)\n",
            "Requirement already satisfied: pydantic>=1.10 in /Users/tanzeela/opt/anaconda3/envs/bluesky-hack/lib/python3.10/site-packages (from llamaindex-py-client<0.2.0,>=0.1.13->llama-index-core<0.11.0,>=0.10.11.post1->llama-index-response-synthesizers-google) (2.6.2)\n",
            "Requirement already satisfied: anyio in /Users/tanzeela/opt/anaconda3/envs/bluesky-hack/lib/python3.10/site-packages (from httpx->llama-index-core<0.11.0,>=0.10.11.post1->llama-index-response-synthesizers-google) (4.3.0)\n",
            "Requirement already satisfied: certifi in /Users/tanzeela/opt/anaconda3/envs/bluesky-hack/lib/python3.10/site-packages (from httpx->llama-index-core<0.11.0,>=0.10.11.post1->llama-index-response-synthesizers-google) (2024.2.2)\n",
            "Requirement already satisfied: httpcore==1.* in /Users/tanzeela/opt/anaconda3/envs/bluesky-hack/lib/python3.10/site-packages (from httpx->llama-index-core<0.11.0,>=0.10.11.post1->llama-index-response-synthesizers-google) (1.0.4)\n",
            "Requirement already satisfied: idna in /Users/tanzeela/opt/anaconda3/envs/bluesky-hack/lib/python3.10/site-packages (from httpx->llama-index-core<0.11.0,>=0.10.11.post1->llama-index-response-synthesizers-google) (3.6)\n",
            "Requirement already satisfied: sniffio in /Users/tanzeela/opt/anaconda3/envs/bluesky-hack/lib/python3.10/site-packages (from httpx->llama-index-core<0.11.0,>=0.10.11.post1->llama-index-response-synthesizers-google) (1.3.0)\n",
            "Requirement already satisfied: h11<0.15,>=0.13 in /Users/tanzeela/opt/anaconda3/envs/bluesky-hack/lib/python3.10/site-packages (from httpcore==1.*->httpx->llama-index-core<0.11.0,>=0.10.11.post1->llama-index-response-synthesizers-google) (0.14.0)\n",
            "Requirement already satisfied: click in /Users/tanzeela/opt/anaconda3/envs/bluesky-hack/lib/python3.10/site-packages (from nltk<4.0.0,>=3.8.1->llama-index-core<0.11.0,>=0.10.11.post1->llama-index-response-synthesizers-google) (8.1.7)\n",
            "Requirement already satisfied: joblib in /Users/tanzeela/opt/anaconda3/envs/bluesky-hack/lib/python3.10/site-packages (from nltk<4.0.0,>=3.8.1->llama-index-core<0.11.0,>=0.10.11.post1->llama-index-response-synthesizers-google) (1.3.2)\n",
            "Requirement already satisfied: regex>=2021.8.3 in /Users/tanzeela/opt/anaconda3/envs/bluesky-hack/lib/python3.10/site-packages (from nltk<4.0.0,>=3.8.1->llama-index-core<0.11.0,>=0.10.11.post1->llama-index-response-synthesizers-google) (2023.12.25)\n",
            "Requirement already satisfied: distro<2,>=1.7.0 in /Users/tanzeela/opt/anaconda3/envs/bluesky-hack/lib/python3.10/site-packages (from openai>=1.1.0->llama-index-core<0.11.0,>=0.10.11.post1->llama-index-response-synthesizers-google) (1.9.0)\n",
            "Requirement already satisfied: charset-normalizer<4,>=2 in /Users/tanzeela/opt/anaconda3/envs/bluesky-hack/lib/python3.10/site-packages (from requests>=2.31.0->llama-index-core<0.11.0,>=0.10.11.post1->llama-index-response-synthesizers-google) (3.3.2)\n",
            "Requirement already satisfied: urllib3<3,>=1.21.1 in /Users/tanzeela/opt/anaconda3/envs/bluesky-hack/lib/python3.10/site-packages (from requests>=2.31.0->llama-index-core<0.11.0,>=0.10.11.post1->llama-index-response-synthesizers-google) (2.2.1)\n",
            "Requirement already satisfied: greenlet!=0.4.17 in /Users/tanzeela/opt/anaconda3/envs/bluesky-hack/lib/python3.10/site-packages (from SQLAlchemy>=1.4.49->SQLAlchemy[asyncio]>=1.4.49->llama-index-core<0.11.0,>=0.10.11.post1->llama-index-response-synthesizers-google) (3.0.3)\n",
            "Requirement already satisfied: mypy-extensions>=0.3.0 in /Users/tanzeela/opt/anaconda3/envs/bluesky-hack/lib/python3.10/site-packages (from typing-inspect>=0.8.0->llama-index-core<0.11.0,>=0.10.11.post1->llama-index-response-synthesizers-google) (1.0.0)\n",
            "Requirement already satisfied: marshmallow<4.0.0,>=3.18.0 in /Users/tanzeela/opt/anaconda3/envs/bluesky-hack/lib/python3.10/site-packages (from dataclasses-json->llama-index-core<0.11.0,>=0.10.11.post1->llama-index-response-synthesizers-google) (3.20.2)\n",
            "Requirement already satisfied: python-dateutil>=2.8.2 in /Users/tanzeela/opt/anaconda3/envs/bluesky-hack/lib/python3.10/site-packages (from pandas->llama-index-core<0.11.0,>=0.10.11.post1->llama-index-response-synthesizers-google) (2.8.2)\n",
            "Requirement already satisfied: pytz>=2020.1 in /Users/tanzeela/opt/anaconda3/envs/bluesky-hack/lib/python3.10/site-packages (from pandas->llama-index-core<0.11.0,>=0.10.11.post1->llama-index-response-synthesizers-google) (2024.1)\n",
            "Requirement already satisfied: tzdata>=2022.7 in /Users/tanzeela/opt/anaconda3/envs/bluesky-hack/lib/python3.10/site-packages (from pandas->llama-index-core<0.11.0,>=0.10.11.post1->llama-index-response-synthesizers-google) (2024.1)\n",
            "Requirement already satisfied: exceptiongroup>=1.0.2 in /Users/tanzeela/opt/anaconda3/envs/bluesky-hack/lib/python3.10/site-packages (from anyio->httpx->llama-index-core<0.11.0,>=0.10.11.post1->llama-index-response-synthesizers-google) (1.2.0)\n",
            "Requirement already satisfied: googleapis-common-protos<2.0.dev0,>=1.56.2 in /Users/tanzeela/opt/anaconda3/envs/bluesky-hack/lib/python3.10/site-packages (from google-api-core->google-generativeai<0.4.0,>=0.3.2->llama-index-vector-stores-google<0.2.0,>=0.1.3->llama-index-response-synthesizers-google) (1.62.0)\n",
            "Requirement already satisfied: cachetools<6.0,>=2.0.0 in /Users/tanzeela/opt/anaconda3/envs/bluesky-hack/lib/python3.10/site-packages (from google-auth->google-generativeai<0.4.0,>=0.3.2->llama-index-vector-stores-google<0.2.0,>=0.1.3->llama-index-response-synthesizers-google) (5.3.2)\n",
            "Requirement already satisfied: pyasn1-modules>=0.2.1 in /Users/tanzeela/opt/anaconda3/envs/bluesky-hack/lib/python3.10/site-packages (from google-auth->google-generativeai<0.4.0,>=0.3.2->llama-index-vector-stores-google<0.2.0,>=0.1.3->llama-index-response-synthesizers-google) (0.3.0)\n",
            "Requirement already satisfied: rsa<5,>=3.1.4 in /Users/tanzeela/opt/anaconda3/envs/bluesky-hack/lib/python3.10/site-packages (from google-auth->google-generativeai<0.4.0,>=0.3.2->llama-index-vector-stores-google<0.2.0,>=0.1.3->llama-index-response-synthesizers-google) (4.9)\n",
            "Requirement already satisfied: packaging>=17.0 in /Users/tanzeela/opt/anaconda3/envs/bluesky-hack/lib/python3.10/site-packages (from marshmallow<4.0.0,>=3.18.0->dataclasses-json->llama-index-core<0.11.0,>=0.10.11.post1->llama-index-response-synthesizers-google) (23.2)\n",
            "Requirement already satisfied: annotated-types>=0.4.0 in /Users/tanzeela/opt/anaconda3/envs/bluesky-hack/lib/python3.10/site-packages (from pydantic>=1.10->llamaindex-py-client<0.2.0,>=0.1.13->llama-index-core<0.11.0,>=0.10.11.post1->llama-index-response-synthesizers-google) (0.6.0)\n",
            "Requirement already satisfied: pydantic-core==2.16.3 in /Users/tanzeela/opt/anaconda3/envs/bluesky-hack/lib/python3.10/site-packages (from pydantic>=1.10->llamaindex-py-client<0.2.0,>=0.1.13->llama-index-core<0.11.0,>=0.10.11.post1->llama-index-response-synthesizers-google) (2.16.3)\n",
            "Requirement already satisfied: six>=1.5 in /Users/tanzeela/opt/anaconda3/envs/bluesky-hack/lib/python3.10/site-packages (from python-dateutil>=2.8.2->pandas->llama-index-core<0.11.0,>=0.10.11.post1->llama-index-response-synthesizers-google) (1.16.0)\n",
            "Requirement already satisfied: grpcio<2.0dev,>=1.33.2 in /Users/tanzeela/opt/anaconda3/envs/bluesky-hack/lib/python3.10/site-packages (from google-api-core[grpc]!=2.0.*,!=2.1.*,!=2.10.*,!=2.2.*,!=2.3.*,!=2.4.*,!=2.5.*,!=2.6.*,!=2.7.*,!=2.8.*,!=2.9.*,<3.0.0dev,>=1.34.0->google-ai-generativelanguage==0.4.0->google-generativeai<0.4.0,>=0.3.2->llama-index-vector-stores-google<0.2.0,>=0.1.3->llama-index-response-synthesizers-google) (1.62.0)\n",
            "Requirement already satisfied: grpcio-status<2.0.dev0,>=1.33.2 in /Users/tanzeela/opt/anaconda3/envs/bluesky-hack/lib/python3.10/site-packages (from google-api-core[grpc]!=2.0.*,!=2.1.*,!=2.10.*,!=2.2.*,!=2.3.*,!=2.4.*,!=2.5.*,!=2.6.*,!=2.7.*,!=2.8.*,!=2.9.*,<3.0.0dev,>=1.34.0->google-ai-generativelanguage==0.4.0->google-generativeai<0.4.0,>=0.3.2->llama-index-vector-stores-google<0.2.0,>=0.1.3->llama-index-response-synthesizers-google) (1.62.0)\n",
            "Requirement already satisfied: pyasn1<0.6.0,>=0.4.6 in /Users/tanzeela/opt/anaconda3/envs/bluesky-hack/lib/python3.10/site-packages (from pyasn1-modules>=0.2.1->google-auth->google-generativeai<0.4.0,>=0.3.2->llama-index-vector-stores-google<0.2.0,>=0.1.3->llama-index-response-synthesizers-google) (0.5.1)\n",
            "Note: you may need to restart the kernel to use updated packages.\n"
          ]
        }
      ],
      "source": [
        "# embedding attempt\n",
        "%pip install llama-index-llms-gemini\n",
        "%pip install llama-index-vector-stores-google\n",
        "%pip install llama-index-indices-managed-google\n",
        "%pip install llama-index-response-synthesizers-google"
      ]
    },
    {
      "cell_type": "code",
      "execution_count": 22,
      "metadata": {},
      "outputs": [
        {
          "name": "stderr",
          "output_type": "stream",
          "text": [
            "huggingface/tokenizers: The current process just got forked, after parallelism has already been used. Disabling parallelism to avoid deadlocks...\n",
            "To disable this warning, you can either:\n",
            "\t- Avoid using `tokenizers` before the fork if possible\n",
            "\t- Explicitly set the environment variable TOKENIZERS_PARALLELISM=(true | false)\n"
          ]
        },
        {
          "name": "stdout",
          "output_type": "stream",
          "text": [
            "Collecting llama-index==0.9.48\n",
            "  Downloading llama_index-0.9.48-py3-none-any.whl.metadata (8.4 kB)\n",
            "Requirement already satisfied: SQLAlchemy>=1.4.49 in /Users/tanzeela/opt/anaconda3/envs/bluesky-hack/lib/python3.10/site-packages (from SQLAlchemy[asyncio]>=1.4.49->llama-index==0.9.48) (2.0.27)\n",
            "Requirement already satisfied: aiohttp<4.0.0,>=3.8.6 in /Users/tanzeela/opt/anaconda3/envs/bluesky-hack/lib/python3.10/site-packages (from llama-index==0.9.48) (3.9.3)\n",
            "Requirement already satisfied: dataclasses-json in /Users/tanzeela/opt/anaconda3/envs/bluesky-hack/lib/python3.10/site-packages (from llama-index==0.9.48) (0.6.4)\n",
            "Requirement already satisfied: deprecated>=1.2.9.3 in /Users/tanzeela/opt/anaconda3/envs/bluesky-hack/lib/python3.10/site-packages (from llama-index==0.9.48) (1.2.14)\n",
            "Requirement already satisfied: dirtyjson<2.0.0,>=1.0.8 in /Users/tanzeela/opt/anaconda3/envs/bluesky-hack/lib/python3.10/site-packages (from llama-index==0.9.48) (1.0.8)\n",
            "Requirement already satisfied: fsspec>=2023.5.0 in /Users/tanzeela/opt/anaconda3/envs/bluesky-hack/lib/python3.10/site-packages (from llama-index==0.9.48) (2024.2.0)\n",
            "Requirement already satisfied: httpx in /Users/tanzeela/opt/anaconda3/envs/bluesky-hack/lib/python3.10/site-packages (from llama-index==0.9.48) (0.25.2)\n",
            "Requirement already satisfied: nest-asyncio<2.0.0,>=1.5.8 in /Users/tanzeela/opt/anaconda3/envs/bluesky-hack/lib/python3.10/site-packages (from llama-index==0.9.48) (1.6.0)\n",
            "Requirement already satisfied: networkx>=3.0 in /Users/tanzeela/opt/anaconda3/envs/bluesky-hack/lib/python3.10/site-packages (from llama-index==0.9.48) (3.2.1)\n",
            "Requirement already satisfied: nltk<4.0.0,>=3.8.1 in /Users/tanzeela/opt/anaconda3/envs/bluesky-hack/lib/python3.10/site-packages (from llama-index==0.9.48) (3.8.1)\n",
            "Requirement already satisfied: numpy in /Users/tanzeela/opt/anaconda3/envs/bluesky-hack/lib/python3.10/site-packages (from llama-index==0.9.48) (1.26.4)\n",
            "Requirement already satisfied: openai>=1.1.0 in /Users/tanzeela/opt/anaconda3/envs/bluesky-hack/lib/python3.10/site-packages (from llama-index==0.9.48) (1.12.0)\n",
            "Requirement already satisfied: pandas in /Users/tanzeela/opt/anaconda3/envs/bluesky-hack/lib/python3.10/site-packages (from llama-index==0.9.48) (2.2.1)\n",
            "Requirement already satisfied: requests>=2.31.0 in /Users/tanzeela/opt/anaconda3/envs/bluesky-hack/lib/python3.10/site-packages (from llama-index==0.9.48) (2.31.0)\n",
            "Requirement already satisfied: tenacity<9.0.0,>=8.2.0 in /Users/tanzeela/opt/anaconda3/envs/bluesky-hack/lib/python3.10/site-packages (from llama-index==0.9.48) (8.2.3)\n",
            "Requirement already satisfied: tiktoken>=0.3.3 in /Users/tanzeela/opt/anaconda3/envs/bluesky-hack/lib/python3.10/site-packages (from llama-index==0.9.48) (0.6.0)\n",
            "Requirement already satisfied: typing-extensions>=4.5.0 in /Users/tanzeela/opt/anaconda3/envs/bluesky-hack/lib/python3.10/site-packages (from llama-index==0.9.48) (4.9.0)\n",
            "Requirement already satisfied: typing-inspect>=0.8.0 in /Users/tanzeela/opt/anaconda3/envs/bluesky-hack/lib/python3.10/site-packages (from llama-index==0.9.48) (0.9.0)\n",
            "Requirement already satisfied: aiosignal>=1.1.2 in /Users/tanzeela/opt/anaconda3/envs/bluesky-hack/lib/python3.10/site-packages (from aiohttp<4.0.0,>=3.8.6->llama-index==0.9.48) (1.3.1)\n",
            "Requirement already satisfied: attrs>=17.3.0 in /Users/tanzeela/opt/anaconda3/envs/bluesky-hack/lib/python3.10/site-packages (from aiohttp<4.0.0,>=3.8.6->llama-index==0.9.48) (23.2.0)\n",
            "Requirement already satisfied: frozenlist>=1.1.1 in /Users/tanzeela/opt/anaconda3/envs/bluesky-hack/lib/python3.10/site-packages (from aiohttp<4.0.0,>=3.8.6->llama-index==0.9.48) (1.4.1)\n",
            "Requirement already satisfied: multidict<7.0,>=4.5 in /Users/tanzeela/opt/anaconda3/envs/bluesky-hack/lib/python3.10/site-packages (from aiohttp<4.0.0,>=3.8.6->llama-index==0.9.48) (6.0.5)\n",
            "Requirement already satisfied: yarl<2.0,>=1.0 in /Users/tanzeela/opt/anaconda3/envs/bluesky-hack/lib/python3.10/site-packages (from aiohttp<4.0.0,>=3.8.6->llama-index==0.9.48) (1.9.4)\n",
            "Requirement already satisfied: async-timeout<5.0,>=4.0 in /Users/tanzeela/opt/anaconda3/envs/bluesky-hack/lib/python3.10/site-packages (from aiohttp<4.0.0,>=3.8.6->llama-index==0.9.48) (4.0.3)\n",
            "Requirement already satisfied: wrapt<2,>=1.10 in /Users/tanzeela/opt/anaconda3/envs/bluesky-hack/lib/python3.10/site-packages (from deprecated>=1.2.9.3->llama-index==0.9.48) (1.16.0)\n",
            "Requirement already satisfied: click in /Users/tanzeela/opt/anaconda3/envs/bluesky-hack/lib/python3.10/site-packages (from nltk<4.0.0,>=3.8.1->llama-index==0.9.48) (8.1.7)\n",
            "Requirement already satisfied: joblib in /Users/tanzeela/opt/anaconda3/envs/bluesky-hack/lib/python3.10/site-packages (from nltk<4.0.0,>=3.8.1->llama-index==0.9.48) (1.3.2)\n",
            "Requirement already satisfied: regex>=2021.8.3 in /Users/tanzeela/opt/anaconda3/envs/bluesky-hack/lib/python3.10/site-packages (from nltk<4.0.0,>=3.8.1->llama-index==0.9.48) (2023.12.25)\n",
            "Requirement already satisfied: tqdm in /Users/tanzeela/opt/anaconda3/envs/bluesky-hack/lib/python3.10/site-packages (from nltk<4.0.0,>=3.8.1->llama-index==0.9.48) (4.66.2)\n",
            "Requirement already satisfied: anyio<5,>=3.5.0 in /Users/tanzeela/opt/anaconda3/envs/bluesky-hack/lib/python3.10/site-packages (from openai>=1.1.0->llama-index==0.9.48) (4.3.0)\n",
            "Requirement already satisfied: distro<2,>=1.7.0 in /Users/tanzeela/opt/anaconda3/envs/bluesky-hack/lib/python3.10/site-packages (from openai>=1.1.0->llama-index==0.9.48) (1.9.0)\n",
            "Requirement already satisfied: pydantic<3,>=1.9.0 in /Users/tanzeela/opt/anaconda3/envs/bluesky-hack/lib/python3.10/site-packages (from openai>=1.1.0->llama-index==0.9.48) (2.6.2)\n",
            "Requirement already satisfied: sniffio in /Users/tanzeela/opt/anaconda3/envs/bluesky-hack/lib/python3.10/site-packages (from openai>=1.1.0->llama-index==0.9.48) (1.3.0)\n",
            "Requirement already satisfied: certifi in /Users/tanzeela/opt/anaconda3/envs/bluesky-hack/lib/python3.10/site-packages (from httpx->llama-index==0.9.48) (2024.2.2)\n",
            "Requirement already satisfied: httpcore==1.* in /Users/tanzeela/opt/anaconda3/envs/bluesky-hack/lib/python3.10/site-packages (from httpx->llama-index==0.9.48) (1.0.4)\n",
            "Requirement already satisfied: idna in /Users/tanzeela/opt/anaconda3/envs/bluesky-hack/lib/python3.10/site-packages (from httpx->llama-index==0.9.48) (3.6)\n",
            "Requirement already satisfied: h11<0.15,>=0.13 in /Users/tanzeela/opt/anaconda3/envs/bluesky-hack/lib/python3.10/site-packages (from httpcore==1.*->httpx->llama-index==0.9.48) (0.14.0)\n",
            "Requirement already satisfied: charset-normalizer<4,>=2 in /Users/tanzeela/opt/anaconda3/envs/bluesky-hack/lib/python3.10/site-packages (from requests>=2.31.0->llama-index==0.9.48) (3.3.2)\n",
            "Requirement already satisfied: urllib3<3,>=1.21.1 in /Users/tanzeela/opt/anaconda3/envs/bluesky-hack/lib/python3.10/site-packages (from requests>=2.31.0->llama-index==0.9.48) (2.2.1)\n",
            "Requirement already satisfied: greenlet!=0.4.17 in /Users/tanzeela/opt/anaconda3/envs/bluesky-hack/lib/python3.10/site-packages (from SQLAlchemy>=1.4.49->SQLAlchemy[asyncio]>=1.4.49->llama-index==0.9.48) (3.0.3)\n",
            "Requirement already satisfied: mypy-extensions>=0.3.0 in /Users/tanzeela/opt/anaconda3/envs/bluesky-hack/lib/python3.10/site-packages (from typing-inspect>=0.8.0->llama-index==0.9.48) (1.0.0)\n",
            "Requirement already satisfied: marshmallow<4.0.0,>=3.18.0 in /Users/tanzeela/opt/anaconda3/envs/bluesky-hack/lib/python3.10/site-packages (from dataclasses-json->llama-index==0.9.48) (3.20.2)\n",
            "Requirement already satisfied: python-dateutil>=2.8.2 in /Users/tanzeela/opt/anaconda3/envs/bluesky-hack/lib/python3.10/site-packages (from pandas->llama-index==0.9.48) (2.8.2)\n",
            "Requirement already satisfied: pytz>=2020.1 in /Users/tanzeela/opt/anaconda3/envs/bluesky-hack/lib/python3.10/site-packages (from pandas->llama-index==0.9.48) (2024.1)\n",
            "Requirement already satisfied: tzdata>=2022.7 in /Users/tanzeela/opt/anaconda3/envs/bluesky-hack/lib/python3.10/site-packages (from pandas->llama-index==0.9.48) (2024.1)\n",
            "Requirement already satisfied: exceptiongroup>=1.0.2 in /Users/tanzeela/opt/anaconda3/envs/bluesky-hack/lib/python3.10/site-packages (from anyio<5,>=3.5.0->openai>=1.1.0->llama-index==0.9.48) (1.2.0)\n",
            "Requirement already satisfied: packaging>=17.0 in /Users/tanzeela/opt/anaconda3/envs/bluesky-hack/lib/python3.10/site-packages (from marshmallow<4.0.0,>=3.18.0->dataclasses-json->llama-index==0.9.48) (23.2)\n",
            "Requirement already satisfied: annotated-types>=0.4.0 in /Users/tanzeela/opt/anaconda3/envs/bluesky-hack/lib/python3.10/site-packages (from pydantic<3,>=1.9.0->openai>=1.1.0->llama-index==0.9.48) (0.6.0)\n",
            "Requirement already satisfied: pydantic-core==2.16.3 in /Users/tanzeela/opt/anaconda3/envs/bluesky-hack/lib/python3.10/site-packages (from pydantic<3,>=1.9.0->openai>=1.1.0->llama-index==0.9.48) (2.16.3)\n",
            "Requirement already satisfied: six>=1.5 in /Users/tanzeela/opt/anaconda3/envs/bluesky-hack/lib/python3.10/site-packages (from python-dateutil>=2.8.2->pandas->llama-index==0.9.48) (1.16.0)\n",
            "Downloading llama_index-0.9.48-py3-none-any.whl (15.9 MB)\n",
            "\u001b[2K   \u001b[38;2;114;156;31m━━━━━━━━━━━━━━━━━━━━━━━━━━━━━━━━━━━━━━━━\u001b[0m \u001b[32m15.9/15.9 MB\u001b[0m \u001b[31m12.1 MB/s\u001b[0m eta \u001b[36m0:00:00\u001b[0mm eta \u001b[36m0:00:01\u001b[0m0:01\u001b[0m:01\u001b[0m\n",
            "\u001b[?25hInstalling collected packages: llama-index\n",
            "Successfully installed llama-index-0.9.48\n",
            "Note: you may need to restart the kernel to use updated packages.\n"
          ]
        },
        {
          "name": "stderr",
          "output_type": "stream",
          "text": [
            "huggingface/tokenizers: The current process just got forked, after parallelism has already been used. Disabling parallelism to avoid deadlocks...\n",
            "To disable this warning, you can either:\n",
            "\t- Avoid using `tokenizers` before the fork if possible\n",
            "\t- Explicitly set the environment variable TOKENIZERS_PARALLELISM=(true | false)\n"
          ]
        },
        {
          "name": "stdout",
          "output_type": "stream",
          "text": [
            "Requirement already satisfied: google-ai-generativelanguage<=1.0,>=0.4 in /Users/tanzeela/opt/anaconda3/envs/bluesky-hack/lib/python3.10/site-packages (0.4.0)\n",
            "Requirement already satisfied: google-api-core!=2.0.*,!=2.1.*,!=2.10.*,!=2.2.*,!=2.3.*,!=2.4.*,!=2.5.*,!=2.6.*,!=2.7.*,!=2.8.*,!=2.9.*,<3.0.0dev,>=1.34.0 in /Users/tanzeela/opt/anaconda3/envs/bluesky-hack/lib/python3.10/site-packages (from google-api-core[grpc]!=2.0.*,!=2.1.*,!=2.10.*,!=2.2.*,!=2.3.*,!=2.4.*,!=2.5.*,!=2.6.*,!=2.7.*,!=2.8.*,!=2.9.*,<3.0.0dev,>=1.34.0->google-ai-generativelanguage<=1.0,>=0.4) (2.17.1)\n",
            "Requirement already satisfied: proto-plus<2.0.0dev,>=1.22.3 in /Users/tanzeela/opt/anaconda3/envs/bluesky-hack/lib/python3.10/site-packages (from google-ai-generativelanguage<=1.0,>=0.4) (1.23.0)\n",
            "Requirement already satisfied: protobuf!=3.20.0,!=3.20.1,!=4.21.0,!=4.21.1,!=4.21.2,!=4.21.3,!=4.21.4,!=4.21.5,<5.0.0dev,>=3.19.5 in /Users/tanzeela/opt/anaconda3/envs/bluesky-hack/lib/python3.10/site-packages (from google-ai-generativelanguage<=1.0,>=0.4) (4.25.3)\n",
            "Requirement already satisfied: googleapis-common-protos<2.0.dev0,>=1.56.2 in /Users/tanzeela/opt/anaconda3/envs/bluesky-hack/lib/python3.10/site-packages (from google-api-core!=2.0.*,!=2.1.*,!=2.10.*,!=2.2.*,!=2.3.*,!=2.4.*,!=2.5.*,!=2.6.*,!=2.7.*,!=2.8.*,!=2.9.*,<3.0.0dev,>=1.34.0->google-api-core[grpc]!=2.0.*,!=2.1.*,!=2.10.*,!=2.2.*,!=2.3.*,!=2.4.*,!=2.5.*,!=2.6.*,!=2.7.*,!=2.8.*,!=2.9.*,<3.0.0dev,>=1.34.0->google-ai-generativelanguage<=1.0,>=0.4) (1.62.0)\n",
            "Requirement already satisfied: google-auth<3.0.dev0,>=2.14.1 in /Users/tanzeela/opt/anaconda3/envs/bluesky-hack/lib/python3.10/site-packages (from google-api-core!=2.0.*,!=2.1.*,!=2.10.*,!=2.2.*,!=2.3.*,!=2.4.*,!=2.5.*,!=2.6.*,!=2.7.*,!=2.8.*,!=2.9.*,<3.0.0dev,>=1.34.0->google-api-core[grpc]!=2.0.*,!=2.1.*,!=2.10.*,!=2.2.*,!=2.3.*,!=2.4.*,!=2.5.*,!=2.6.*,!=2.7.*,!=2.8.*,!=2.9.*,<3.0.0dev,>=1.34.0->google-ai-generativelanguage<=1.0,>=0.4) (2.28.1)\n",
            "Requirement already satisfied: requests<3.0.0.dev0,>=2.18.0 in /Users/tanzeela/opt/anaconda3/envs/bluesky-hack/lib/python3.10/site-packages (from google-api-core!=2.0.*,!=2.1.*,!=2.10.*,!=2.2.*,!=2.3.*,!=2.4.*,!=2.5.*,!=2.6.*,!=2.7.*,!=2.8.*,!=2.9.*,<3.0.0dev,>=1.34.0->google-api-core[grpc]!=2.0.*,!=2.1.*,!=2.10.*,!=2.2.*,!=2.3.*,!=2.4.*,!=2.5.*,!=2.6.*,!=2.7.*,!=2.8.*,!=2.9.*,<3.0.0dev,>=1.34.0->google-ai-generativelanguage<=1.0,>=0.4) (2.31.0)\n",
            "Requirement already satisfied: grpcio<2.0dev,>=1.33.2 in /Users/tanzeela/opt/anaconda3/envs/bluesky-hack/lib/python3.10/site-packages (from google-api-core[grpc]!=2.0.*,!=2.1.*,!=2.10.*,!=2.2.*,!=2.3.*,!=2.4.*,!=2.5.*,!=2.6.*,!=2.7.*,!=2.8.*,!=2.9.*,<3.0.0dev,>=1.34.0->google-ai-generativelanguage<=1.0,>=0.4) (1.62.0)\n",
            "Requirement already satisfied: grpcio-status<2.0.dev0,>=1.33.2 in /Users/tanzeela/opt/anaconda3/envs/bluesky-hack/lib/python3.10/site-packages (from google-api-core[grpc]!=2.0.*,!=2.1.*,!=2.10.*,!=2.2.*,!=2.3.*,!=2.4.*,!=2.5.*,!=2.6.*,!=2.7.*,!=2.8.*,!=2.9.*,<3.0.0dev,>=1.34.0->google-ai-generativelanguage<=1.0,>=0.4) (1.62.0)\n",
            "Requirement already satisfied: cachetools<6.0,>=2.0.0 in /Users/tanzeela/opt/anaconda3/envs/bluesky-hack/lib/python3.10/site-packages (from google-auth<3.0.dev0,>=2.14.1->google-api-core!=2.0.*,!=2.1.*,!=2.10.*,!=2.2.*,!=2.3.*,!=2.4.*,!=2.5.*,!=2.6.*,!=2.7.*,!=2.8.*,!=2.9.*,<3.0.0dev,>=1.34.0->google-api-core[grpc]!=2.0.*,!=2.1.*,!=2.10.*,!=2.2.*,!=2.3.*,!=2.4.*,!=2.5.*,!=2.6.*,!=2.7.*,!=2.8.*,!=2.9.*,<3.0.0dev,>=1.34.0->google-ai-generativelanguage<=1.0,>=0.4) (5.3.2)\n",
            "Requirement already satisfied: pyasn1-modules>=0.2.1 in /Users/tanzeela/opt/anaconda3/envs/bluesky-hack/lib/python3.10/site-packages (from google-auth<3.0.dev0,>=2.14.1->google-api-core!=2.0.*,!=2.1.*,!=2.10.*,!=2.2.*,!=2.3.*,!=2.4.*,!=2.5.*,!=2.6.*,!=2.7.*,!=2.8.*,!=2.9.*,<3.0.0dev,>=1.34.0->google-api-core[grpc]!=2.0.*,!=2.1.*,!=2.10.*,!=2.2.*,!=2.3.*,!=2.4.*,!=2.5.*,!=2.6.*,!=2.7.*,!=2.8.*,!=2.9.*,<3.0.0dev,>=1.34.0->google-ai-generativelanguage<=1.0,>=0.4) (0.3.0)\n",
            "Requirement already satisfied: rsa<5,>=3.1.4 in /Users/tanzeela/opt/anaconda3/envs/bluesky-hack/lib/python3.10/site-packages (from google-auth<3.0.dev0,>=2.14.1->google-api-core!=2.0.*,!=2.1.*,!=2.10.*,!=2.2.*,!=2.3.*,!=2.4.*,!=2.5.*,!=2.6.*,!=2.7.*,!=2.8.*,!=2.9.*,<3.0.0dev,>=1.34.0->google-api-core[grpc]!=2.0.*,!=2.1.*,!=2.10.*,!=2.2.*,!=2.3.*,!=2.4.*,!=2.5.*,!=2.6.*,!=2.7.*,!=2.8.*,!=2.9.*,<3.0.0dev,>=1.34.0->google-ai-generativelanguage<=1.0,>=0.4) (4.9)\n",
            "Requirement already satisfied: charset-normalizer<4,>=2 in /Users/tanzeela/opt/anaconda3/envs/bluesky-hack/lib/python3.10/site-packages (from requests<3.0.0.dev0,>=2.18.0->google-api-core!=2.0.*,!=2.1.*,!=2.10.*,!=2.2.*,!=2.3.*,!=2.4.*,!=2.5.*,!=2.6.*,!=2.7.*,!=2.8.*,!=2.9.*,<3.0.0dev,>=1.34.0->google-api-core[grpc]!=2.0.*,!=2.1.*,!=2.10.*,!=2.2.*,!=2.3.*,!=2.4.*,!=2.5.*,!=2.6.*,!=2.7.*,!=2.8.*,!=2.9.*,<3.0.0dev,>=1.34.0->google-ai-generativelanguage<=1.0,>=0.4) (3.3.2)\n",
            "Requirement already satisfied: idna<4,>=2.5 in /Users/tanzeela/opt/anaconda3/envs/bluesky-hack/lib/python3.10/site-packages (from requests<3.0.0.dev0,>=2.18.0->google-api-core!=2.0.*,!=2.1.*,!=2.10.*,!=2.2.*,!=2.3.*,!=2.4.*,!=2.5.*,!=2.6.*,!=2.7.*,!=2.8.*,!=2.9.*,<3.0.0dev,>=1.34.0->google-api-core[grpc]!=2.0.*,!=2.1.*,!=2.10.*,!=2.2.*,!=2.3.*,!=2.4.*,!=2.5.*,!=2.6.*,!=2.7.*,!=2.8.*,!=2.9.*,<3.0.0dev,>=1.34.0->google-ai-generativelanguage<=1.0,>=0.4) (3.6)\n",
            "Requirement already satisfied: urllib3<3,>=1.21.1 in /Users/tanzeela/opt/anaconda3/envs/bluesky-hack/lib/python3.10/site-packages (from requests<3.0.0.dev0,>=2.18.0->google-api-core!=2.0.*,!=2.1.*,!=2.10.*,!=2.2.*,!=2.3.*,!=2.4.*,!=2.5.*,!=2.6.*,!=2.7.*,!=2.8.*,!=2.9.*,<3.0.0dev,>=1.34.0->google-api-core[grpc]!=2.0.*,!=2.1.*,!=2.10.*,!=2.2.*,!=2.3.*,!=2.4.*,!=2.5.*,!=2.6.*,!=2.7.*,!=2.8.*,!=2.9.*,<3.0.0dev,>=1.34.0->google-ai-generativelanguage<=1.0,>=0.4) (2.2.1)\n",
            "Requirement already satisfied: certifi>=2017.4.17 in /Users/tanzeela/opt/anaconda3/envs/bluesky-hack/lib/python3.10/site-packages (from requests<3.0.0.dev0,>=2.18.0->google-api-core!=2.0.*,!=2.1.*,!=2.10.*,!=2.2.*,!=2.3.*,!=2.4.*,!=2.5.*,!=2.6.*,!=2.7.*,!=2.8.*,!=2.9.*,<3.0.0dev,>=1.34.0->google-api-core[grpc]!=2.0.*,!=2.1.*,!=2.10.*,!=2.2.*,!=2.3.*,!=2.4.*,!=2.5.*,!=2.6.*,!=2.7.*,!=2.8.*,!=2.9.*,<3.0.0dev,>=1.34.0->google-ai-generativelanguage<=1.0,>=0.4) (2024.2.2)\n",
            "Requirement already satisfied: pyasn1<0.6.0,>=0.4.6 in /Users/tanzeela/opt/anaconda3/envs/bluesky-hack/lib/python3.10/site-packages (from pyasn1-modules>=0.2.1->google-auth<3.0.dev0,>=2.14.1->google-api-core!=2.0.*,!=2.1.*,!=2.10.*,!=2.2.*,!=2.3.*,!=2.4.*,!=2.5.*,!=2.6.*,!=2.7.*,!=2.8.*,!=2.9.*,<3.0.0dev,>=1.34.0->google-api-core[grpc]!=2.0.*,!=2.1.*,!=2.10.*,!=2.2.*,!=2.3.*,!=2.4.*,!=2.5.*,!=2.6.*,!=2.7.*,!=2.8.*,!=2.9.*,<3.0.0dev,>=1.34.0->google-ai-generativelanguage<=1.0,>=0.4) (0.5.1)\n",
            "Note: you may need to restart the kernel to use updated packages.\n"
          ]
        }
      ],
      "source": [
        "%pip install llama-index==0.9.48\n",
        "%pip install \"google-ai-generativelanguage>=0.4,<=1.0\""
      ]
    },
    {
      "cell_type": "code",
      "execution_count": null,
      "metadata": {},
      "outputs": [],
      "source": [
        "!mkdir -p 'data/bluesky_matchmaking_hackathon/'\n",
        "!wget 'put our data here in txt'"
      ]
    },
    {
      "cell_type": "code",
      "execution_count": 24,
      "metadata": {},
      "outputs": [
        {
          "ename": "ModuleNotFoundError",
          "evalue": "No module named 'llama_index.core.vector_stores.google'",
          "output_type": "error",
          "traceback": [
            "\u001b[0;31m---------------------------------------------------------------------------\u001b[0m",
            "\u001b[0;31mModuleNotFoundError\u001b[0m                       Traceback (most recent call last)",
            "Cell \u001b[0;32mIn[24], line 1\u001b[0m\n\u001b[0;32m----> 1\u001b[0m \u001b[38;5;28;01mimport\u001b[39;00m \u001b[38;5;21;01mllama_index\u001b[39;00m\u001b[38;5;21;01m.\u001b[39;00m\u001b[38;5;21;01mcore\u001b[39;00m\u001b[38;5;21;01m.\u001b[39;00m\u001b[38;5;21;01mvector_stores\u001b[39;00m\u001b[38;5;21;01m.\u001b[39;00m\u001b[38;5;21;01mgoogle\u001b[39;00m\u001b[38;5;21;01m.\u001b[39;00m\u001b[38;5;21;01mgenerativeai\u001b[39;00m\u001b[38;5;21;01m.\u001b[39;00m\u001b[38;5;21;01mgenai_extension\u001b[39;00m \u001b[38;5;28;01mas\u001b[39;00m \u001b[38;5;21;01mgenaix\u001b[39;00m\n\u001b[1;32m      2\u001b[0m \u001b[38;5;28;01mfrom\u001b[39;00m \u001b[38;5;21;01mtyping\u001b[39;00m \u001b[38;5;28;01mimport\u001b[39;00m Iterable\n\u001b[1;32m      3\u001b[0m \u001b[38;5;28;01mfrom\u001b[39;00m \u001b[38;5;21;01mrandom\u001b[39;00m \u001b[38;5;28;01mimport\u001b[39;00m randrange\n",
            "\u001b[0;31mModuleNotFoundError\u001b[0m: No module named 'llama_index.core.vector_stores.google'"
          ]
        }
      ],
      "source": [
        "import llama_index.core.vector_stores.google.generativeai.genai_extension as genaix\n",
        "from typing import Iterable\n",
        "from random import randrange\n",
        "\n",
        "\n",
        "LLAMA_INDEX_COLAB_CORPUS_ID_PREFIX = f\"llama-index-colab\"\n",
        "SESSION_CORPUS_ID_PREFIX = (\n",
        "    f\"{LLAMA_INDEX_COLAB_CORPUS_ID_PREFIX}-{randrange(1000000)}\"\n",
        ")\n",
        "\n",
        "\n",
        "def corpus_id(num_id: int) -> str:\n",
        "    return f\"{SESSION_CORPUS_ID_PREFIX}-{num_id}\"\n",
        "\n",
        "\n",
        "SESSION_CORPUS_ID = corpus_id(1)\n",
        "\n",
        "\n",
        "def list_corpora() -> Iterable[genaix.Corpus]:\n",
        "    client = genaix.build_semantic_retriever()\n",
        "    yield from genaix.list_corpora(client=client)\n",
        "\n",
        "\n",
        "def delete_corpus(*, corpus_id: str) -> None:\n",
        "    client = genaix.build_semantic_retriever()\n",
        "    genaix.delete_corpus(corpus_id=corpus_id, client=client)\n",
        "\n",
        "\n",
        "def cleanup_colab_corpora():\n",
        "    for corpus in list_corpora():\n",
        "        if corpus.corpus_id.startswith(LLAMA_INDEX_COLAB_CORPUS_ID_PREFIX):\n",
        "            try:\n",
        "                delete_corpus(corpus_id=corpus.corpus_id)\n",
        "                print(f\"Deleted corpus {corpus.corpus_id}.\")\n",
        "            except Exception:\n",
        "                pass\n",
        "\n",
        "\n",
        "# Remove any previously leftover corpora from this colab.\n",
        "cleanup_colab_corpora()"
      ]
    },
    {
      "cell_type": "code",
      "execution_count": null,
      "metadata": {},
      "outputs": [],
      "source": [
        "from llama_index.core import SimpleDirectoryReader\n",
        "from llama_index.indices.managed.google import GoogleIndex\n",
        "from llama_index.core import Response\n",
        "import time\n",
        "\n",
        "# Create a corpus.\n",
        "index = GoogleIndex.create_corpus(\n",
        "    corpus_id=SESSION_CORPUS_ID, display_name=\"My first corpus!\"\n",
        ")\n",
        "print(f\"Newly created corpus ID is {index.corpus_id}.\")\n",
        "\n",
        "# Ingestion.\n",
        "documents = SimpleDirectoryReader(\"./data/bluesky_matchmaking_hackathon/\").load_data()\n",
        "index.insert_documents(documents)\n",
        "\n",
        "# Print\n",
        "for corpus in list_corpora():\n",
        "    print(corpus)"
      ]
    },
    {
      "cell_type": "code",
      "execution_count": null,
      "metadata": {},
      "outputs": [],
      "source": [
        "from llama_index.response_synthesizers.google import GoogleTextSynthesizer\n",
        "from llama_index.vector_stores.google import GoogleVectorStore\n",
        "from llama_index.core import VectorStoreIndex\n",
        "from llama_index.core.postprocessor import LLMRerank\n",
        "from llama_index.core.query_engine import RetrieverQueryEngine\n",
        "from llama_index.core.retrievers import VectorIndexRetriever\n",
        "\n",
        "# Set up the query engine with a reranker.\n",
        "store = GoogleVectorStore.from_corpus(corpus_id=SESSION_CORPUS_ID)\n",
        "index = VectorStoreIndex.from_vector_store(\n",
        "    vector_store=store,\n",
        ")\n",
        "response_synthesizer = GoogleTextSynthesizer.from_defaults(\n",
        "    temperature=0.2,\n",
        "    answer_style=GenerateAnswerRequest.AnswerStyle.ABSTRACTIVE,\n",
        ")\n",
        "reranker = LLMRerank(\n",
        "    top_n=10,\n",
        "    llm=gemini,\n",
        ")\n",
        "query_engine = RetrieverQueryEngine.from_args(\n",
        "    retriever=VectorIndexRetriever(\n",
        "        index=index,\n",
        "        similarity_top_k=20,\n",
        "    ),\n",
        "    node_postprocessors=[reranker],\n",
        "    response_synthesizer=response_synthesizer,\n",
        ")\n",
        "\n",
        "# Query.\n",
        "response = query_engine.query(f\"What users should the use: {username} follow based on their profile similarities: {user_profile_data}\")\n",
        "print(response)"
      ]
    },
    {
      "cell_type": "code",
      "execution_count": null,
      "metadata": {},
      "outputs": [],
      "source": [
        "# Show response.\n",
        "print(f\"Response is {response.response}\")\n",
        "\n",
        "# Show cited passages that were used to construct the response.\n",
        "for cited_text in [node.text for node in response.source_nodes]:\n",
        "    print(f\"Cited text: {cited_text}\")\n",
        "\n",
        "# Show answerability. 0 means not answerable from the passages.\n",
        "# 1 means the model is certain the answer can be provided from the passages.\n",
        "if response.metadata:\n",
        "    print(\n",
        "        f\"Answerability: {response.metadata.get('answerable_probability', 0)}\"\n",
        "    )"
      ]
    }
  ],
  "metadata": {
    "colab": {
      "provenance": []
    },
    "kernelspec": {
      "display_name": "Python 3",
      "name": "python3"
    },
    "language_info": {
      "codemirror_mode": {
        "name": "ipython",
        "version": 3
      },
      "file_extension": ".py",
      "mimetype": "text/x-python",
      "name": "python",
      "nbconvert_exporter": "python",
      "pygments_lexer": "ipython3",
      "version": "3.10.13"
    }
  },
  "nbformat": 4,
  "nbformat_minor": 0
}

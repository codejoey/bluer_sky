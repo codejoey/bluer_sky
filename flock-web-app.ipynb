{
  "cells": [
    {
      "cell_type": "raw",
      "metadata": {},
      "source": [
        "---\n",
        "title: Flock 🐧🐤🐦\n",
        "description: Find your crowd, and choose your new crowd \n",
        "show-code: False\n",
        "\n",
        "params:\n",
        "    username:\n",
        "        label: What's your username?\n",
        "        input: text\n",
        "        value: raynegrimm.bsky.social\n",
        "    target_flock:\n",
        "        input: text\n",
        "        label: What kinds of flocks do you want to fly with?\n",
        "        value: Personal finance, growth mindset, grindset\n",
        "    output_dir:\n",
        "        output: dir\n",
        "    ---"
      ]
    },
    {
      "cell_type": "code",
      "execution_count": 6,
      "metadata": {},
      "outputs": [],
      "source": [
        "#name these var to match widget names above^, these var will update in webapp when run from user input\n",
        "username = 'Ayu Maharani'\n",
        "\"\"\"\n",
        "The uploaded file name will be passed to the notebook as a string. \n",
        "The uploaded file will be copied to the same directory as the notebook. \n",
        "After notebook execution, the uploaded file will be removed.\n",
        "\"\"\"\n",
        "target_flock = \"Personal finance, growth mindset, grindset\"\n",
        "output_dir = \"\"\n"
      ]
    },
    {
      "cell_type": "code",
      "execution_count": 2,
      "metadata": {},
      "outputs": [],
      "source": [
        "from langchain.document_loaders import CSVLoader\n",
        "from langchain.embeddings.sentence_transformer import SentenceTransformerEmbeddings\n",
        "from langchain.vectorstores import Chroma"
      ]
    },
    {
      "cell_type": "code",
      "execution_count": 7,
      "metadata": {},
      "outputs": [],
      "source": [
        "\n",
        "\n",
        "embedding_function = SentenceTransformerEmbeddings(model_name=\"all-MiniLM-L6-v2\")\n",
        "\n",
        "loader = CSVLoader(\"user_info.csv\", encoding=\"utf-8\")\n",
        "documents = loader.load()\n",
        "\n",
        "db = Chroma.from_documents(documents, embedding_function)\n"
      ]
    },
    {
      "cell_type": "code",
      "execution_count": 11,
      "metadata": {},
      "outputs": [
        {
          "name": "stdout",
          "output_type": "stream",
          "text": [
            "DID: did:plc:zcjm7u7i3vayixy673sgt4hj\n",
            "Username: Jani Koski\n",
            "Profile Description: Päivisin UX ja AI konsultti, öisin unessa. Isä, puoliso, hapuileva lintuharrastaja, keskinkertainen luontokuvaaja ja tumpelo perinnerakentaja. Luonto, musiikki, kirjat, runot, taide ja elokuvat kiinnostavat. Sad songs make me happy. Hyvien puolella.\n",
            "Recent Post 1: Anarkistin valinta!\n",
            "Recent Post 2: Se on harvinaisen totta, ja osin siksi juuri vaikea!\n",
            "Recent Post 3: Ei ihan helpoimmasta päästä!\n"
          ]
        }
      ],
      "source": [
        "query = \"For Username \" + username + \" describe them?\"\n",
        "docs = db.similarity_search(query)\n",
        "print(docs[0].page_content)\n",
        "user_info = docs[0].page_content"
      ]
    },
    {
      "cell_type": "code",
      "execution_count": 12,
      "metadata": {},
      "outputs": [
        {
          "name": "stdout",
          "output_type": "stream",
          "text": [
            "DID: did:plc:zcjm7u7i3vayixy673sgt4hj\n",
            "Username: Jani Koski\n",
            "Profile Description: Päivisin UX ja AI konsultti, öisin unessa. Isä, puoliso, hapuileva lintuharrastaja, keskinkertainen luontokuvaaja ja tumpelo perinnerakentaja. Luonto, musiikki, kirjat, runot, taide ja elokuvat kiinnostavat. Sad songs make me happy. Hyvien puolella.\n",
            "Recent Post 1: Anarkistin valinta!\n",
            "Recent Post 2: Se on harvinaisen totta, ja osin siksi juuri vaikea!\n",
            "Recent Post 3: Ei ihan helpoimmasta päästä!\n",
            "DID: did:plc:bpka6vmfeeqmrruii5tr6ucq\n",
            "Username: Vašek\n",
            "Profile Description: Twitter: @vs_ch12\n",
            "Recent Post 1: V roce 1979 bylo v březnu už docela hezké počasí a v dubna napadl sníh a přišli mrazy. Rukoval jsem na vojnu, tak si to docela dobře pamatuji. 🥶\n",
            "Recent Post 2: Děkuji, hezké👍. Jojo, je to divný únor, místo sněhu poletují včelky. \n",
            "Přeji Vám příjemný večer. 💫\n",
            "Recent Post 3: Velice děkuji Ell, přeji Ti příjemný večer.🙏🙋‍♂️🌹💫\n",
            "Já jsem dnes viděl i žluťáska, ale nepodařilo se mi ho vyfotit.\n",
            "DID: did:plc:bpka6vmfeeqmrruii5tr6ucq\n",
            "Username: Vašek\n",
            "Profile Description: Twitter: @vs_ch12\n",
            "Recent Post 1: V roce 1979 bylo v březnu už docela hezké počasí a v dubna napadl sníh a přišli mrazy. Rukoval jsem na vojnu, tak si to docela dobře pamatuji. 🥶\n",
            "Recent Post 2: Děkuji, hezké👍. Jojo, je to divný únor, místo sněhu poletují včelky. \n",
            "Přeji Vám příjemný večer. 💫\n",
            "Recent Post 3: Velice děkuji Ell, přeji Ti příjemný večer.🙏🙋‍♂️🌹💫\n",
            "Já jsem dnes viděl i žluťáska, ale nepodařilo se mi ho vyfotit.\n"
          ]
        }
      ],
      "source": [
        "query = user_info\n",
        "docs = db.similarity_search(query)\n",
        "match_user_1 = docs[1].page_content\n",
        "match_user_2 = docs[2].page_content\n",
        "match_user_3 = docs[3].page_content\n",
        "\n",
        "print(match_user_1)\n",
        "print(match_user_2)\n",
        "print(match_user_3)\n",
        "\n"
      ]
    },
    {
      "cell_type": "code",
      "execution_count": 53,
      "metadata": {
        "colab": {
          "base_uri": "https://localhost:8080/"
        },
        "id": "yo0KYBXXXIJ7",
        "outputId": "27ffbd4a-674b-4cc9-c713-5c44fb149b9d"
      },
      "outputs": [],
      "source": [
        "# from atproto import Client\n",
        "# client = Client(base_url='https://bsky.social')\n",
        "# client.login('codejoey.bsky.social', '$D^:hM3_A@6u&-Z')"
      ]
    },
    {
      "cell_type": "code",
      "execution_count": 31,
      "metadata": {},
      "outputs": [],
      "source": [
        "# print(\"username \", username)\n",
        "# print(\"target_flock \", target_flock)"
      ]
    },
    {
      "cell_type": "code",
      "execution_count": null,
      "metadata": {},
      "outputs": [],
      "source": []
    }
  ],
  "metadata": {
    "colab": {
      "provenance": []
    },
    "kernelspec": {
      "display_name": "Python 3",
      "name": "python3"
    },
    "language_info": {
      "codemirror_mode": {
        "name": "ipython",
        "version": 3
      },
      "file_extension": ".py",
      "mimetype": "text/x-python",
      "name": "python",
      "nbconvert_exporter": "python",
      "pygments_lexer": "ipython3",
      "version": "3.9.18"
    }
  },
  "nbformat": 4,
  "nbformat_minor": 0
}

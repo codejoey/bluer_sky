{
 "cells": [
  {
   "cell_type": "code",
   "execution_count": 1,
   "metadata": {},
   "outputs": [],
   "source": [
    "import pandas as pd\n",
    "\n",
    "profiles = pd.read_csv(\"data/sampled_profiles.csv\")\n",
    "follows = pd.read_csv(\"data/sampled_follows.csv\")\n",
    "posts = pd.read_csv(\"data/sampled_posts.csv\")\n",
    "\n",
    "total = follows.merge(profiles[['did', 'display_name', 'description', 'followers_count', 'follows_count', 'posts_count']],\n",
    "                        left_on='subject', right_on='did', how='left')\n",
    "\n",
    "total.drop(columns=['did_y'], inplace=True)\n",
    "total.rename(columns={'did_x': 'did'}, inplace=True)\n",
    "total.to_csv(\"following.csv\")\n"
   ]
  },
  {
   "cell_type": "code",
   "execution_count": 4,
   "metadata": {},
   "outputs": [
    {
     "name": "stdout",
     "output_type": "stream",
     "text": [
      "KeyError occurred when accessing res_posts. Skipping this entry.\n",
      "KeyError occurred when accessing res_posts. Skipping this entry.\n",
      "KeyError occurred when accessing res_posts. Skipping this entry.\n"
     ]
    }
   ],
   "source": [
    "def get_posts(input_did, posts):\n",
    "    posts_for_did = posts[posts['did'] == input_did]\n",
    "    posts_for_did_sorted = posts_for_did.sort_values(by='created_at', ascending=False)\n",
    "    recent_posts = posts_for_did_sorted.head(3)['text'].tolist()\n",
    "    return recent_posts\n",
    "\n",
    "for index, row in profiles.iterrows():\n",
    "    did = row['did']\n",
    "    usr_name = row['display_name']\n",
    "    usr_description = row['description']\n",
    "    res_posts = get_posts(did, posts)\n",
    "    \n",
    "    # If the user has less than 3 posts, fill the remaining posts with empty strings\n",
    "    while len(res_posts) < 3:\n",
    "        res_posts.append('')\n",
    "        \n",
    "    post1 = ''\n",
    "    post2 = ''\n",
    "    post3 = ''\n",
    "        \n",
    "    template = f\"\"\"DID: {did}\n",
    "Username: {usr_name}\n",
    "Profile description: {usr_description}\n",
    "Recent post 1: {post1}\n",
    "Recent post 2: {post2}\n",
    "Recent post 3: {post3}\"\"\"\n",
    "    \n",
    "    try:\n",
    "        output = template.format(did=did, usr_name=usr_name, usr_description=usr_description,\n",
    "                             post1=res_posts[0], post2=res_posts[1], post3=res_posts[2])\n",
    "    except KeyError:\n",
    "        print(\"KeyError occurred when accessing res_posts. Skipping this entry.\")\n",
    "        continue  # Move to the next iteration of your loop\n",
    "    \n",
    "    # Write the output to a text file\n",
    "    with open(f\"users/{row['handle']}_profile.txt\", \"w\") as file:\n",
    "        file.write(output)"
   ]
  }
 ],
 "metadata": {
  "kernelspec": {
   "display_name": "base",
   "language": "python",
   "name": "python3"
  },
  "language_info": {
   "codemirror_mode": {
    "name": "ipython",
    "version": 3
   },
   "file_extension": ".py",
   "mimetype": "text/x-python",
   "name": "python",
   "nbconvert_exporter": "python",
   "pygments_lexer": "ipython3",
   "version": "3.11.5"
  }
 },
 "nbformat": 4,
 "nbformat_minor": 2
}

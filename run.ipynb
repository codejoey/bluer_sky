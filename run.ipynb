{
 "cells": [
  {
   "cell_type": "code",
   "execution_count": 5,
   "metadata": {},
   "outputs": [],
   "source": [
    "import pandas as pd\n",
    "\n",
    "profiles = pd.read_csv(\"data/sampled_profiles.csv\")\n",
    "follows = pd.read_csv(\"data/sampled_follows.csv\")\n",
    "posts = pd.read_csv(\"data/sampled_posts.csv\")\n",
    "\n",
    "total = follows.merge(profiles[['did', 'display_name', 'description', 'followers_count', 'follows_count', 'posts_count']],\n",
    "                        left_on='subject', right_on='did', how='left')\n",
    "\n",
    "total.drop(columns=['did_y'], inplace=True)\n",
    "total.rename(columns={'did_x': 'did'}, inplace=True)\n",
    "total.to_csv(\"following.csv\")\n"
   ]
  },
  {
   "cell_type": "code",
   "execution_count": 6,
   "metadata": {},
   "outputs": [
    {
     "ename": "KeyError",
     "evalue": "'1,2'",
     "output_type": "error",
     "traceback": [
      "\u001b[0;31m---------------------------------------------------------------------------\u001b[0m",
      "\u001b[0;31mKeyError\u001b[0m                                  Traceback (most recent call last)",
      "\u001b[1;32m/Users/caoyujia/Desktop/Color/bluer_sky/run.ipynb Cell 2\u001b[0m line \u001b[0;36m2\n\u001b[1;32m     <a href='vscode-notebook-cell:/Users/caoyujia/Desktop/Color/bluer_sky/run.ipynb#W6sZmlsZQ%3D%3D?line=17'>18</a>\u001b[0m     template \u001b[39m=\u001b[39m \u001b[39mf\u001b[39m\u001b[39m\"\"\"\u001b[39m\u001b[39mDID: \u001b[39m\u001b[39m{\u001b[39;00mdid\u001b[39m}\u001b[39;00m\n\u001b[1;32m     <a href='vscode-notebook-cell:/Users/caoyujia/Desktop/Color/bluer_sky/run.ipynb#W6sZmlsZQ%3D%3D?line=18'>19</a>\u001b[0m \u001b[39mUsername: \u001b[39m\u001b[39m{\u001b[39;00musr_name\u001b[39m}\u001b[39;00m\n\u001b[1;32m     <a href='vscode-notebook-cell:/Users/caoyujia/Desktop/Color/bluer_sky/run.ipynb#W6sZmlsZQ%3D%3D?line=19'>20</a>\u001b[0m \u001b[39mProfile description: \u001b[39m\u001b[39m{\u001b[39;00musr_description\u001b[39m}\u001b[39;00m\n\u001b[0;32m   (...)\u001b[0m\n\u001b[1;32m     <a href='vscode-notebook-cell:/Users/caoyujia/Desktop/Color/bluer_sky/run.ipynb#W6sZmlsZQ%3D%3D?line=22'>23</a>\u001b[0m \u001b[39mRecent post 3: \u001b[39m\u001b[39m{\u001b[39;00mres_posts[\u001b[39m2\u001b[39m]\u001b[39m}\u001b[39;00m\n\u001b[1;32m     <a href='vscode-notebook-cell:/Users/caoyujia/Desktop/Color/bluer_sky/run.ipynb#W6sZmlsZQ%3D%3D?line=23'>24</a>\u001b[0m \u001b[39m    \u001b[39m\u001b[39m\"\"\"\u001b[39m\n\u001b[1;32m     <a href='vscode-notebook-cell:/Users/caoyujia/Desktop/Color/bluer_sky/run.ipynb#W6sZmlsZQ%3D%3D?line=25'>26</a>\u001b[0m     \u001b[39m# Format the template\u001b[39;00m\n\u001b[0;32m---> <a href='vscode-notebook-cell:/Users/caoyujia/Desktop/Color/bluer_sky/run.ipynb#W6sZmlsZQ%3D%3D?line=26'>27</a>\u001b[0m     output \u001b[39m=\u001b[39m template\u001b[39m.\u001b[39mformat(did\u001b[39m=\u001b[39mdid, usr_name\u001b[39m=\u001b[39musr_name, usr_description\u001b[39m=\u001b[39musr_description,\n\u001b[1;32m     <a href='vscode-notebook-cell:/Users/caoyujia/Desktop/Color/bluer_sky/run.ipynb#W6sZmlsZQ%3D%3D?line=27'>28</a>\u001b[0m                              post1\u001b[39m=\u001b[39mres_posts[\u001b[39m0\u001b[39m], post2\u001b[39m=\u001b[39mres_posts[\u001b[39m1\u001b[39m], post3\u001b[39m=\u001b[39mres_posts[\u001b[39m2\u001b[39m])\n\u001b[1;32m     <a href='vscode-notebook-cell:/Users/caoyujia/Desktop/Color/bluer_sky/run.ipynb#W6sZmlsZQ%3D%3D?line=29'>30</a>\u001b[0m     \u001b[39m# Write the output to a text file\u001b[39;00m\n\u001b[1;32m     <a href='vscode-notebook-cell:/Users/caoyujia/Desktop/Color/bluer_sky/run.ipynb#W6sZmlsZQ%3D%3D?line=30'>31</a>\u001b[0m     \u001b[39mwith\u001b[39;00m \u001b[39mopen\u001b[39m(\u001b[39mf\u001b[39m\u001b[39m\"\u001b[39m\u001b[39musers/\u001b[39m\u001b[39m{\u001b[39;00mrow[\u001b[39m'\u001b[39m\u001b[39mhandle\u001b[39m\u001b[39m'\u001b[39m]\u001b[39m}\u001b[39;00m\u001b[39m_profile.txt\u001b[39m\u001b[39m\"\u001b[39m, \u001b[39m\"\u001b[39m\u001b[39mw\u001b[39m\u001b[39m\"\u001b[39m) \u001b[39mas\u001b[39;00m file:\n",
      "\u001b[0;31mKeyError\u001b[0m: '1,2'"
     ]
    }
   ],
   "source": [
    "def get_posts(input_did, posts):\n",
    "    posts_for_did = posts[posts['did'] == input_did]\n",
    "    posts_for_did_sorted = posts_for_did.sort_values(by='created_at', ascending=False)\n",
    "    recent_posts = posts_for_did_sorted.head(3)['text'].tolist()\n",
    "    return recent_posts\n",
    "\n",
    "for index, row in profiles.iterrows():\n",
    "    did = row['did']\n",
    "    usr_name = row['display_name']\n",
    "    usr_description = row['description']\n",
    "    res_posts = get_posts(did, posts)\n",
    "    \n",
    "    # If the user has less than 3 posts, fill the remaining posts with empty strings\n",
    "    while len(res_posts) < 3:\n",
    "        res_posts.append('')\n",
    "        \n",
    "        \n",
    "    template = f\"\"\"DID: {did}\n",
    "Username: {usr_name}\n",
    "Profile description: {usr_description}\n",
    "Recent post 1: {res_posts[0]}\n",
    "Recent post 2: {res_posts[1]}\n",
    "Recent post 3: {res_posts[2]}\n",
    "    \"\"\"\n",
    "    \n",
    "    # Format the template\n",
    "    output = template.format(did=did, usr_name=usr_name, usr_description=usr_description,\n",
    "                             post1=res_posts[0], post2=res_posts[1], post3=res_posts[2])\n",
    "    \n",
    "    # Write the output to a text file\n",
    "    with open(f\"users/{row['handle']}_profile.txt\", \"w\") as file:\n",
    "        file.write(output)"
   ]
  }
 ],
 "metadata": {
  "kernelspec": {
   "display_name": "base",
   "language": "python",
   "name": "python3"
  },
  "language_info": {
   "codemirror_mode": {
    "name": "ipython",
    "version": 3
   },
   "file_extension": ".py",
   "mimetype": "text/x-python",
   "name": "python",
   "nbconvert_exporter": "python",
   "pygments_lexer": "ipython3",
   "version": "3.11.5"
  }
 },
 "nbformat": 4,
 "nbformat_minor": 2
}

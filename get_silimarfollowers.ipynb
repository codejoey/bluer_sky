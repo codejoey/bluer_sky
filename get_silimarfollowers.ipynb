{
 "cells": [
  {
   "cell_type": "code",
   "execution_count": 29,
   "metadata": {},
   "outputs": [],
   "source": [
    "import pandas as pd\n",
    "following = pd.read_csv(\"following.csv\")\n",
    "profiles = pd.read_csv(\"data/sampled_profiles.csv\")"
   ]
  },
  {
   "cell_type": "code",
   "execution_count": 30,
   "metadata": {},
   "outputs": [
    {
     "name": "stdout",
     "output_type": "stream",
     "text": [
      "did:plc:eg336dt7kyike5xkyed3iwcv\n"
     ]
    }
   ],
   "source": [
    "def get_did(profiles, handle):\n",
    "    return str(profiles[profiles['handle'] == handle]['did'].values[0])\n",
    "\n",
    "print(get_did(profiles, 'lukelukeluke.bsky.social'))"
   ]
  },
  {
   "cell_type": "code",
   "execution_count": 36,
   "metadata": {},
   "outputs": [
    {
     "ename": "IndexError",
     "evalue": "index 0 is out of bounds for axis 0 with size 0",
     "output_type": "error",
     "traceback": [
      "\u001b[0;31m---------------------------------------------------------------------------\u001b[0m",
      "\u001b[0;31mIndexError\u001b[0m                                Traceback (most recent call last)",
      "\u001b[1;32m/Users/caoyujia/Desktop/Color/bluer_sky/get_silimarfollowers.ipynb Cell 3\u001b[0m line \u001b[0;36m2\n\u001b[1;32m     <a href='vscode-notebook-cell:/Users/caoyujia/Desktop/Color/bluer_sky/get_silimarfollowers.ipynb#W4sZmlsZQ%3D%3D?line=22'>23</a>\u001b[0m     \u001b[39mreturn\u001b[39;00m overlapping_df\n\u001b[1;32m     <a href='vscode-notebook-cell:/Users/caoyujia/Desktop/Color/bluer_sky/get_silimarfollowers.ipynb#W4sZmlsZQ%3D%3D?line=24'>25</a>\u001b[0m get_user_following_the_same_account(following, \u001b[39m\"\u001b[39m\u001b[39mdid:plc:snjxvu5fmqeyto5dqlwxjwgq\u001b[39m\u001b[39m\"\u001b[39m)\n\u001b[0;32m---> <a href='vscode-notebook-cell:/Users/caoyujia/Desktop/Color/bluer_sky/get_silimarfollowers.ipynb#W4sZmlsZQ%3D%3D?line=26'>27</a>\u001b[0m did \u001b[39m=\u001b[39m get_did(profiles, handle \u001b[39m=\u001b[39m \u001b[39minput\u001b[39m(\u001b[39m\"\u001b[39m\u001b[39minput your handle:\u001b[39m\u001b[39m\"\u001b[39m))\n\u001b[1;32m     <a href='vscode-notebook-cell:/Users/caoyujia/Desktop/Color/bluer_sky/get_silimarfollowers.ipynb#W4sZmlsZQ%3D%3D?line=27'>28</a>\u001b[0m filtered \u001b[39m=\u001b[39m get_user_following_the_same_account(following, did)\n\u001b[1;32m     <a href='vscode-notebook-cell:/Users/caoyujia/Desktop/Color/bluer_sky/get_silimarfollowers.ipynb#W4sZmlsZQ%3D%3D?line=28'>29</a>\u001b[0m filtered[\u001b[39m'\u001b[39m\u001b[39muser_name\u001b[39m\u001b[39m'\u001b[39m] \u001b[39m=\u001b[39m profiles[\u001b[39m'\u001b[39m\u001b[39mhandle\u001b[39m\u001b[39m'\u001b[39m]\n",
      "\u001b[1;32m/Users/caoyujia/Desktop/Color/bluer_sky/get_silimarfollowers.ipynb Cell 3\u001b[0m line \u001b[0;36m2\n\u001b[1;32m      <a href='vscode-notebook-cell:/Users/caoyujia/Desktop/Color/bluer_sky/get_silimarfollowers.ipynb#W4sZmlsZQ%3D%3D?line=0'>1</a>\u001b[0m \u001b[39mdef\u001b[39;00m \u001b[39mget_did\u001b[39m(profiles, handle):\n\u001b[0;32m----> <a href='vscode-notebook-cell:/Users/caoyujia/Desktop/Color/bluer_sky/get_silimarfollowers.ipynb#W4sZmlsZQ%3D%3D?line=1'>2</a>\u001b[0m     \u001b[39mreturn\u001b[39;00m \u001b[39mstr\u001b[39m(profiles[profiles[\u001b[39m'\u001b[39m\u001b[39mhandle\u001b[39m\u001b[39m'\u001b[39m] \u001b[39m==\u001b[39m handle][\u001b[39m'\u001b[39m\u001b[39mdid\u001b[39m\u001b[39m'\u001b[39m]\u001b[39m.\u001b[39mvalues[\u001b[39m0\u001b[39m])\n",
      "\u001b[0;31mIndexError\u001b[0m: index 0 is out of bounds for axis 0 with size 0"
     ]
    }
   ],
   "source": [
    "def get_user_following_the_same_account(df, user_did):\n",
    "    # Filter DataFrame to get rows with the same subject as user_did\n",
    "    same_subject_df = df[df['subject'].isin(df[df['did'] == user_did]['subject'])]\n",
    "    \n",
    "    # Filter DataFrame to get rows with different did than user_did\n",
    "    different_did_df = same_subject_df[same_subject_df['did'] != user_did]\n",
    "    \n",
    "    # Get unique did values\n",
    "    unique_dids = different_did_df['did'].unique()\n",
    "    \n",
    "    # Calculate the number of overlapping subjects for each DID\n",
    "    overlapping_counts = []\n",
    "    for did in unique_dids:\n",
    "        overlapping_count = same_subject_df[same_subject_df['did'] == did]['subject'].nunique()\n",
    "        overlapping_counts.append((did, overlapping_count))\n",
    "    \n",
    "    # Create a DataFrame to store the overlapping counts\n",
    "    overlapping_df = pd.DataFrame(overlapping_counts, columns=['did', 'overlapping_subject_count'])\n",
    "    \n",
    "    # Sort the DataFrame by overlapping subject count in descending order\n",
    "    overlapping_df = overlapping_df.sort_values(by='overlapping_subject_count', ascending=False)\n",
    "    \n",
    "    return overlapping_df\n",
    "\n",
    "get_user_following_the_same_account(following, \"did:plc:snjxvu5fmqeyto5dqlwxjwgq\")\n",
    "\n",
    "did = get_did(profiles, handle = input(\"input your handle:\"))\n",
    "filtered = get_user_following_the_same_account(following, did)\n",
    "filtered['user_name'] = profiles['handle']\n",
    "filtered.drop('did', axis=1, inplace=True)\n",
    "total = profiles[profiles['did'] == did]['follows_count']\n",
    "\n",
    "# Check if filtered and total DataFrames are not empty before accessing their columns\n",
    "if not filtered.empty and not total.empty:\n",
    "    filtered['overlapping_subject_count'] = filtered['overlapping_subject_count'] / total.iloc[0]\n",
    "    print(filtered)\n",
    "else:\n",
    "    print(\"Filtered or total DataFrame is empty.\")"
   ]
  },
  {
   "cell_type": "code",
   "execution_count": null,
   "metadata": {},
   "outputs": [],
   "source": []
  }
 ],
 "metadata": {
  "kernelspec": {
   "display_name": "base",
   "language": "python",
   "name": "python3"
  },
  "language_info": {
   "codemirror_mode": {
    "name": "ipython",
    "version": 3
   },
   "file_extension": ".py",
   "mimetype": "text/x-python",
   "name": "python",
   "nbconvert_exporter": "python",
   "pygments_lexer": "ipython3",
   "version": "3.11.5"
  }
 },
 "nbformat": 4,
 "nbformat_minor": 2
}

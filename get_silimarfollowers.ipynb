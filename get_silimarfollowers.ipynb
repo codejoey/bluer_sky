{
 "cells": [
  {
   "cell_type": "code",
   "execution_count": 4,
   "metadata": {},
   "outputs": [
    {
     "name": "stdout",
     "output_type": "stream",
     "text": [
      "Index(['Unnamed: 0', 'uri', 'did', 'subject', 'created_at', 'display_name',\n",
      "       'description', 'followers_count', 'follows_count', 'posts_count'],\n",
      "      dtype='object')\n"
     ]
    }
   ],
   "source": [
    "import pandas as pd\n",
    "following = pd.read_csv(\"following.csv\")\n",
    "print(following.keys())"
   ]
  },
  {
   "cell_type": "code",
   "execution_count": 9,
   "metadata": {},
   "outputs": [
    {
     "data": {
      "text/html": [
       "<div>\n",
       "<style scoped>\n",
       "    .dataframe tbody tr th:only-of-type {\n",
       "        vertical-align: middle;\n",
       "    }\n",
       "\n",
       "    .dataframe tbody tr th {\n",
       "        vertical-align: top;\n",
       "    }\n",
       "\n",
       "    .dataframe thead th {\n",
       "        text-align: right;\n",
       "    }\n",
       "</style>\n",
       "<table border=\"1\" class=\"dataframe\">\n",
       "  <thead>\n",
       "    <tr style=\"text-align: right;\">\n",
       "      <th></th>\n",
       "      <th>did</th>\n",
       "      <th>overlapping_subject_count</th>\n",
       "    </tr>\n",
       "  </thead>\n",
       "  <tbody>\n",
       "    <tr>\n",
       "      <th>427</th>\n",
       "      <td>did:plc:mdpndtkinvfaxtf64ubgftzs</td>\n",
       "      <td>12</td>\n",
       "    </tr>\n",
       "    <tr>\n",
       "      <th>23</th>\n",
       "      <td>did:plc:upo6iq6ekh66d4mbhmiy6se4</td>\n",
       "      <td>9</td>\n",
       "    </tr>\n",
       "    <tr>\n",
       "      <th>210</th>\n",
       "      <td>did:plc:x37liwax4fxotpumelqu4pmu</td>\n",
       "      <td>9</td>\n",
       "    </tr>\n",
       "    <tr>\n",
       "      <th>406</th>\n",
       "      <td>did:plc:ewvi7nxzyoun6zhxrhs64oiz</td>\n",
       "      <td>9</td>\n",
       "    </tr>\n",
       "    <tr>\n",
       "      <th>32</th>\n",
       "      <td>did:plc:vj2zps5rtuvj3jhblsv54kzz</td>\n",
       "      <td>7</td>\n",
       "    </tr>\n",
       "    <tr>\n",
       "      <th>...</th>\n",
       "      <td>...</td>\n",
       "      <td>...</td>\n",
       "    </tr>\n",
       "    <tr>\n",
       "      <th>182</th>\n",
       "      <td>did:plc:ogrba2lmhzjdnpqsdxwffue4</td>\n",
       "      <td>1</td>\n",
       "    </tr>\n",
       "    <tr>\n",
       "      <th>180</th>\n",
       "      <td>did:plc:s36fzun6eeevankxtkhq5arv</td>\n",
       "      <td>1</td>\n",
       "    </tr>\n",
       "    <tr>\n",
       "      <th>178</th>\n",
       "      <td>did:plc:wki7wnpoq63hkuaz5uo6mlub</td>\n",
       "      <td>1</td>\n",
       "    </tr>\n",
       "    <tr>\n",
       "      <th>177</th>\n",
       "      <td>did:plc:rr2ic7hgetx4tk7c44bcvzvs</td>\n",
       "      <td>1</td>\n",
       "    </tr>\n",
       "    <tr>\n",
       "      <th>485</th>\n",
       "      <td>did:plc:7r5c5jhtphcpkg3y55xu2y64</td>\n",
       "      <td>1</td>\n",
       "    </tr>\n",
       "  </tbody>\n",
       "</table>\n",
       "<p>486 rows × 2 columns</p>\n",
       "</div>"
      ],
      "text/plain": [
       "                                  did  overlapping_subject_count\n",
       "427  did:plc:mdpndtkinvfaxtf64ubgftzs                         12\n",
       "23   did:plc:upo6iq6ekh66d4mbhmiy6se4                          9\n",
       "210  did:plc:x37liwax4fxotpumelqu4pmu                          9\n",
       "406  did:plc:ewvi7nxzyoun6zhxrhs64oiz                          9\n",
       "32   did:plc:vj2zps5rtuvj3jhblsv54kzz                          7\n",
       "..                                ...                        ...\n",
       "182  did:plc:ogrba2lmhzjdnpqsdxwffue4                          1\n",
       "180  did:plc:s36fzun6eeevankxtkhq5arv                          1\n",
       "178  did:plc:wki7wnpoq63hkuaz5uo6mlub                          1\n",
       "177  did:plc:rr2ic7hgetx4tk7c44bcvzvs                          1\n",
       "485  did:plc:7r5c5jhtphcpkg3y55xu2y64                          1\n",
       "\n",
       "[486 rows x 2 columns]"
      ]
     },
     "execution_count": 9,
     "metadata": {},
     "output_type": "execute_result"
    }
   ],
   "source": [
    "def get_user_following_the_same_account(df, user_did):\n",
    "    # Filter DataFrame to get rows with the same subject as user_did\n",
    "    same_subject_df = df[df['subject'].isin(df[df['did'] == user_did]['subject'])]\n",
    "    \n",
    "    # Filter DataFrame to get rows with different did than user_did\n",
    "    different_did_df = same_subject_df[same_subject_df['did'] != user_did]\n",
    "    \n",
    "    # Get unique did values\n",
    "    unique_dids = different_did_df['did'].unique()\n",
    "    \n",
    "    # Calculate the number of overlapping subjects for each DID\n",
    "    overlapping_counts = []\n",
    "    for did in unique_dids:\n",
    "        overlapping_count = same_subject_df[same_subject_df['did'] == did]['subject'].nunique()\n",
    "        overlapping_counts.append((did, overlapping_count))\n",
    "    \n",
    "    # Create a DataFrame to store the overlapping counts\n",
    "    overlapping_df = pd.DataFrame(overlapping_counts, columns=['did', 'overlapping_subject_count'])\n",
    "    \n",
    "    # Sort the DataFrame by overlapping subject count in descending order\n",
    "    overlapping_df = overlapping_df.sort_values(by='overlapping_subject_count', ascending=False)\n",
    "    \n",
    "    return overlapping_df\n",
    "\n",
    "get_user_following_the_same_account(following, \"did:plc:snjxvu5fmqeyto5dqlwxjwgq\")"
   ]
  }
 ],
 "metadata": {
  "kernelspec": {
   "display_name": "base",
   "language": "python",
   "name": "python3"
  },
  "language_info": {
   "codemirror_mode": {
    "name": "ipython",
    "version": 3
   },
   "file_extension": ".py",
   "mimetype": "text/x-python",
   "name": "python",
   "nbconvert_exporter": "python",
   "pygments_lexer": "ipython3",
   "version": "3.11.5"
  }
 },
 "nbformat": 4,
 "nbformat_minor": 2
}
